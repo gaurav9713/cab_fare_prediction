{
 "cells": [
  {
   "cell_type": "code",
   "execution_count": 1,
   "metadata": {},
   "outputs": [],
   "source": [
    "import pandas as pd\n",
    "import numpy as np\n",
    "import matplotlib.pyplot as plt\n",
    "import seaborn as sns\n",
    "from fancyimpute import KNN\n",
    "from geopy.distance import geodesic\n",
    "import sys\n",
    "!{sys.executable} -m pip install geopy\n",
    "from scipy.stats import chi2_contingency\n",
    "from statsmodels.stats.outliers_influence import variance_inflation_factor\n",
    "from sklearn.model_selection import train_test_split\n",
    "from sklearn.metrics import mean_squared_error, r2_score\n",
    "from sklearn.model_selection import GridSearchCV\n",
    "from sklearn.linear_model import LinearRegression\n",
    "from sklearn.model_selection import cross_val_score\n",
    "from sklearn.linear_model import Ridge\n",
    "from sklearn.linear_model import Lasso\n",
    "from sklearn.tree import DecisionTreeRegressor\n",
    "from sklearn.ensemble import RandomForestRegressor\n",
    "from sklearn.linear_model import ElasticNet\n",
    "from sklearn.model_selection import RandomizedSearchCV\n",
    "from random import uniform\n",
    "import joblib"
   ]
  },
  {
   "cell_type": "code",
   "execution_count": 11,
   "metadata": {},
   "outputs": [],
   "source": []
  },
  {
   "cell_type": "code",
   "execution_count": 2,
   "metadata": {},
   "outputs": [],
   "source": [
    "df = pd.read_csv('train_cab.csv')"
   ]
  },
  {
   "cell_type": "code",
   "execution_count": 3,
   "metadata": {},
   "outputs": [
    {
     "data": {
      "text/html": [
       "<div>\n",
       "<style scoped>\n",
       "    .dataframe tbody tr th:only-of-type {\n",
       "        vertical-align: middle;\n",
       "    }\n",
       "\n",
       "    .dataframe tbody tr th {\n",
       "        vertical-align: top;\n",
       "    }\n",
       "\n",
       "    .dataframe thead th {\n",
       "        text-align: right;\n",
       "    }\n",
       "</style>\n",
       "<table border=\"1\" class=\"dataframe\">\n",
       "  <thead>\n",
       "    <tr style=\"text-align: right;\">\n",
       "      <th></th>\n",
       "      <th>fare_amount</th>\n",
       "      <th>pickup_datetime</th>\n",
       "      <th>pickup_longitude</th>\n",
       "      <th>pickup_latitude</th>\n",
       "      <th>dropoff_longitude</th>\n",
       "      <th>dropoff_latitude</th>\n",
       "      <th>passenger_count</th>\n",
       "    </tr>\n",
       "  </thead>\n",
       "  <tbody>\n",
       "    <tr>\n",
       "      <th>0</th>\n",
       "      <td>4.5</td>\n",
       "      <td>2009-06-15 17:26:21 UTC</td>\n",
       "      <td>-73.844311</td>\n",
       "      <td>40.721319</td>\n",
       "      <td>-73.841610</td>\n",
       "      <td>40.712278</td>\n",
       "      <td>1.0</td>\n",
       "    </tr>\n",
       "    <tr>\n",
       "      <th>1</th>\n",
       "      <td>16.9</td>\n",
       "      <td>2010-01-05 16:52:16 UTC</td>\n",
       "      <td>-74.016048</td>\n",
       "      <td>40.711303</td>\n",
       "      <td>-73.979268</td>\n",
       "      <td>40.782004</td>\n",
       "      <td>1.0</td>\n",
       "    </tr>\n",
       "    <tr>\n",
       "      <th>2</th>\n",
       "      <td>5.7</td>\n",
       "      <td>2011-08-18 00:35:00 UTC</td>\n",
       "      <td>-73.982738</td>\n",
       "      <td>40.761270</td>\n",
       "      <td>-73.991242</td>\n",
       "      <td>40.750562</td>\n",
       "      <td>2.0</td>\n",
       "    </tr>\n",
       "    <tr>\n",
       "      <th>3</th>\n",
       "      <td>7.7</td>\n",
       "      <td>2012-04-21 04:30:42 UTC</td>\n",
       "      <td>-73.987130</td>\n",
       "      <td>40.733143</td>\n",
       "      <td>-73.991567</td>\n",
       "      <td>40.758092</td>\n",
       "      <td>1.0</td>\n",
       "    </tr>\n",
       "    <tr>\n",
       "      <th>4</th>\n",
       "      <td>5.3</td>\n",
       "      <td>2010-03-09 07:51:00 UTC</td>\n",
       "      <td>-73.968095</td>\n",
       "      <td>40.768008</td>\n",
       "      <td>-73.956655</td>\n",
       "      <td>40.783762</td>\n",
       "      <td>1.0</td>\n",
       "    </tr>\n",
       "  </tbody>\n",
       "</table>\n",
       "</div>"
      ],
      "text/plain": [
       "  fare_amount          pickup_datetime  pickup_longitude  pickup_latitude  \\\n",
       "0         4.5  2009-06-15 17:26:21 UTC        -73.844311        40.721319   \n",
       "1        16.9  2010-01-05 16:52:16 UTC        -74.016048        40.711303   \n",
       "2         5.7  2011-08-18 00:35:00 UTC        -73.982738        40.761270   \n",
       "3         7.7  2012-04-21 04:30:42 UTC        -73.987130        40.733143   \n",
       "4         5.3  2010-03-09 07:51:00 UTC        -73.968095        40.768008   \n",
       "\n",
       "   dropoff_longitude  dropoff_latitude  passenger_count  \n",
       "0         -73.841610         40.712278              1.0  \n",
       "1         -73.979268         40.782004              1.0  \n",
       "2         -73.991242         40.750562              2.0  \n",
       "3         -73.991567         40.758092              1.0  \n",
       "4         -73.956655         40.783762              1.0  "
      ]
     },
     "execution_count": 3,
     "metadata": {},
     "output_type": "execute_result"
    }
   ],
   "source": [
    "df.head()"
   ]
  },
  {
   "cell_type": "code",
   "execution_count": 4,
   "metadata": {},
   "outputs": [
    {
     "data": {
      "text/plain": [
       "Index(['fare_amount', 'pickup_datetime', 'pickup_longitude', 'pickup_latitude',\n",
       "       'dropoff_longitude', 'dropoff_latitude', 'passenger_count'],\n",
       "      dtype='object')"
      ]
     },
     "execution_count": 4,
     "metadata": {},
     "output_type": "execute_result"
    }
   ],
   "source": [
    "df.columns"
   ]
  },
  {
   "cell_type": "code",
   "execution_count": 5,
   "metadata": {},
   "outputs": [],
   "source": [
    "df = df[['pickup_datetime', 'pickup_longitude', 'pickup_latitude',\n",
    "       'dropoff_longitude', 'dropoff_latitude', 'passenger_count', 'fare_amount']]"
   ]
  },
  {
   "cell_type": "code",
   "execution_count": 6,
   "metadata": {},
   "outputs": [
    {
     "data": {
      "text/html": [
       "<div>\n",
       "<style scoped>\n",
       "    .dataframe tbody tr th:only-of-type {\n",
       "        vertical-align: middle;\n",
       "    }\n",
       "\n",
       "    .dataframe tbody tr th {\n",
       "        vertical-align: top;\n",
       "    }\n",
       "\n",
       "    .dataframe thead th {\n",
       "        text-align: right;\n",
       "    }\n",
       "</style>\n",
       "<table border=\"1\" class=\"dataframe\">\n",
       "  <thead>\n",
       "    <tr style=\"text-align: right;\">\n",
       "      <th></th>\n",
       "      <th>pickup_datetime</th>\n",
       "      <th>pickup_longitude</th>\n",
       "      <th>pickup_latitude</th>\n",
       "      <th>dropoff_longitude</th>\n",
       "      <th>dropoff_latitude</th>\n",
       "      <th>passenger_count</th>\n",
       "      <th>fare_amount</th>\n",
       "    </tr>\n",
       "  </thead>\n",
       "  <tbody>\n",
       "    <tr>\n",
       "      <th>0</th>\n",
       "      <td>2009-06-15 17:26:21 UTC</td>\n",
       "      <td>-73.844311</td>\n",
       "      <td>40.721319</td>\n",
       "      <td>-73.841610</td>\n",
       "      <td>40.712278</td>\n",
       "      <td>1.0</td>\n",
       "      <td>4.5</td>\n",
       "    </tr>\n",
       "    <tr>\n",
       "      <th>1</th>\n",
       "      <td>2010-01-05 16:52:16 UTC</td>\n",
       "      <td>-74.016048</td>\n",
       "      <td>40.711303</td>\n",
       "      <td>-73.979268</td>\n",
       "      <td>40.782004</td>\n",
       "      <td>1.0</td>\n",
       "      <td>16.9</td>\n",
       "    </tr>\n",
       "    <tr>\n",
       "      <th>2</th>\n",
       "      <td>2011-08-18 00:35:00 UTC</td>\n",
       "      <td>-73.982738</td>\n",
       "      <td>40.761270</td>\n",
       "      <td>-73.991242</td>\n",
       "      <td>40.750562</td>\n",
       "      <td>2.0</td>\n",
       "      <td>5.7</td>\n",
       "    </tr>\n",
       "    <tr>\n",
       "      <th>3</th>\n",
       "      <td>2012-04-21 04:30:42 UTC</td>\n",
       "      <td>-73.987130</td>\n",
       "      <td>40.733143</td>\n",
       "      <td>-73.991567</td>\n",
       "      <td>40.758092</td>\n",
       "      <td>1.0</td>\n",
       "      <td>7.7</td>\n",
       "    </tr>\n",
       "    <tr>\n",
       "      <th>4</th>\n",
       "      <td>2010-03-09 07:51:00 UTC</td>\n",
       "      <td>-73.968095</td>\n",
       "      <td>40.768008</td>\n",
       "      <td>-73.956655</td>\n",
       "      <td>40.783762</td>\n",
       "      <td>1.0</td>\n",
       "      <td>5.3</td>\n",
       "    </tr>\n",
       "  </tbody>\n",
       "</table>\n",
       "</div>"
      ],
      "text/plain": [
       "           pickup_datetime  pickup_longitude  pickup_latitude  \\\n",
       "0  2009-06-15 17:26:21 UTC        -73.844311        40.721319   \n",
       "1  2010-01-05 16:52:16 UTC        -74.016048        40.711303   \n",
       "2  2011-08-18 00:35:00 UTC        -73.982738        40.761270   \n",
       "3  2012-04-21 04:30:42 UTC        -73.987130        40.733143   \n",
       "4  2010-03-09 07:51:00 UTC        -73.968095        40.768008   \n",
       "\n",
       "   dropoff_longitude  dropoff_latitude  passenger_count fare_amount  \n",
       "0         -73.841610         40.712278              1.0         4.5  \n",
       "1         -73.979268         40.782004              1.0        16.9  \n",
       "2         -73.991242         40.750562              2.0         5.7  \n",
       "3         -73.991567         40.758092              1.0         7.7  \n",
       "4         -73.956655         40.783762              1.0         5.3  "
      ]
     },
     "execution_count": 6,
     "metadata": {},
     "output_type": "execute_result"
    }
   ],
   "source": [
    "df.head()"
   ]
  },
  {
   "cell_type": "code",
   "execution_count": 8,
   "metadata": {},
   "outputs": [
    {
     "data": {
      "text/html": [
       "<div>\n",
       "<style scoped>\n",
       "    .dataframe tbody tr th:only-of-type {\n",
       "        vertical-align: middle;\n",
       "    }\n",
       "\n",
       "    .dataframe tbody tr th {\n",
       "        vertical-align: top;\n",
       "    }\n",
       "\n",
       "    .dataframe thead th {\n",
       "        text-align: right;\n",
       "    }\n",
       "</style>\n",
       "<table border=\"1\" class=\"dataframe\">\n",
       "  <thead>\n",
       "    <tr style=\"text-align: right;\">\n",
       "      <th></th>\n",
       "      <th>0</th>\n",
       "    </tr>\n",
       "  </thead>\n",
       "  <tbody>\n",
       "    <tr>\n",
       "      <th>pickup_datetime</th>\n",
       "      <td>0</td>\n",
       "    </tr>\n",
       "    <tr>\n",
       "      <th>pickup_longitude</th>\n",
       "      <td>0</td>\n",
       "    </tr>\n",
       "    <tr>\n",
       "      <th>pickup_latitude</th>\n",
       "      <td>0</td>\n",
       "    </tr>\n",
       "    <tr>\n",
       "      <th>dropoff_longitude</th>\n",
       "      <td>0</td>\n",
       "    </tr>\n",
       "    <tr>\n",
       "      <th>dropoff_latitude</th>\n",
       "      <td>0</td>\n",
       "    </tr>\n",
       "    <tr>\n",
       "      <th>passenger_count</th>\n",
       "      <td>55</td>\n",
       "    </tr>\n",
       "    <tr>\n",
       "      <th>fare_amount</th>\n",
       "      <td>24</td>\n",
       "    </tr>\n",
       "  </tbody>\n",
       "</table>\n",
       "</div>"
      ],
      "text/plain": [
       "                    0\n",
       "pickup_datetime     0\n",
       "pickup_longitude    0\n",
       "pickup_latitude     0\n",
       "dropoff_longitude   0\n",
       "dropoff_latitude    0\n",
       "passenger_count    55\n",
       "fare_amount        24"
      ]
     },
     "execution_count": 8,
     "metadata": {},
     "output_type": "execute_result"
    }
   ],
   "source": [
    "pd.DataFrame(df.isnull().sum())"
   ]
  },
  {
   "cell_type": "code",
   "execution_count": 30,
   "metadata": {},
   "outputs": [
    {
     "data": {
      "text/html": [
       "<div>\n",
       "<style scoped>\n",
       "    .dataframe tbody tr th:only-of-type {\n",
       "        vertical-align: middle;\n",
       "    }\n",
       "\n",
       "    .dataframe tbody tr th {\n",
       "        vertical-align: top;\n",
       "    }\n",
       "\n",
       "    .dataframe thead th {\n",
       "        text-align: right;\n",
       "    }\n",
       "</style>\n",
       "<table border=\"1\" class=\"dataframe\">\n",
       "  <thead>\n",
       "    <tr style=\"text-align: right;\">\n",
       "      <th></th>\n",
       "      <th>pickup_longitude</th>\n",
       "      <th>pickup_latitude</th>\n",
       "      <th>dropoff_longitude</th>\n",
       "      <th>dropoff_latitude</th>\n",
       "      <th>passenger_count</th>\n",
       "    </tr>\n",
       "  </thead>\n",
       "  <tbody>\n",
       "    <tr>\n",
       "      <th>count</th>\n",
       "      <td>16067.000000</td>\n",
       "      <td>16067.000000</td>\n",
       "      <td>16067.000000</td>\n",
       "      <td>16067.000000</td>\n",
       "      <td>16012.000000</td>\n",
       "    </tr>\n",
       "    <tr>\n",
       "      <th>mean</th>\n",
       "      <td>-72.462787</td>\n",
       "      <td>39.914725</td>\n",
       "      <td>-72.462328</td>\n",
       "      <td>39.897906</td>\n",
       "      <td>2.625070</td>\n",
       "    </tr>\n",
       "    <tr>\n",
       "      <th>std</th>\n",
       "      <td>10.578384</td>\n",
       "      <td>6.826587</td>\n",
       "      <td>10.575062</td>\n",
       "      <td>6.187087</td>\n",
       "      <td>60.844122</td>\n",
       "    </tr>\n",
       "    <tr>\n",
       "      <th>min</th>\n",
       "      <td>-74.438233</td>\n",
       "      <td>-74.006893</td>\n",
       "      <td>-74.429332</td>\n",
       "      <td>-74.006377</td>\n",
       "      <td>0.000000</td>\n",
       "    </tr>\n",
       "    <tr>\n",
       "      <th>25%</th>\n",
       "      <td>-73.992156</td>\n",
       "      <td>40.734927</td>\n",
       "      <td>-73.991182</td>\n",
       "      <td>40.734651</td>\n",
       "      <td>1.000000</td>\n",
       "    </tr>\n",
       "    <tr>\n",
       "      <th>50%</th>\n",
       "      <td>-73.981698</td>\n",
       "      <td>40.752603</td>\n",
       "      <td>-73.980172</td>\n",
       "      <td>40.753567</td>\n",
       "      <td>1.000000</td>\n",
       "    </tr>\n",
       "    <tr>\n",
       "      <th>75%</th>\n",
       "      <td>-73.966838</td>\n",
       "      <td>40.767381</td>\n",
       "      <td>-73.963643</td>\n",
       "      <td>40.768013</td>\n",
       "      <td>2.000000</td>\n",
       "    </tr>\n",
       "    <tr>\n",
       "      <th>max</th>\n",
       "      <td>40.766125</td>\n",
       "      <td>401.083332</td>\n",
       "      <td>40.802437</td>\n",
       "      <td>41.366138</td>\n",
       "      <td>5345.000000</td>\n",
       "    </tr>\n",
       "  </tbody>\n",
       "</table>\n",
       "</div>"
      ],
      "text/plain": [
       "       pickup_longitude  pickup_latitude  dropoff_longitude  dropoff_latitude  \\\n",
       "count      16067.000000     16067.000000       16067.000000      16067.000000   \n",
       "mean         -72.462787        39.914725         -72.462328         39.897906   \n",
       "std           10.578384         6.826587          10.575062          6.187087   \n",
       "min          -74.438233       -74.006893         -74.429332        -74.006377   \n",
       "25%          -73.992156        40.734927         -73.991182         40.734651   \n",
       "50%          -73.981698        40.752603         -73.980172         40.753567   \n",
       "75%          -73.966838        40.767381         -73.963643         40.768013   \n",
       "max           40.766125       401.083332          40.802437         41.366138   \n",
       "\n",
       "       passenger_count  \n",
       "count     16012.000000  \n",
       "mean          2.625070  \n",
       "std          60.844122  \n",
       "min           0.000000  \n",
       "25%           1.000000  \n",
       "50%           1.000000  \n",
       "75%           2.000000  \n",
       "max        5345.000000  "
      ]
     },
     "execution_count": 30,
     "metadata": {},
     "output_type": "execute_result"
    }
   ],
   "source": [
    "df.describe()"
   ]
  },
  {
   "cell_type": "code",
   "execution_count": 9,
   "metadata": {},
   "outputs": [],
   "source": [
    "#Data visualisation"
   ]
  },
  {
   "cell_type": "code",
   "execution_count": 13,
   "metadata": {},
   "outputs": [],
   "source": [
    "cat_var = df['passenger_count']\n",
    "num_var = df[['pickup_longitude', 'pickup_latitude',\n",
    "       'dropoff_longitude', 'dropoff_latitude','fare_amount']]"
   ]
  },
  {
   "cell_type": "code",
   "execution_count": null,
   "metadata": {},
   "outputs": [],
   "source": []
  },
  {
   "cell_type": "code",
   "execution_count": 14,
   "metadata": {},
   "outputs": [
    {
     "data": {
      "text/html": [
       "<div>\n",
       "<style scoped>\n",
       "    .dataframe tbody tr th:only-of-type {\n",
       "        vertical-align: middle;\n",
       "    }\n",
       "\n",
       "    .dataframe tbody tr th {\n",
       "        vertical-align: top;\n",
       "    }\n",
       "\n",
       "    .dataframe thead th {\n",
       "        text-align: right;\n",
       "    }\n",
       "</style>\n",
       "<table border=\"1\" class=\"dataframe\">\n",
       "  <thead>\n",
       "    <tr style=\"text-align: right;\">\n",
       "      <th></th>\n",
       "      <th>pickup_longitude</th>\n",
       "      <th>pickup_latitude</th>\n",
       "      <th>dropoff_longitude</th>\n",
       "      <th>dropoff_latitude</th>\n",
       "      <th>fare_amount</th>\n",
       "    </tr>\n",
       "  </thead>\n",
       "  <tbody>\n",
       "    <tr>\n",
       "      <th>0</th>\n",
       "      <td>-73.844311</td>\n",
       "      <td>40.721319</td>\n",
       "      <td>-73.841610</td>\n",
       "      <td>40.712278</td>\n",
       "      <td>4.5</td>\n",
       "    </tr>\n",
       "    <tr>\n",
       "      <th>1</th>\n",
       "      <td>-74.016048</td>\n",
       "      <td>40.711303</td>\n",
       "      <td>-73.979268</td>\n",
       "      <td>40.782004</td>\n",
       "      <td>16.9</td>\n",
       "    </tr>\n",
       "    <tr>\n",
       "      <th>2</th>\n",
       "      <td>-73.982738</td>\n",
       "      <td>40.761270</td>\n",
       "      <td>-73.991242</td>\n",
       "      <td>40.750562</td>\n",
       "      <td>5.7</td>\n",
       "    </tr>\n",
       "    <tr>\n",
       "      <th>3</th>\n",
       "      <td>-73.987130</td>\n",
       "      <td>40.733143</td>\n",
       "      <td>-73.991567</td>\n",
       "      <td>40.758092</td>\n",
       "      <td>7.7</td>\n",
       "    </tr>\n",
       "    <tr>\n",
       "      <th>4</th>\n",
       "      <td>-73.968095</td>\n",
       "      <td>40.768008</td>\n",
       "      <td>-73.956655</td>\n",
       "      <td>40.783762</td>\n",
       "      <td>5.3</td>\n",
       "    </tr>\n",
       "  </tbody>\n",
       "</table>\n",
       "</div>"
      ],
      "text/plain": [
       "   pickup_longitude  pickup_latitude  dropoff_longitude  dropoff_latitude  \\\n",
       "0        -73.844311        40.721319         -73.841610         40.712278   \n",
       "1        -74.016048        40.711303         -73.979268         40.782004   \n",
       "2        -73.982738        40.761270         -73.991242         40.750562   \n",
       "3        -73.987130        40.733143         -73.991567         40.758092   \n",
       "4        -73.968095        40.768008         -73.956655         40.783762   \n",
       "\n",
       "  fare_amount  \n",
       "0         4.5  \n",
       "1        16.9  \n",
       "2         5.7  \n",
       "3         7.7  \n",
       "4         5.3  "
      ]
     },
     "execution_count": 14,
     "metadata": {},
     "output_type": "execute_result"
    }
   ],
   "source": [
    "num_var.head()"
   ]
  },
  {
   "cell_type": "code",
   "execution_count": 12,
   "metadata": {},
   "outputs": [],
   "source": [
    "sns.set(style='darkgrid',palette='deep')"
   ]
  },
  {
   "cell_type": "code",
   "execution_count": 23,
   "metadata": {},
   "outputs": [
    {
     "data": {
      "text/plain": [
       "Int64Index([1123], dtype='int64')"
      ]
     },
     "execution_count": 23,
     "metadata": {},
     "output_type": "execute_result"
    }
   ],
   "source": [
    "df[df['fare_amount'] == '430-'].index"
   ]
  },
  {
   "cell_type": "code",
   "execution_count": 26,
   "metadata": {},
   "outputs": [],
   "source": [
    "df['fare_amount'][1123] = np.nan"
   ]
  },
  {
   "cell_type": "code",
   "execution_count": null,
   "metadata": {},
   "outputs": [],
   "source": [
    "#Data Preprocessing\n",
    "#Outlier analysis"
   ]
  },
  {
   "cell_type": "code",
   "execution_count": 32,
   "metadata": {},
   "outputs": [
    {
     "data": {
      "text/html": [
       "<div>\n",
       "<style scoped>\n",
       "    .dataframe tbody tr th:only-of-type {\n",
       "        vertical-align: middle;\n",
       "    }\n",
       "\n",
       "    .dataframe tbody tr th {\n",
       "        vertical-align: top;\n",
       "    }\n",
       "\n",
       "    .dataframe thead th {\n",
       "        text-align: right;\n",
       "    }\n",
       "</style>\n",
       "<table border=\"1\" class=\"dataframe\">\n",
       "  <thead>\n",
       "    <tr style=\"text-align: right;\">\n",
       "      <th></th>\n",
       "      <th>pickup_datetime</th>\n",
       "      <th>pickup_longitude</th>\n",
       "      <th>pickup_latitude</th>\n",
       "      <th>dropoff_longitude</th>\n",
       "      <th>dropoff_latitude</th>\n",
       "      <th>passenger_count</th>\n",
       "      <th>fare_amount</th>\n",
       "    </tr>\n",
       "  </thead>\n",
       "  <tbody>\n",
       "    <tr>\n",
       "      <th>0</th>\n",
       "      <td>2009-06-15 17:26:21 UTC</td>\n",
       "      <td>-73.844311</td>\n",
       "      <td>40.721319</td>\n",
       "      <td>-73.841610</td>\n",
       "      <td>40.712278</td>\n",
       "      <td>1.0</td>\n",
       "      <td>4.5</td>\n",
       "    </tr>\n",
       "    <tr>\n",
       "      <th>1</th>\n",
       "      <td>2010-01-05 16:52:16 UTC</td>\n",
       "      <td>-74.016048</td>\n",
       "      <td>40.711303</td>\n",
       "      <td>-73.979268</td>\n",
       "      <td>40.782004</td>\n",
       "      <td>1.0</td>\n",
       "      <td>16.9</td>\n",
       "    </tr>\n",
       "    <tr>\n",
       "      <th>2</th>\n",
       "      <td>2011-08-18 00:35:00 UTC</td>\n",
       "      <td>-73.982738</td>\n",
       "      <td>40.761270</td>\n",
       "      <td>-73.991242</td>\n",
       "      <td>40.750562</td>\n",
       "      <td>2.0</td>\n",
       "      <td>5.7</td>\n",
       "    </tr>\n",
       "    <tr>\n",
       "      <th>3</th>\n",
       "      <td>2012-04-21 04:30:42 UTC</td>\n",
       "      <td>-73.987130</td>\n",
       "      <td>40.733143</td>\n",
       "      <td>-73.991567</td>\n",
       "      <td>40.758092</td>\n",
       "      <td>1.0</td>\n",
       "      <td>7.7</td>\n",
       "    </tr>\n",
       "    <tr>\n",
       "      <th>4</th>\n",
       "      <td>2010-03-09 07:51:00 UTC</td>\n",
       "      <td>-73.968095</td>\n",
       "      <td>40.768008</td>\n",
       "      <td>-73.956655</td>\n",
       "      <td>40.783762</td>\n",
       "      <td>1.0</td>\n",
       "      <td>5.3</td>\n",
       "    </tr>\n",
       "  </tbody>\n",
       "</table>\n",
       "</div>"
      ],
      "text/plain": [
       "           pickup_datetime  pickup_longitude  pickup_latitude  \\\n",
       "0  2009-06-15 17:26:21 UTC        -73.844311        40.721319   \n",
       "1  2010-01-05 16:52:16 UTC        -74.016048        40.711303   \n",
       "2  2011-08-18 00:35:00 UTC        -73.982738        40.761270   \n",
       "3  2012-04-21 04:30:42 UTC        -73.987130        40.733143   \n",
       "4  2010-03-09 07:51:00 UTC        -73.968095        40.768008   \n",
       "\n",
       "   dropoff_longitude  dropoff_latitude  passenger_count fare_amount  \n",
       "0         -73.841610         40.712278              1.0         4.5  \n",
       "1         -73.979268         40.782004              1.0        16.9  \n",
       "2         -73.991242         40.750562              2.0         5.7  \n",
       "3         -73.991567         40.758092              1.0         7.7  \n",
       "4         -73.956655         40.783762              1.0         5.3  "
      ]
     },
     "execution_count": 32,
     "metadata": {},
     "output_type": "execute_result"
    }
   ],
   "source": [
    "df.head()"
   ]
  },
  {
   "cell_type": "code",
   "execution_count": 37,
   "metadata": {},
   "outputs": [
    {
     "data": {
      "text/plain": [
       "dtype('float64')"
      ]
     },
     "execution_count": 37,
     "metadata": {},
     "output_type": "execute_result"
    }
   ],
   "source": [
    "type(df['fare_amount'])\n",
    "df['fare_amount'].dtype"
   ]
  },
  {
   "cell_type": "code",
   "execution_count": 36,
   "metadata": {},
   "outputs": [],
   "source": [
    "df['fare_amount'] = pd.to_numeric(df['fare_amount'],errors='coerce')"
   ]
  },
  {
   "cell_type": "code",
   "execution_count": 38,
   "metadata": {},
   "outputs": [
    {
     "data": {
      "text/plain": [
       "5"
      ]
     },
     "execution_count": 38,
     "metadata": {},
     "output_type": "execute_result"
    }
   ],
   "source": [
    "sum(df['fare_amount'] < 1)"
   ]
  },
  {
   "cell_type": "code",
   "execution_count": 43,
   "metadata": {},
   "outputs": [],
   "source": [
    "idx = df[df['fare_amount']  < 1].index"
   ]
  },
  {
   "cell_type": "code",
   "execution_count": 50,
   "metadata": {},
   "outputs": [],
   "source": [
    "df = df.drop(index=idx, axis=0)"
   ]
  },
  {
   "cell_type": "code",
   "execution_count": 52,
   "metadata": {},
   "outputs": [
    {
     "data": {
      "text/plain": [
       "(16062, 7)"
      ]
     },
     "execution_count": 52,
     "metadata": {},
     "output_type": "execute_result"
    }
   ],
   "source": [
    "df.shape"
   ]
  },
  {
   "cell_type": "code",
   "execution_count": null,
   "metadata": {},
   "outputs": [],
   "source": [
    "#Passenger Count"
   ]
  },
  {
   "cell_type": "code",
   "execution_count": 56,
   "metadata": {},
   "outputs": [
    {
     "data": {
      "text/plain": [
       "1.00       11255\n",
       "2.00        2322\n",
       "5.00        1045\n",
       "3.00         676\n",
       "4.00         328\n",
       "6.00         302\n",
       "0.00          57\n",
       "43.00          2\n",
       "53.00          2\n",
       "0.12           1\n",
       "1.30           1\n",
       "531.20         1\n",
       "345.00         1\n",
       "456.00         1\n",
       "87.00          1\n",
       "55.00          1\n",
       "58.00          1\n",
       "236.00         1\n",
       "535.00         1\n",
       "536.00         1\n",
       "537.00         1\n",
       "554.00         1\n",
       "5334.00        1\n",
       "35.00          1\n",
       "5345.00        1\n",
       "557.00         1\n",
       "354.00         1\n",
       "Name: passenger_count, dtype: int64"
      ]
     },
     "execution_count": 56,
     "metadata": {},
     "output_type": "execute_result"
    }
   ],
   "source": [
    "df.passenger_count.value_counts()"
   ]
  },
  {
   "cell_type": "code",
   "execution_count": 57,
   "metadata": {},
   "outputs": [
    {
     "data": {
      "text/plain": [
       "dtype('float64')"
      ]
     },
     "execution_count": 57,
     "metadata": {},
     "output_type": "execute_result"
    }
   ],
   "source": [
    "df.passenger_count.dtype"
   ]
  },
  {
   "cell_type": "code",
   "execution_count": null,
   "metadata": {},
   "outputs": [],
   "source": [
    "#For a taxi passenger count cannot be greater than 6 and cannot be less than 1"
   ]
  },
  {
   "cell_type": "code",
   "execution_count": 58,
   "metadata": {},
   "outputs": [
    {
     "data": {
      "text/plain": [
       "20"
      ]
     },
     "execution_count": 58,
     "metadata": {},
     "output_type": "execute_result"
    }
   ],
   "source": [
    "#Total passenger count greater than 6\n",
    "sum(df['passenger_count'] > 6)"
   ]
  },
  {
   "cell_type": "code",
   "execution_count": 59,
   "metadata": {},
   "outputs": [
    {
     "data": {
      "text/plain": [
       "58"
      ]
     },
     "execution_count": 59,
     "metadata": {},
     "output_type": "execute_result"
    }
   ],
   "source": [
    "#Total passenger count less than 1\n",
    "sum(df['passenger_count'] < 1)"
   ]
  },
  {
   "cell_type": "code",
   "execution_count": null,
   "metadata": {},
   "outputs": [],
   "source": [
    "#Therefore a total of 78 values need to be dropped as they do not fit in the range of passengers for a taxi"
   ]
  },
  {
   "cell_type": "code",
   "execution_count": 64,
   "metadata": {},
   "outputs": [],
   "source": [
    "idx = list(df[df['passenger_count'] < 1].index)"
   ]
  },
  {
   "cell_type": "code",
   "execution_count": 65,
   "metadata": {},
   "outputs": [],
   "source": [
    "#len(idx)\n",
    "idx.extend(df[df['passenger_count'] > 6].index)"
   ]
  },
  {
   "cell_type": "code",
   "execution_count": 68,
   "metadata": {},
   "outputs": [],
   "source": [
    "df = df.drop(index=idx,axis=0)"
   ]
  },
  {
   "cell_type": "code",
   "execution_count": 69,
   "metadata": {},
   "outputs": [
    {
     "data": {
      "text/plain": [
       "(15984, 7)"
      ]
     },
     "execution_count": 69,
     "metadata": {},
     "output_type": "execute_result"
    }
   ],
   "source": [
    "df.shape"
   ]
  },
  {
   "cell_type": "code",
   "execution_count": 72,
   "metadata": {},
   "outputs": [
    {
     "data": {
      "text/plain": [
       "1.0    11255\n",
       "2.0     2322\n",
       "5.0     1045\n",
       "3.0      676\n",
       "4.0      328\n",
       "6.0      302\n",
       "1.3        1\n",
       "Name: passenger_count, dtype: int64"
      ]
     },
     "execution_count": 72,
     "metadata": {},
     "output_type": "execute_result"
    }
   ],
   "source": [
    "df.passenger_count.value_counts()"
   ]
  },
  {
   "cell_type": "code",
   "execution_count": 73,
   "metadata": {},
   "outputs": [
    {
     "data": {
      "text/plain": [
       "Int64Index([8790], dtype='int64')"
      ]
     },
     "execution_count": 73,
     "metadata": {},
     "output_type": "execute_result"
    }
   ],
   "source": [
    "df[df['passenger_count'] == 1.3].index"
   ]
  },
  {
   "cell_type": "code",
   "execution_count": 77,
   "metadata": {},
   "outputs": [
    {
     "name": "stderr",
     "output_type": "stream",
     "text": [
      "C:\\Users\\Gaurav\\Anaconda3\\lib\\site-packages\\ipykernel_launcher.py:1: SettingWithCopyWarning: \n",
      "A value is trying to be set on a copy of a slice from a DataFrame\n",
      "\n",
      "See the caveats in the documentation: https://pandas.pydata.org/pandas-docs/stable/user_guide/indexing.html#returning-a-view-versus-a-copy\n",
      "  \"\"\"Entry point for launching an IPython kernel.\n"
     ]
    }
   ],
   "source": [
    "df['passenger_count'][8790] = np.nan"
   ]
  },
  {
   "cell_type": "code",
   "execution_count": 78,
   "metadata": {},
   "outputs": [
    {
     "data": {
      "text/plain": [
       "nan"
      ]
     },
     "execution_count": 78,
     "metadata": {},
     "output_type": "execute_result"
    }
   ],
   "source": [
    "df['passenger_count'][8790]"
   ]
  },
  {
   "cell_type": "code",
   "execution_count": 80,
   "metadata": {},
   "outputs": [
    {
     "data": {
      "text/plain": [
       "array([ 1.,  2.,  3., nan,  6.,  5.,  4.])"
      ]
     },
     "execution_count": 80,
     "metadata": {},
     "output_type": "execute_result"
    }
   ],
   "source": [
    "df.passenger_count.value_counts()\n",
    "df.passenger_count.unique()"
   ]
  },
  {
   "cell_type": "code",
   "execution_count": 81,
   "metadata": {},
   "outputs": [
    {
     "data": {
      "text/html": [
       "<div>\n",
       "<style scoped>\n",
       "    .dataframe tbody tr th:only-of-type {\n",
       "        vertical-align: middle;\n",
       "    }\n",
       "\n",
       "    .dataframe tbody tr th {\n",
       "        vertical-align: top;\n",
       "    }\n",
       "\n",
       "    .dataframe thead th {\n",
       "        text-align: right;\n",
       "    }\n",
       "</style>\n",
       "<table border=\"1\" class=\"dataframe\">\n",
       "  <thead>\n",
       "    <tr style=\"text-align: right;\">\n",
       "      <th></th>\n",
       "      <th>0</th>\n",
       "    </tr>\n",
       "  </thead>\n",
       "  <tbody>\n",
       "    <tr>\n",
       "      <th>pickup_datetime</th>\n",
       "      <td>0</td>\n",
       "    </tr>\n",
       "    <tr>\n",
       "      <th>pickup_longitude</th>\n",
       "      <td>0</td>\n",
       "    </tr>\n",
       "    <tr>\n",
       "      <th>pickup_latitude</th>\n",
       "      <td>0</td>\n",
       "    </tr>\n",
       "    <tr>\n",
       "      <th>dropoff_longitude</th>\n",
       "      <td>0</td>\n",
       "    </tr>\n",
       "    <tr>\n",
       "      <th>dropoff_latitude</th>\n",
       "      <td>0</td>\n",
       "    </tr>\n",
       "    <tr>\n",
       "      <th>passenger_count</th>\n",
       "      <td>56</td>\n",
       "    </tr>\n",
       "    <tr>\n",
       "      <th>fare_amount</th>\n",
       "      <td>24</td>\n",
       "    </tr>\n",
       "  </tbody>\n",
       "</table>\n",
       "</div>"
      ],
      "text/plain": [
       "                    0\n",
       "pickup_datetime     0\n",
       "pickup_longitude    0\n",
       "pickup_latitude     0\n",
       "dropoff_longitude   0\n",
       "dropoff_latitude    0\n",
       "passenger_count    56\n",
       "fare_amount        24"
      ]
     },
     "execution_count": 81,
     "metadata": {},
     "output_type": "execute_result"
    }
   ],
   "source": [
    "pd.DataFrame(df.isnull().sum())"
   ]
  },
  {
   "cell_type": "code",
   "execution_count": null,
   "metadata": {},
   "outputs": [],
   "source": [
    "#The number of nan values as compared to the size of the data set is fiarly insignificant ~ 0.003, and hence can be dropped "
   ]
  },
  {
   "cell_type": "code",
   "execution_count": 82,
   "metadata": {},
   "outputs": [],
   "source": [
    "df = df.dropna()"
   ]
  },
  {
   "cell_type": "code",
   "execution_count": 83,
   "metadata": {},
   "outputs": [
    {
     "data": {
      "text/plain": [
       "(15904, 7)"
      ]
     },
     "execution_count": 83,
     "metadata": {},
     "output_type": "execute_result"
    }
   ],
   "source": [
    "df.shape"
   ]
  },
  {
   "cell_type": "code",
   "execution_count": 84,
   "metadata": {},
   "outputs": [
    {
     "data": {
      "text/html": [
       "<div>\n",
       "<style scoped>\n",
       "    .dataframe tbody tr th:only-of-type {\n",
       "        vertical-align: middle;\n",
       "    }\n",
       "\n",
       "    .dataframe tbody tr th {\n",
       "        vertical-align: top;\n",
       "    }\n",
       "\n",
       "    .dataframe thead th {\n",
       "        text-align: right;\n",
       "    }\n",
       "</style>\n",
       "<table border=\"1\" class=\"dataframe\">\n",
       "  <thead>\n",
       "    <tr style=\"text-align: right;\">\n",
       "      <th></th>\n",
       "      <th>0</th>\n",
       "    </tr>\n",
       "  </thead>\n",
       "  <tbody>\n",
       "    <tr>\n",
       "      <th>pickup_datetime</th>\n",
       "      <td>0</td>\n",
       "    </tr>\n",
       "    <tr>\n",
       "      <th>pickup_longitude</th>\n",
       "      <td>0</td>\n",
       "    </tr>\n",
       "    <tr>\n",
       "      <th>pickup_latitude</th>\n",
       "      <td>0</td>\n",
       "    </tr>\n",
       "    <tr>\n",
       "      <th>dropoff_longitude</th>\n",
       "      <td>0</td>\n",
       "    </tr>\n",
       "    <tr>\n",
       "      <th>dropoff_latitude</th>\n",
       "      <td>0</td>\n",
       "    </tr>\n",
       "    <tr>\n",
       "      <th>passenger_count</th>\n",
       "      <td>0</td>\n",
       "    </tr>\n",
       "    <tr>\n",
       "      <th>fare_amount</th>\n",
       "      <td>0</td>\n",
       "    </tr>\n",
       "  </tbody>\n",
       "</table>\n",
       "</div>"
      ],
      "text/plain": [
       "                   0\n",
       "pickup_datetime    0\n",
       "pickup_longitude   0\n",
       "pickup_latitude    0\n",
       "dropoff_longitude  0\n",
       "dropoff_latitude   0\n",
       "passenger_count    0\n",
       "fare_amount        0"
      ]
     },
     "execution_count": 84,
     "metadata": {},
     "output_type": "execute_result"
    }
   ],
   "source": [
    "pd.DataFrame(df.isnull().sum())"
   ]
  },
  {
   "cell_type": "code",
   "execution_count": null,
   "metadata": {},
   "outputs": [],
   "source": [
    "#To check if the latitudes and longitudes are in the proper range\n",
    "#Latitudes range from -90 to 90 \n",
    "#Longitudes range from -180 to 180"
   ]
  },
  {
   "cell_type": "code",
   "execution_count": 98,
   "metadata": {},
   "outputs": [
    {
     "name": "stdout",
     "output_type": "stream",
     "text": [
      "pickup_longitude > 180 :0\n",
      "pickup_longitude < -180 :0\n",
      "pickup_latitude > 90 :1\n",
      "pickup_latitude < -90 :0\n",
      "dropoff_longitude > 180 :0\n",
      "dropoff_longitude < -180 :0\n",
      "dropoff_latitude > 90 :0\n",
      "dropoff_latitude < -90 :0\n"
     ]
    }
   ],
   "source": [
    "print('pickup_longitude > 180 :' + str(sum(df['pickup_longitude'] > 180)))\n",
    "print('pickup_longitude < -180 :' + str(sum(df['pickup_longitude'] < -180)))\n",
    "print('pickup_latitude > 90 :' + str(sum(df['pickup_latitude'] > 90)))\n",
    "print('pickup_latitude < -90 :' + str(sum(df['pickup_latitude'] < -90)))\n",
    "\n",
    "print('dropoff_longitude > 180 :' + str(sum(df['dropoff_longitude'] > 180)))\n",
    "print('dropoff_longitude < -180 :' + str(sum(df['dropoff_longitude'] < -180)))\n",
    "print('dropoff_latitude > 90 :' + str(sum(df['dropoff_latitude'] > 90)))\n",
    "print('dropoff_latitude < -90 :' + str(sum(df['dropoff_latitude'] < -90)))"
   ]
  },
  {
   "cell_type": "code",
   "execution_count": 102,
   "metadata": {},
   "outputs": [
    {
     "data": {
      "text/plain": [
       "5686"
      ]
     },
     "execution_count": 102,
     "metadata": {},
     "output_type": "execute_result"
    }
   ],
   "source": [
    "df[df['pickup_latitude'] > 90].index[0]"
   ]
  },
  {
   "cell_type": "code",
   "execution_count": 103,
   "metadata": {},
   "outputs": [],
   "source": [
    "df = df.drop(index=df[df['pickup_latitude'] > 90].index[0])"
   ]
  },
  {
   "cell_type": "code",
   "execution_count": 104,
   "metadata": {},
   "outputs": [
    {
     "data": {
      "text/plain": [
       "(15903, 7)"
      ]
     },
     "execution_count": 104,
     "metadata": {},
     "output_type": "execute_result"
    }
   ],
   "source": [
    "df.shape"
   ]
  },
  {
   "cell_type": "code",
   "execution_count": null,
   "metadata": {},
   "outputs": [],
   "source": [
    "#To check if any latitude or longitude is 0"
   ]
  },
  {
   "cell_type": "code",
   "execution_count": 106,
   "metadata": {},
   "outputs": [
    {
     "name": "stdout",
     "output_type": "stream",
     "text": [
      "pickup_longitude equal to 0 = 309\n",
      "pickup_latitude equal to 0 = 309\n",
      "dropoff_longitude equal to 0 = 310\n",
      "dropoff_latitude equal to 0 = 308\n"
     ]
    }
   ],
   "source": [
    "for i in ['pickup_longitude', 'pickup_latitude','dropoff_longitude', 'dropoff_latitude']:\n",
    "    print(i + ' equal to 0 = ' + str(sum(df[i] == 0)))"
   ]
  },
  {
   "cell_type": "code",
   "execution_count": 109,
   "metadata": {},
   "outputs": [
    {
     "data": {
      "text/plain": [
       "Int64Index([   11,    15,   124,   192,   273,   357,   376,   387,   472,\n",
       "              540,\n",
       "            ...\n",
       "            15648, 15665, 15764, 15783, 15911, 15920, 15929, 15937, 16014,\n",
       "            16056],\n",
       "           dtype='int64', length=309)"
      ]
     },
     "execution_count": 109,
     "metadata": {},
     "output_type": "execute_result"
    }
   ],
   "source": [
    "df[df['pickup_longitude'] == 0].index"
   ]
  },
  {
   "cell_type": "code",
   "execution_count": 110,
   "metadata": {},
   "outputs": [],
   "source": [
    "#Dropping all values equal to 0\n",
    "for i in ['pickup_longitude', 'pickup_latitude','dropoff_longitude', 'dropoff_latitude']:\n",
    "    df = df.drop(index=df[df[i] == 0].index)"
   ]
  },
  {
   "cell_type": "code",
   "execution_count": 111,
   "metadata": {},
   "outputs": [
    {
     "data": {
      "text/plain": [
       "(15583, 7)"
      ]
     },
     "execution_count": 111,
     "metadata": {},
     "output_type": "execute_result"
    }
   ],
   "source": [
    "df.shape"
   ]
  },
  {
   "cell_type": "code",
   "execution_count": 112,
   "metadata": {},
   "outputs": [],
   "source": [
    "df_train = df.copy()"
   ]
  },
  {
   "cell_type": "code",
   "execution_count": null,
   "metadata": {},
   "outputs": [],
   "source": []
  },
  {
   "cell_type": "code",
   "execution_count": 115,
   "metadata": {},
   "outputs": [
    {
     "data": {
      "text/plain": [
       "dtype('O')"
      ]
     },
     "execution_count": 115,
     "metadata": {},
     "output_type": "execute_result"
    }
   ],
   "source": [
    "df['pickup_datetime'].dtype"
   ]
  },
  {
   "cell_type": "code",
   "execution_count": 116,
   "metadata": {},
   "outputs": [],
   "source": [
    "df['pickup_datetime'] = pd.to_datetime(df.pickup_datetime, errors='coerce')"
   ]
  },
  {
   "cell_type": "code",
   "execution_count": 124,
   "metadata": {},
   "outputs": [
    {
     "data": {
      "text/html": [
       "<div>\n",
       "<style scoped>\n",
       "    .dataframe tbody tr th:only-of-type {\n",
       "        vertical-align: middle;\n",
       "    }\n",
       "\n",
       "    .dataframe tbody tr th {\n",
       "        vertical-align: top;\n",
       "    }\n",
       "\n",
       "    .dataframe thead th {\n",
       "        text-align: right;\n",
       "    }\n",
       "</style>\n",
       "<table border=\"1\" class=\"dataframe\">\n",
       "  <thead>\n",
       "    <tr style=\"text-align: right;\">\n",
       "      <th></th>\n",
       "      <th>0</th>\n",
       "    </tr>\n",
       "  </thead>\n",
       "  <tbody>\n",
       "    <tr>\n",
       "      <th>pickup_datetime</th>\n",
       "      <td>0</td>\n",
       "    </tr>\n",
       "    <tr>\n",
       "      <th>pickup_longitude</th>\n",
       "      <td>0</td>\n",
       "    </tr>\n",
       "    <tr>\n",
       "      <th>pickup_latitude</th>\n",
       "      <td>0</td>\n",
       "    </tr>\n",
       "    <tr>\n",
       "      <th>dropoff_longitude</th>\n",
       "      <td>0</td>\n",
       "    </tr>\n",
       "    <tr>\n",
       "      <th>dropoff_latitude</th>\n",
       "      <td>0</td>\n",
       "    </tr>\n",
       "    <tr>\n",
       "      <th>passenger_count</th>\n",
       "      <td>0</td>\n",
       "    </tr>\n",
       "    <tr>\n",
       "      <th>fare_amount</th>\n",
       "      <td>0</td>\n",
       "    </tr>\n",
       "  </tbody>\n",
       "</table>\n",
       "</div>"
      ],
      "text/plain": [
       "                   0\n",
       "pickup_datetime    0\n",
       "pickup_longitude   0\n",
       "pickup_latitude    0\n",
       "dropoff_longitude  0\n",
       "dropoff_latitude   0\n",
       "passenger_count    0\n",
       "fare_amount        0"
      ]
     },
     "execution_count": 124,
     "metadata": {},
     "output_type": "execute_result"
    }
   ],
   "source": [
    "pd.DataFrame(df.isnull().sum())"
   ]
  },
  {
   "cell_type": "code",
   "execution_count": 121,
   "metadata": {},
   "outputs": [],
   "source": [
    "#Dropping the row with nan datetime"
   ]
  },
  {
   "cell_type": "code",
   "execution_count": 123,
   "metadata": {},
   "outputs": [],
   "source": [
    "df = df.dropna()"
   ]
  },
  {
   "cell_type": "code",
   "execution_count": 126,
   "metadata": {},
   "outputs": [
    {
     "data": {
      "text/plain": [
       "(15582, 7)"
      ]
     },
     "execution_count": 126,
     "metadata": {},
     "output_type": "execute_result"
    }
   ],
   "source": [
    "df.shape"
   ]
  },
  {
   "cell_type": "code",
   "execution_count": null,
   "metadata": {},
   "outputs": [],
   "source": []
  },
  {
   "cell_type": "code",
   "execution_count": null,
   "metadata": {},
   "outputs": [],
   "source": [
    "#Outlier Analysis"
   ]
  },
  {
   "cell_type": "code",
   "execution_count": 129,
   "metadata": {},
   "outputs": [
    {
     "data": {
      "text/plain": [
       "<matplotlib.axes._subplots.AxesSubplot at 0x214998192b0>"
      ]
     },
     "execution_count": 129,
     "metadata": {},
     "output_type": "execute_result"
    },
    {
     "data": {
      "image/png": "[encoded data removed]",
      "text/plain": [
       "<Figure size 1440x360 with 1 Axes>"
      ]
     },
     "metadata": {},
     "output_type": "display_data"
    }
   ],
   "source": [
    "#Box plot for seeking the outliers in the fare_amount variable\n",
    "plt.figure(figsize=(20,5))\n",
    "plt.xlim(0,100)\n",
    "sns.boxplot(x = df['fare_amount'], data=df)"
   ]
  },
  {
   "cell_type": "code",
   "execution_count": 143,
   "metadata": {},
   "outputs": [],
   "source": [
    "df['passenger_count'] = df.passenger_count.astype('int')"
   ]
  },
  {
   "cell_type": "code",
   "execution_count": 144,
   "metadata": {},
   "outputs": [
    {
     "data": {
      "text/plain": [
       "1    10999\n",
       "2     2283\n",
       "5     1024\n",
       "3      662\n",
       "4      319\n",
       "6      295\n",
       "Name: passenger_count, dtype: int64"
      ]
     },
     "execution_count": 144,
     "metadata": {},
     "output_type": "execute_result"
    }
   ],
   "source": [
    "df.passenger_count.unique()\n",
    "df.passenger_count.value_counts()"
   ]
  },
  {
   "cell_type": "code",
   "execution_count": 149,
   "metadata": {},
   "outputs": [],
   "source": [
    "df['passenger_count'] = df['passenger_count'].astype('object').astype('category')"
   ]
  },
  {
   "cell_type": "code",
   "execution_count": 151,
   "metadata": {},
   "outputs": [
    {
     "data": {
      "text/plain": [
       "<matplotlib.axes._subplots.AxesSubplot at 0x21499e30518>"
      ]
     },
     "execution_count": 151,
     "metadata": {},
     "output_type": "execute_result"
    },
    {
     "data": {
      "image/png": "[encoded data removed]",
      "text/plain": [
       "<Figure size 1440x720 with 1 Axes>"
      ]
     },
     "metadata": {},
     "output_type": "display_data"
    }
   ],
   "source": [
    "#Box plot for fare_amount vs passenger_count\n",
    "plt.figure(figsize=(20,10))\n",
    "plt.xlim(0,100)\n",
    "sns.boxplot(x=df['fare_amount'], y=df['passenger_count'],data=df)"
   ]
  },
  {
   "cell_type": "code",
   "execution_count": 164,
   "metadata": {},
   "outputs": [],
   "source": [
    "#function to convert all outliers to nan\n",
    "def outlier_detect(col):\n",
    "    q75,q25 = np.percentile(df.loc[:,col], [75,25])\n",
    "    iqr = q75 - q25 #interquartile range\n",
    "    min_val = q25 - (1.5*iqr)\n",
    "    max_val = q75 + (1.5*iqr)\n",
    "    \n",
    "    print(min_val,max_val)\n",
    "    #return min_val, max_val\n",
    "    \n",
    "    #assigning the outliers as nan\n",
    "    df.loc[df[col] < min_val, col] = np.nan\n",
    "    df.loc[df[col] > max_val, col] = np.nan"
   ]
  },
  {
   "cell_type": "code",
   "execution_count": 165,
   "metadata": {},
   "outputs": [
    {
     "name": "stdout",
     "output_type": "stream",
     "text": [
      "-3.75 22.25\n"
     ]
    }
   ],
   "source": [
    "outlier_detect('fare_amount')"
   ]
  },
  {
   "cell_type": "code",
   "execution_count": 166,
   "metadata": {},
   "outputs": [
    {
     "data": {
      "text/html": [
       "<div>\n",
       "<style scoped>\n",
       "    .dataframe tbody tr th:only-of-type {\n",
       "        vertical-align: middle;\n",
       "    }\n",
       "\n",
       "    .dataframe tbody tr th {\n",
       "        vertical-align: top;\n",
       "    }\n",
       "\n",
       "    .dataframe thead th {\n",
       "        text-align: right;\n",
       "    }\n",
       "</style>\n",
       "<table border=\"1\" class=\"dataframe\">\n",
       "  <thead>\n",
       "    <tr style=\"text-align: right;\">\n",
       "      <th></th>\n",
       "      <th>0</th>\n",
       "    </tr>\n",
       "  </thead>\n",
       "  <tbody>\n",
       "    <tr>\n",
       "      <th>pickup_datetime</th>\n",
       "      <td>0</td>\n",
       "    </tr>\n",
       "    <tr>\n",
       "      <th>pickup_longitude</th>\n",
       "      <td>0</td>\n",
       "    </tr>\n",
       "    <tr>\n",
       "      <th>pickup_latitude</th>\n",
       "      <td>0</td>\n",
       "    </tr>\n",
       "    <tr>\n",
       "      <th>dropoff_longitude</th>\n",
       "      <td>0</td>\n",
       "    </tr>\n",
       "    <tr>\n",
       "      <th>dropoff_latitude</th>\n",
       "      <td>0</td>\n",
       "    </tr>\n",
       "    <tr>\n",
       "      <th>passenger_count</th>\n",
       "      <td>0</td>\n",
       "    </tr>\n",
       "    <tr>\n",
       "      <th>fare_amount</th>\n",
       "      <td>1355</td>\n",
       "    </tr>\n",
       "  </tbody>\n",
       "</table>\n",
       "</div>"
      ],
      "text/plain": [
       "                      0\n",
       "pickup_datetime       0\n",
       "pickup_longitude      0\n",
       "pickup_latitude       0\n",
       "dropoff_longitude     0\n",
       "dropoff_latitude      0\n",
       "passenger_count       0\n",
       "fare_amount        1355"
      ]
     },
     "execution_count": 166,
     "metadata": {},
     "output_type": "execute_result"
    }
   ],
   "source": [
    "pd.DataFrame(df.isnull().sum())"
   ]
  },
  {
   "cell_type": "code",
   "execution_count": null,
   "metadata": {},
   "outputs": [],
   "source": [
    "#Recomputing the nan values"
   ]
  },
  {
   "cell_type": "code",
   "execution_count": 168,
   "metadata": {},
   "outputs": [],
   "source": [
    "#Creating a checkpoint\n",
    "df_train1 = df.copy()"
   ]
  },
  {
   "cell_type": "code",
   "execution_count": 194,
   "metadata": {},
   "outputs": [
    {
     "data": {
      "text/html": [
       "<div>\n",
       "<style scoped>\n",
       "    .dataframe tbody tr th:only-of-type {\n",
       "        vertical-align: middle;\n",
       "    }\n",
       "\n",
       "    .dataframe tbody tr th {\n",
       "        vertical-align: top;\n",
       "    }\n",
       "\n",
       "    .dataframe thead th {\n",
       "        text-align: right;\n",
       "    }\n",
       "</style>\n",
       "<table border=\"1\" class=\"dataframe\">\n",
       "  <thead>\n",
       "    <tr style=\"text-align: right;\">\n",
       "      <th></th>\n",
       "      <th>pickup_datetime</th>\n",
       "      <th>pickup_longitude</th>\n",
       "      <th>pickup_latitude</th>\n",
       "      <th>dropoff_longitude</th>\n",
       "      <th>dropoff_latitude</th>\n",
       "      <th>passenger_count</th>\n",
       "      <th>fare_amount</th>\n",
       "    </tr>\n",
       "  </thead>\n",
       "  <tbody>\n",
       "    <tr>\n",
       "      <th>0</th>\n",
       "      <td>2009-06-15 17:26:21+00:00</td>\n",
       "      <td>-73.844311</td>\n",
       "      <td>40.721319</td>\n",
       "      <td>-73.841610</td>\n",
       "      <td>40.712278</td>\n",
       "      <td>1</td>\n",
       "      <td>4.5</td>\n",
       "    </tr>\n",
       "    <tr>\n",
       "      <th>1</th>\n",
       "      <td>2010-01-05 16:52:16+00:00</td>\n",
       "      <td>-74.016048</td>\n",
       "      <td>40.711303</td>\n",
       "      <td>-73.979268</td>\n",
       "      <td>40.782004</td>\n",
       "      <td>1</td>\n",
       "      <td>16.9</td>\n",
       "    </tr>\n",
       "    <tr>\n",
       "      <th>2</th>\n",
       "      <td>2011-08-18 00:35:00+00:00</td>\n",
       "      <td>-73.982738</td>\n",
       "      <td>40.761270</td>\n",
       "      <td>-73.991242</td>\n",
       "      <td>40.750562</td>\n",
       "      <td>2</td>\n",
       "      <td>5.7</td>\n",
       "    </tr>\n",
       "    <tr>\n",
       "      <th>3</th>\n",
       "      <td>2012-04-21 04:30:42+00:00</td>\n",
       "      <td>-73.987130</td>\n",
       "      <td>40.733143</td>\n",
       "      <td>-73.991567</td>\n",
       "      <td>40.758092</td>\n",
       "      <td>1</td>\n",
       "      <td>7.7</td>\n",
       "    </tr>\n",
       "    <tr>\n",
       "      <th>4</th>\n",
       "      <td>2010-03-09 07:51:00+00:00</td>\n",
       "      <td>-73.968095</td>\n",
       "      <td>40.768008</td>\n",
       "      <td>-73.956655</td>\n",
       "      <td>40.783762</td>\n",
       "      <td>1</td>\n",
       "      <td>5.3</td>\n",
       "    </tr>\n",
       "  </tbody>\n",
       "</table>\n",
       "</div>"
      ],
      "text/plain": [
       "            pickup_datetime  pickup_longitude  pickup_latitude  \\\n",
       "0 2009-06-15 17:26:21+00:00        -73.844311        40.721319   \n",
       "1 2010-01-05 16:52:16+00:00        -74.016048        40.711303   \n",
       "2 2011-08-18 00:35:00+00:00        -73.982738        40.761270   \n",
       "3 2012-04-21 04:30:42+00:00        -73.987130        40.733143   \n",
       "4 2010-03-09 07:51:00+00:00        -73.968095        40.768008   \n",
       "\n",
       "   dropoff_longitude  dropoff_latitude passenger_count  fare_amount  \n",
       "0         -73.841610         40.712278               1          4.5  \n",
       "1         -73.979268         40.782004               1         16.9  \n",
       "2         -73.991242         40.750562               2          5.7  \n",
       "3         -73.991567         40.758092               1          7.7  \n",
       "4         -73.956655         40.783762               1          5.3  "
      ]
     },
     "execution_count": 194,
     "metadata": {},
     "output_type": "execute_result"
    }
   ],
   "source": [
    "df.head()"
   ]
  },
  {
   "cell_type": "code",
   "execution_count": 170,
   "metadata": {},
   "outputs": [],
   "source": [
    "pickup_datetime = pd.DataFrame(df['pickup_datetime'])"
   ]
  },
  {
   "cell_type": "code",
   "execution_count": 172,
   "metadata": {},
   "outputs": [
    {
     "data": {
      "text/plain": [
       "pickup_datetime    0\n",
       "dtype: int64"
      ]
     },
     "execution_count": 172,
     "metadata": {},
     "output_type": "execute_result"
    }
   ],
   "source": [
    "pickup_datetime.isnull().sum()"
   ]
  },
  {
   "cell_type": "code",
   "execution_count": 195,
   "metadata": {},
   "outputs": [],
   "source": [
    "del df['pickup_datetime']"
   ]
  },
  {
   "cell_type": "code",
   "execution_count": 196,
   "metadata": {},
   "outputs": [
    {
     "data": {
      "text/plain": [
       "pickup_longitude        0\n",
       "pickup_latitude         0\n",
       "dropoff_longitude       0\n",
       "dropoff_latitude        0\n",
       "passenger_count         0\n",
       "fare_amount          1355\n",
       "dtype: int64"
      ]
     },
     "execution_count": 196,
     "metadata": {},
     "output_type": "execute_result"
    }
   ],
   "source": [
    "df.isnull().sum()"
   ]
  },
  {
   "cell_type": "code",
   "execution_count": 186,
   "metadata": {},
   "outputs": [],
   "source": []
  },
  {
   "cell_type": "code",
   "execution_count": 191,
   "metadata": {},
   "outputs": [],
   "source": [
    "#df_train1.to_csv('train1.csv')"
   ]
  },
  {
   "cell_type": "code",
   "execution_count": 197,
   "metadata": {
    "collapsed": true
   },
   "outputs": [
    {
     "name": "stdout",
     "output_type": "stream",
     "text": [
      "Imputing row 1/15582 with 0 missing, elapsed time: 80.018\n",
      "Imputing row 101/15582 with 0 missing, elapsed time: 89.538\n",
      "Imputing row 201/15582 with 1 missing, elapsed time: 89.542\n",
      "Imputing row 301/15582 with 0 missing, elapsed time: 89.544\n",
      "Imputing row 401/15582 with 0 missing, elapsed time: 89.548\n",
      "Imputing row 501/15582 with 0 missing, elapsed time: 89.553\n",
      "Imputing row 601/15582 with 0 missing, elapsed time: 89.557\n",
      "Imputing row 701/15582 with 0 missing, elapsed time: 89.562\n",
      "Imputing row 801/15582 with 0 missing, elapsed time: 89.566\n",
      "Imputing row 901/15582 with 1 missing, elapsed time: 89.567\n",
      "Imputing row 1001/15582 with 0 missing, elapsed time: 89.595\n",
      "Imputing row 1101/15582 with 1 missing, elapsed time: 89.601\n",
      "Imputing row 1201/15582 with 1 missing, elapsed time: 89.607\n",
      "Imputing row 1301/15582 with 0 missing, elapsed time: 89.615\n",
      "Imputing row 1401/15582 with 0 missing, elapsed time: 89.627\n",
      "Imputing row 1501/15582 with 0 missing, elapsed time: 89.633\n",
      "Imputing row 1601/15582 with 0 missing, elapsed time: 89.639\n",
      "Imputing row 1701/15582 with 0 missing, elapsed time: 89.649\n",
      "Imputing row 1801/15582 with 0 missing, elapsed time: 89.654\n",
      "Imputing row 1901/15582 with 0 missing, elapsed time: 89.660\n",
      "Imputing row 2001/15582 with 1 missing, elapsed time: 89.664\n",
      "Imputing row 2101/15582 with 0 missing, elapsed time: 89.670\n",
      "Imputing row 2201/15582 with 0 missing, elapsed time: 89.674\n",
      "Imputing row 2301/15582 with 0 missing, elapsed time: 89.679\n",
      "Imputing row 2401/15582 with 0 missing, elapsed time: 89.683\n",
      "Imputing row 2501/15582 with 0 missing, elapsed time: 89.689\n",
      "Imputing row 2601/15582 with 0 missing, elapsed time: 89.693\n",
      "Imputing row 2701/15582 with 0 missing, elapsed time: 89.698\n",
      "Imputing row 2801/15582 with 0 missing, elapsed time: 89.702\n",
      "Imputing row 2901/15582 with 0 missing, elapsed time: 89.705\n",
      "Imputing row 3001/15582 with 1 missing, elapsed time: 89.708\n",
      "Imputing row 3101/15582 with 0 missing, elapsed time: 89.712\n",
      "Imputing row 3201/15582 with 0 missing, elapsed time: 89.716\n",
      "Imputing row 3301/15582 with 1 missing, elapsed time: 89.719\n",
      "Imputing row 3401/15582 with 0 missing, elapsed time: 89.726\n",
      "Imputing row 3501/15582 with 0 missing, elapsed time: 89.727\n",
      "Imputing row 3601/15582 with 0 missing, elapsed time: 89.731\n",
      "Imputing row 3701/15582 with 0 missing, elapsed time: 89.734\n",
      "Imputing row 3801/15582 with 0 missing, elapsed time: 89.736\n",
      "Imputing row 3901/15582 with 0 missing, elapsed time: 89.738\n",
      "Imputing row 4001/15582 with 0 missing, elapsed time: 89.741\n",
      "Imputing row 4101/15582 with 0 missing, elapsed time: 89.747\n",
      "Imputing row 4201/15582 with 0 missing, elapsed time: 89.753\n",
      "Imputing row 4301/15582 with 0 missing, elapsed time: 89.760\n",
      "Imputing row 4401/15582 with 1 missing, elapsed time: 89.767\n",
      "Imputing row 4501/15582 with 1 missing, elapsed time: 89.774\n",
      "Imputing row 4601/15582 with 0 missing, elapsed time: 89.782\n",
      "Imputing row 4701/15582 with 0 missing, elapsed time: 89.786\n",
      "Imputing row 4801/15582 with 0 missing, elapsed time: 89.790\n",
      "Imputing row 4901/15582 with 0 missing, elapsed time: 89.794\n",
      "Imputing row 5001/15582 with 0 missing, elapsed time: 89.800\n",
      "Imputing row 5101/15582 with 0 missing, elapsed time: 89.804\n",
      "Imputing row 5201/15582 with 0 missing, elapsed time: 89.807\n",
      "Imputing row 5301/15582 with 0 missing, elapsed time: 89.810\n",
      "Imputing row 5401/15582 with 0 missing, elapsed time: 89.815\n",
      "Imputing row 5501/15582 with 0 missing, elapsed time: 89.819\n",
      "Imputing row 5601/15582 with 0 missing, elapsed time: 89.822\n",
      "Imputing row 5701/15582 with 0 missing, elapsed time: 89.824\n",
      "Imputing row 5801/15582 with 0 missing, elapsed time: 89.826\n",
      "Imputing row 5901/15582 with 0 missing, elapsed time: 89.828\n",
      "Imputing row 6001/15582 with 0 missing, elapsed time: 89.832\n",
      "Imputing row 6101/15582 with 0 missing, elapsed time: 89.837\n",
      "Imputing row 6201/15582 with 0 missing, elapsed time: 89.839\n",
      "Imputing row 6301/15582 with 0 missing, elapsed time: 89.846\n",
      "Imputing row 6401/15582 with 0 missing, elapsed time: 89.848\n",
      "Imputing row 6501/15582 with 0 missing, elapsed time: 89.852\n",
      "Imputing row 6601/15582 with 0 missing, elapsed time: 89.856\n",
      "Imputing row 6701/15582 with 0 missing, elapsed time: 89.859\n",
      "Imputing row 6801/15582 with 0 missing, elapsed time: 89.863\n",
      "Imputing row 6901/15582 with 0 missing, elapsed time: 89.866\n",
      "Imputing row 7001/15582 with 0 missing, elapsed time: 89.869\n",
      "Imputing row 7101/15582 with 0 missing, elapsed time: 89.871\n",
      "Imputing row 7201/15582 with 0 missing, elapsed time: 89.874\n",
      "Imputing row 7301/15582 with 0 missing, elapsed time: 89.877\n",
      "Imputing row 7401/15582 with 0 missing, elapsed time: 89.882\n",
      "Imputing row 7501/15582 with 0 missing, elapsed time: 89.885\n",
      "Imputing row 7601/15582 with 0 missing, elapsed time: 89.887\n",
      "Imputing row 7701/15582 with 0 missing, elapsed time: 89.890\n",
      "Imputing row 7801/15582 with 0 missing, elapsed time: 89.893\n",
      "Imputing row 7901/15582 with 0 missing, elapsed time: 89.897\n",
      "Imputing row 8001/15582 with 0 missing, elapsed time: 89.899\n",
      "Imputing row 8101/15582 with 0 missing, elapsed time: 89.901\n",
      "Imputing row 8201/15582 with 0 missing, elapsed time: 89.903\n",
      "Imputing row 8301/15582 with 0 missing, elapsed time: 89.905\n",
      "Imputing row 8401/15582 with 0 missing, elapsed time: 89.985\n",
      "Imputing row 8501/15582 with 0 missing, elapsed time: 89.993\n",
      "Imputing row 8601/15582 with 0 missing, elapsed time: 90.000\n",
      "Imputing row 8701/15582 with 0 missing, elapsed time: 90.013\n",
      "Imputing row 8801/15582 with 0 missing, elapsed time: 90.021\n",
      "Imputing row 8901/15582 with 0 missing, elapsed time: 90.027\n",
      "Imputing row 9001/15582 with 1 missing, elapsed time: 90.034\n",
      "Imputing row 9101/15582 with 0 missing, elapsed time: 90.038\n",
      "Imputing row 9201/15582 with 0 missing, elapsed time: 90.043\n",
      "Imputing row 9301/15582 with 0 missing, elapsed time: 90.046\n",
      "Imputing row 9401/15582 with 0 missing, elapsed time: 90.052\n",
      "Imputing row 9501/15582 with 0 missing, elapsed time: 90.056\n",
      "Imputing row 9601/15582 with 0 missing, elapsed time: 90.062\n",
      "Imputing row 9701/15582 with 0 missing, elapsed time: 90.069\n",
      "Imputing row 9801/15582 with 0 missing, elapsed time: 90.074\n",
      "Imputing row 9901/15582 with 0 missing, elapsed time: 90.078\n",
      "Imputing row 10001/15582 with 0 missing, elapsed time: 90.081\n",
      "Imputing row 10101/15582 with 0 missing, elapsed time: 90.084\n",
      "Imputing row 10201/15582 with 0 missing, elapsed time: 90.087\n",
      "Imputing row 10301/15582 with 0 missing, elapsed time: 90.090\n",
      "Imputing row 10401/15582 with 0 missing, elapsed time: 90.094\n",
      "Imputing row 10501/15582 with 0 missing, elapsed time: 90.098\n",
      "Imputing row 10601/15582 with 0 missing, elapsed time: 90.103\n",
      "Imputing row 10701/15582 with 0 missing, elapsed time: 90.107\n",
      "Imputing row 10801/15582 with 1 missing, elapsed time: 90.111\n",
      "Imputing row 10901/15582 with 0 missing, elapsed time: 90.114\n",
      "Imputing row 11001/15582 with 0 missing, elapsed time: 90.118\n",
      "Imputing row 11101/15582 with 0 missing, elapsed time: 90.121\n",
      "Imputing row 11201/15582 with 0 missing, elapsed time: 90.126\n",
      "Imputing row 11301/15582 with 0 missing, elapsed time: 90.130\n",
      "Imputing row 11401/15582 with 1 missing, elapsed time: 90.133\n",
      "Imputing row 11501/15582 with 0 missing, elapsed time: 90.137\n",
      "Imputing row 11601/15582 with 0 missing, elapsed time: 90.140\n",
      "Imputing row 11701/15582 with 0 missing, elapsed time: 90.144\n",
      "Imputing row 11801/15582 with 0 missing, elapsed time: 90.148\n",
      "Imputing row 11901/15582 with 0 missing, elapsed time: 90.151\n",
      "Imputing row 12001/15582 with 0 missing, elapsed time: 90.154\n",
      "Imputing row 12101/15582 with 0 missing, elapsed time: 90.158\n",
      "Imputing row 12201/15582 with 0 missing, elapsed time: 90.160\n",
      "Imputing row 12301/15582 with 0 missing, elapsed time: 90.163\n",
      "Imputing row 12401/15582 with 0 missing, elapsed time: 90.165\n",
      "Imputing row 12501/15582 with 0 missing, elapsed time: 90.169\n",
      "Imputing row 12601/15582 with 0 missing, elapsed time: 90.171\n",
      "Imputing row 12701/15582 with 0 missing, elapsed time: 90.339\n",
      "Imputing row 12801/15582 with 0 missing, elapsed time: 90.344\n",
      "Imputing row 12901/15582 with 0 missing, elapsed time: 90.348\n",
      "Imputing row 13001/15582 with 0 missing, elapsed time: 90.354\n",
      "Imputing row 13101/15582 with 0 missing, elapsed time: 90.360\n",
      "Imputing row 13201/15582 with 0 missing, elapsed time: 90.365\n",
      "Imputing row 13301/15582 with 0 missing, elapsed time: 90.374\n",
      "Imputing row 13401/15582 with 0 missing, elapsed time: 90.383\n",
      "Imputing row 13501/15582 with 1 missing, elapsed time: 90.392\n",
      "Imputing row 13601/15582 with 0 missing, elapsed time: 90.401\n"
     ]
    },
    {
     "name": "stdout",
     "output_type": "stream",
     "text": [
      "Imputing row 13701/15582 with 1 missing, elapsed time: 90.408\n",
      "Imputing row 13801/15582 with 0 missing, elapsed time: 90.565\n",
      "Imputing row 13901/15582 with 0 missing, elapsed time: 90.574\n",
      "Imputing row 14001/15582 with 0 missing, elapsed time: 90.583\n",
      "Imputing row 14101/15582 with 0 missing, elapsed time: 90.590\n",
      "Imputing row 14201/15582 with 0 missing, elapsed time: 90.596\n",
      "Imputing row 14301/15582 with 0 missing, elapsed time: 90.600\n",
      "Imputing row 14401/15582 with 0 missing, elapsed time: 90.604\n",
      "Imputing row 14501/15582 with 0 missing, elapsed time: 90.608\n",
      "Imputing row 14601/15582 with 0 missing, elapsed time: 90.612\n",
      "Imputing row 14701/15582 with 0 missing, elapsed time: 90.615\n",
      "Imputing row 14801/15582 with 0 missing, elapsed time: 90.618\n",
      "Imputing row 14901/15582 with 1 missing, elapsed time: 90.620\n",
      "Imputing row 15001/15582 with 0 missing, elapsed time: 90.623\n",
      "Imputing row 15101/15582 with 0 missing, elapsed time: 90.626\n",
      "Imputing row 15201/15582 with 0 missing, elapsed time: 90.628\n",
      "Imputing row 15301/15582 with 0 missing, elapsed time: 90.631\n",
      "Imputing row 15401/15582 with 0 missing, elapsed time: 90.634\n",
      "Imputing row 15501/15582 with 1 missing, elapsed time: 90.637\n"
     ]
    }
   ],
   "source": [
    "#Imputing missing values using KNN\n",
    "df = pd.DataFrame(KNN(k=3).fit_transform(df), columns=df.columns, index=df.index)"
   ]
  },
  {
   "cell_type": "code",
   "execution_count": 198,
   "metadata": {},
   "outputs": [
    {
     "data": {
      "text/plain": [
       "pickup_longitude     0\n",
       "pickup_latitude      0\n",
       "dropoff_longitude    0\n",
       "dropoff_latitude     0\n",
       "passenger_count      0\n",
       "fare_amount          0\n",
       "dtype: int64"
      ]
     },
     "execution_count": 198,
     "metadata": {},
     "output_type": "execute_result"
    }
   ],
   "source": [
    "df.isnull().sum()"
   ]
  },
  {
   "cell_type": "code",
   "execution_count": 201,
   "metadata": {},
   "outputs": [
    {
     "data": {
      "text/html": [
       "<div>\n",
       "<style scoped>\n",
       "    .dataframe tbody tr th:only-of-type {\n",
       "        vertical-align: middle;\n",
       "    }\n",
       "\n",
       "    .dataframe tbody tr th {\n",
       "        vertical-align: top;\n",
       "    }\n",
       "\n",
       "    .dataframe thead th {\n",
       "        text-align: right;\n",
       "    }\n",
       "</style>\n",
       "<table border=\"1\" class=\"dataframe\">\n",
       "  <thead>\n",
       "    <tr style=\"text-align: right;\">\n",
       "      <th></th>\n",
       "      <th>pickup_longitude</th>\n",
       "      <th>pickup_latitude</th>\n",
       "      <th>dropoff_longitude</th>\n",
       "      <th>dropoff_latitude</th>\n",
       "      <th>passenger_count</th>\n",
       "      <th>fare_amount</th>\n",
       "    </tr>\n",
       "  </thead>\n",
       "  <tbody>\n",
       "    <tr>\n",
       "      <th>count</th>\n",
       "      <td>15582.000000</td>\n",
       "      <td>15582.000000</td>\n",
       "      <td>15582.000000</td>\n",
       "      <td>15582.000000</td>\n",
       "      <td>15582.000000</td>\n",
       "      <td>15582.000000</td>\n",
       "    </tr>\n",
       "    <tr>\n",
       "      <th>mean</th>\n",
       "      <td>-73.911162</td>\n",
       "      <td>40.689397</td>\n",
       "      <td>-73.905955</td>\n",
       "      <td>40.687326</td>\n",
       "      <td>1.650430</td>\n",
       "      <td>9.404469</td>\n",
       "    </tr>\n",
       "    <tr>\n",
       "      <th>std</th>\n",
       "      <td>2.665778</td>\n",
       "      <td>2.619918</td>\n",
       "      <td>2.717693</td>\n",
       "      <td>2.639060</td>\n",
       "      <td>1.265907</td>\n",
       "      <td>4.478935</td>\n",
       "    </tr>\n",
       "    <tr>\n",
       "      <th>min</th>\n",
       "      <td>-74.438233</td>\n",
       "      <td>-74.006893</td>\n",
       "      <td>-74.429332</td>\n",
       "      <td>-74.006377</td>\n",
       "      <td>1.000000</td>\n",
       "      <td>1.140000</td>\n",
       "    </tr>\n",
       "    <tr>\n",
       "      <th>25%</th>\n",
       "      <td>-73.992374</td>\n",
       "      <td>40.736548</td>\n",
       "      <td>-73.991367</td>\n",
       "      <td>40.736298</td>\n",
       "      <td>1.000000</td>\n",
       "      <td>6.000000</td>\n",
       "    </tr>\n",
       "    <tr>\n",
       "      <th>50%</th>\n",
       "      <td>-73.982047</td>\n",
       "      <td>40.753302</td>\n",
       "      <td>-73.980547</td>\n",
       "      <td>40.754220</td>\n",
       "      <td>1.000000</td>\n",
       "      <td>8.200000</td>\n",
       "    </tr>\n",
       "    <tr>\n",
       "      <th>75%</th>\n",
       "      <td>-73.968058</td>\n",
       "      <td>40.767803</td>\n",
       "      <td>-73.965362</td>\n",
       "      <td>40.768311</td>\n",
       "      <td>2.000000</td>\n",
       "      <td>11.788515</td>\n",
       "    </tr>\n",
       "    <tr>\n",
       "      <th>max</th>\n",
       "      <td>40.766125</td>\n",
       "      <td>41.366138</td>\n",
       "      <td>40.802437</td>\n",
       "      <td>41.366138</td>\n",
       "      <td>6.000000</td>\n",
       "      <td>22.100000</td>\n",
       "    </tr>\n",
       "  </tbody>\n",
       "</table>\n",
       "</div>"
      ],
      "text/plain": [
       "       pickup_longitude  pickup_latitude  dropoff_longitude  dropoff_latitude  \\\n",
       "count      15582.000000     15582.000000       15582.000000      15582.000000   \n",
       "mean         -73.911162        40.689397         -73.905955         40.687326   \n",
       "std            2.665778         2.619918           2.717693          2.639060   \n",
       "min          -74.438233       -74.006893         -74.429332        -74.006377   \n",
       "25%          -73.992374        40.736548         -73.991367         40.736298   \n",
       "50%          -73.982047        40.753302         -73.980547         40.754220   \n",
       "75%          -73.968058        40.767803         -73.965362         40.768311   \n",
       "max           40.766125        41.366138          40.802437         41.366138   \n",
       "\n",
       "       passenger_count   fare_amount  \n",
       "count     15582.000000  15582.000000  \n",
       "mean          1.650430      9.404469  \n",
       "std           1.265907      4.478935  \n",
       "min           1.000000      1.140000  \n",
       "25%           1.000000      6.000000  \n",
       "50%           1.000000      8.200000  \n",
       "75%           2.000000     11.788515  \n",
       "max           6.000000     22.100000  "
      ]
     },
     "execution_count": 201,
     "metadata": {},
     "output_type": "execute_result"
    }
   ],
   "source": [
    "df.describe()"
   ]
  },
  {
   "cell_type": "code",
   "execution_count": 202,
   "metadata": {},
   "outputs": [],
   "source": [
    "#Merging datetime with the rest\n",
    "df = pd.merge(pickup_datetime, df, left_index=True, right_index=True)"
   ]
  },
  {
   "cell_type": "code",
   "execution_count": 203,
   "metadata": {},
   "outputs": [
    {
     "data": {
      "text/html": [
       "<div>\n",
       "<style scoped>\n",
       "    .dataframe tbody tr th:only-of-type {\n",
       "        vertical-align: middle;\n",
       "    }\n",
       "\n",
       "    .dataframe tbody tr th {\n",
       "        vertical-align: top;\n",
       "    }\n",
       "\n",
       "    .dataframe thead th {\n",
       "        text-align: right;\n",
       "    }\n",
       "</style>\n",
       "<table border=\"1\" class=\"dataframe\">\n",
       "  <thead>\n",
       "    <tr style=\"text-align: right;\">\n",
       "      <th></th>\n",
       "      <th>pickup_datetime</th>\n",
       "      <th>pickup_longitude</th>\n",
       "      <th>pickup_latitude</th>\n",
       "      <th>dropoff_longitude</th>\n",
       "      <th>dropoff_latitude</th>\n",
       "      <th>passenger_count</th>\n",
       "      <th>fare_amount</th>\n",
       "    </tr>\n",
       "  </thead>\n",
       "  <tbody>\n",
       "    <tr>\n",
       "      <th>0</th>\n",
       "      <td>2009-06-15 17:26:21+00:00</td>\n",
       "      <td>-73.844311</td>\n",
       "      <td>40.721319</td>\n",
       "      <td>-73.841610</td>\n",
       "      <td>40.712278</td>\n",
       "      <td>1.0</td>\n",
       "      <td>4.5</td>\n",
       "    </tr>\n",
       "    <tr>\n",
       "      <th>1</th>\n",
       "      <td>2010-01-05 16:52:16+00:00</td>\n",
       "      <td>-74.016048</td>\n",
       "      <td>40.711303</td>\n",
       "      <td>-73.979268</td>\n",
       "      <td>40.782004</td>\n",
       "      <td>1.0</td>\n",
       "      <td>16.9</td>\n",
       "    </tr>\n",
       "    <tr>\n",
       "      <th>2</th>\n",
       "      <td>2011-08-18 00:35:00+00:00</td>\n",
       "      <td>-73.982738</td>\n",
       "      <td>40.761270</td>\n",
       "      <td>-73.991242</td>\n",
       "      <td>40.750562</td>\n",
       "      <td>2.0</td>\n",
       "      <td>5.7</td>\n",
       "    </tr>\n",
       "    <tr>\n",
       "      <th>3</th>\n",
       "      <td>2012-04-21 04:30:42+00:00</td>\n",
       "      <td>-73.987130</td>\n",
       "      <td>40.733143</td>\n",
       "      <td>-73.991567</td>\n",
       "      <td>40.758092</td>\n",
       "      <td>1.0</td>\n",
       "      <td>7.7</td>\n",
       "    </tr>\n",
       "    <tr>\n",
       "      <th>4</th>\n",
       "      <td>2010-03-09 07:51:00+00:00</td>\n",
       "      <td>-73.968095</td>\n",
       "      <td>40.768008</td>\n",
       "      <td>-73.956655</td>\n",
       "      <td>40.783762</td>\n",
       "      <td>1.0</td>\n",
       "      <td>5.3</td>\n",
       "    </tr>\n",
       "  </tbody>\n",
       "</table>\n",
       "</div>"
      ],
      "text/plain": [
       "            pickup_datetime  pickup_longitude  pickup_latitude  \\\n",
       "0 2009-06-15 17:26:21+00:00        -73.844311        40.721319   \n",
       "1 2010-01-05 16:52:16+00:00        -74.016048        40.711303   \n",
       "2 2011-08-18 00:35:00+00:00        -73.982738        40.761270   \n",
       "3 2012-04-21 04:30:42+00:00        -73.987130        40.733143   \n",
       "4 2010-03-09 07:51:00+00:00        -73.968095        40.768008   \n",
       "\n",
       "   dropoff_longitude  dropoff_latitude  passenger_count  fare_amount  \n",
       "0         -73.841610         40.712278              1.0          4.5  \n",
       "1         -73.979268         40.782004              1.0         16.9  \n",
       "2         -73.991242         40.750562              2.0          5.7  \n",
       "3         -73.991567         40.758092              1.0          7.7  \n",
       "4         -73.956655         40.783762              1.0          5.3  "
      ]
     },
     "execution_count": 203,
     "metadata": {},
     "output_type": "execute_result"
    }
   ],
   "source": [
    "df.head()"
   ]
  },
  {
   "cell_type": "code",
   "execution_count": 204,
   "metadata": {},
   "outputs": [],
   "source": [
    "#Creating a checkpoint\n",
    "df_train2 = df.copy()"
   ]
  },
  {
   "cell_type": "code",
   "execution_count": null,
   "metadata": {},
   "outputs": [],
   "source": []
  },
  {
   "cell_type": "code",
   "execution_count": null,
   "metadata": {},
   "outputs": [],
   "source": []
  },
  {
   "cell_type": "code",
   "execution_count": null,
   "metadata": {},
   "outputs": [],
   "source": [
    "#Feature Engineering\n",
    "#1 extracting data from datetime such as month, day, year etc"
   ]
  },
  {
   "cell_type": "code",
   "execution_count": 207,
   "metadata": {},
   "outputs": [],
   "source": [
    "day = []\n",
    "for i in[df]:\n",
    "    day.append(df['pickup_datetime'].apply(lambda row: row.dayofweek))"
   ]
  },
  {
   "cell_type": "code",
   "execution_count": 208,
   "metadata": {},
   "outputs": [
    {
     "data": {
      "text/plain": [
       "[0        0\n",
       " 1        1\n",
       " 2        3\n",
       " 3        5\n",
       " 4        1\n",
       "         ..\n",
       " 16061    2\n",
       " 16062    4\n",
       " 16063    0\n",
       " 16064    2\n",
       " 16065    1\n",
       " Name: pickup_datetime, Length: 15582, dtype: int64]"
      ]
     },
     "execution_count": 208,
     "metadata": {},
     "output_type": "execute_result"
    }
   ],
   "source": [
    "day"
   ]
  },
  {
   "cell_type": "code",
   "execution_count": 209,
   "metadata": {},
   "outputs": [],
   "source": [
    "#function to extract features which can be used later for test set as well\n",
    "def extract_times(data):\n",
    "    data['year'] = data['pickup_datetime'].apply(lambda row: row.year)\n",
    "    data['month'] = data['pickup_datetime'].apply(lambda row: row.month)\n",
    "    data['day_of_week'] = data['pickup_datetime'].apply(lambda row: row.dayofweek)\n",
    "    data['hour'] = data['pickup_datetime'].apply(lambda row: row.hour)\n",
    "        "
   ]
  },
  {
   "cell_type": "code",
   "execution_count": 210,
   "metadata": {},
   "outputs": [],
   "source": [
    "extract_times(df)"
   ]
  },
  {
   "cell_type": "code",
   "execution_count": 211,
   "metadata": {},
   "outputs": [
    {
     "data": {
      "text/html": [
       "<div>\n",
       "<style scoped>\n",
       "    .dataframe tbody tr th:only-of-type {\n",
       "        vertical-align: middle;\n",
       "    }\n",
       "\n",
       "    .dataframe tbody tr th {\n",
       "        vertical-align: top;\n",
       "    }\n",
       "\n",
       "    .dataframe thead th {\n",
       "        text-align: right;\n",
       "    }\n",
       "</style>\n",
       "<table border=\"1\" class=\"dataframe\">\n",
       "  <thead>\n",
       "    <tr style=\"text-align: right;\">\n",
       "      <th></th>\n",
       "      <th>pickup_datetime</th>\n",
       "      <th>pickup_longitude</th>\n",
       "      <th>pickup_latitude</th>\n",
       "      <th>dropoff_longitude</th>\n",
       "      <th>dropoff_latitude</th>\n",
       "      <th>passenger_count</th>\n",
       "      <th>fare_amount</th>\n",
       "      <th>year</th>\n",
       "      <th>month</th>\n",
       "      <th>day_of_week</th>\n",
       "      <th>hour</th>\n",
       "    </tr>\n",
       "  </thead>\n",
       "  <tbody>\n",
       "    <tr>\n",
       "      <th>0</th>\n",
       "      <td>2009-06-15 17:26:21+00:00</td>\n",
       "      <td>-73.844311</td>\n",
       "      <td>40.721319</td>\n",
       "      <td>-73.841610</td>\n",
       "      <td>40.712278</td>\n",
       "      <td>1.0</td>\n",
       "      <td>4.5</td>\n",
       "      <td>2009</td>\n",
       "      <td>6</td>\n",
       "      <td>0</td>\n",
       "      <td>17</td>\n",
       "    </tr>\n",
       "    <tr>\n",
       "      <th>1</th>\n",
       "      <td>2010-01-05 16:52:16+00:00</td>\n",
       "      <td>-74.016048</td>\n",
       "      <td>40.711303</td>\n",
       "      <td>-73.979268</td>\n",
       "      <td>40.782004</td>\n",
       "      <td>1.0</td>\n",
       "      <td>16.9</td>\n",
       "      <td>2010</td>\n",
       "      <td>1</td>\n",
       "      <td>1</td>\n",
       "      <td>16</td>\n",
       "    </tr>\n",
       "    <tr>\n",
       "      <th>2</th>\n",
       "      <td>2011-08-18 00:35:00+00:00</td>\n",
       "      <td>-73.982738</td>\n",
       "      <td>40.761270</td>\n",
       "      <td>-73.991242</td>\n",
       "      <td>40.750562</td>\n",
       "      <td>2.0</td>\n",
       "      <td>5.7</td>\n",
       "      <td>2011</td>\n",
       "      <td>8</td>\n",
       "      <td>3</td>\n",
       "      <td>0</td>\n",
       "    </tr>\n",
       "    <tr>\n",
       "      <th>3</th>\n",
       "      <td>2012-04-21 04:30:42+00:00</td>\n",
       "      <td>-73.987130</td>\n",
       "      <td>40.733143</td>\n",
       "      <td>-73.991567</td>\n",
       "      <td>40.758092</td>\n",
       "      <td>1.0</td>\n",
       "      <td>7.7</td>\n",
       "      <td>2012</td>\n",
       "      <td>4</td>\n",
       "      <td>5</td>\n",
       "      <td>4</td>\n",
       "    </tr>\n",
       "    <tr>\n",
       "      <th>4</th>\n",
       "      <td>2010-03-09 07:51:00+00:00</td>\n",
       "      <td>-73.968095</td>\n",
       "      <td>40.768008</td>\n",
       "      <td>-73.956655</td>\n",
       "      <td>40.783762</td>\n",
       "      <td>1.0</td>\n",
       "      <td>5.3</td>\n",
       "      <td>2010</td>\n",
       "      <td>3</td>\n",
       "      <td>1</td>\n",
       "      <td>7</td>\n",
       "    </tr>\n",
       "  </tbody>\n",
       "</table>\n",
       "</div>"
      ],
      "text/plain": [
       "            pickup_datetime  pickup_longitude  pickup_latitude  \\\n",
       "0 2009-06-15 17:26:21+00:00        -73.844311        40.721319   \n",
       "1 2010-01-05 16:52:16+00:00        -74.016048        40.711303   \n",
       "2 2011-08-18 00:35:00+00:00        -73.982738        40.761270   \n",
       "3 2012-04-21 04:30:42+00:00        -73.987130        40.733143   \n",
       "4 2010-03-09 07:51:00+00:00        -73.968095        40.768008   \n",
       "\n",
       "   dropoff_longitude  dropoff_latitude  passenger_count  fare_amount  year  \\\n",
       "0         -73.841610         40.712278              1.0          4.5  2009   \n",
       "1         -73.979268         40.782004              1.0         16.9  2010   \n",
       "2         -73.991242         40.750562              2.0          5.7  2011   \n",
       "3         -73.991567         40.758092              1.0          7.7  2012   \n",
       "4         -73.956655         40.783762              1.0          5.3  2010   \n",
       "\n",
       "   month  day_of_week  hour  \n",
       "0      6            0    17  \n",
       "1      1            1    16  \n",
       "2      8            3     0  \n",
       "3      4            5     4  \n",
       "4      3            1     7  "
      ]
     },
     "execution_count": 211,
     "metadata": {},
     "output_type": "execute_result"
    }
   ],
   "source": [
    "df.head()"
   ]
  },
  {
   "cell_type": "code",
   "execution_count": 212,
   "metadata": {},
   "outputs": [
    {
     "data": {
      "image/png": "[encoded data removed]",
      "text/plain": [
       "<Figure size 1440x1440 with 4 Axes>"
      ]
     },
     "metadata": {},
     "output_type": "display_data"
    }
   ],
   "source": [
    "#Plot to see the relation between taxi rides and various time components\n",
    "plt.figure(figsize=(20,20))\n",
    "plt.subplot(221)\n",
    "_=sns.countplot(df['year'])\n",
    "plt.subplot(222)\n",
    "_=sns.countplot(df['month'])\n",
    "plt.subplot(223)\n",
    "_=sns.countplot(df['day_of_week'])\n",
    "plt.subplot(224)\n",
    "_=sns.countplot(df['hour'])"
   ]
  },
  {
   "cell_type": "code",
   "execution_count": 213,
   "metadata": {},
   "outputs": [],
   "source": [
    "#To categorise time_of_day\n",
    "\n",
    "def cat_time(x):\n",
    "    if 5 <= x <= 11:\n",
    "        return 'morning'\n",
    "    if 12 <= x <= 16:\n",
    "        return 'afternoon'\n",
    "    if 17 <= x <= 20:\n",
    "        return 'evening'\n",
    "    if 21 <= x <= 23:\n",
    "        return 'night_PM'\n",
    "    if 0 <= x <= 4:\n",
    "        return 'night_AM'"
   ]
  },
  {
   "cell_type": "code",
   "execution_count": 214,
   "metadata": {},
   "outputs": [],
   "source": [
    "#To categorize months into seasons:\n",
    "def cat_seasons(x):\n",
    "    if 3 <= x <= 6:\n",
    "        return 'summer'\n",
    "    if 7 <= x <= 10:\n",
    "        return 'monsoon'\n",
    "    if x >= 11 or x <= 2:\n",
    "        return 'winter'"
   ]
  },
  {
   "cell_type": "code",
   "execution_count": 216,
   "metadata": {},
   "outputs": [],
   "source": [
    "#To categorize day_of_week to weekend/weekday\n",
    "def cat_week(x):\n",
    "    if 0 <= x <= 4:\n",
    "        return 'weekday'\n",
    "    if 5 <= x <= 6:\n",
    "        return 'weekend'"
   ]
  },
  {
   "cell_type": "code",
   "execution_count": 217,
   "metadata": {},
   "outputs": [],
   "source": [
    "#Applying new categories to df\n",
    "df['session'] = df['hour'].apply(cat_time)\n",
    "df['season'] = df['month'].apply(cat_seasons)\n",
    "df['week'] = df['day_of_week'].apply(cat_week)"
   ]
  },
  {
   "cell_type": "code",
   "execution_count": 220,
   "metadata": {},
   "outputs": [
    {
     "data": {
      "text/plain": [
       "pickup_datetime      0\n",
       "pickup_longitude     0\n",
       "pickup_latitude      0\n",
       "dropoff_longitude    0\n",
       "dropoff_latitude     0\n",
       "passenger_count      0\n",
       "fare_amount          0\n",
       "year                 0\n",
       "month                0\n",
       "day_of_week          0\n",
       "hour                 0\n",
       "session              0\n",
       "season               0\n",
       "week                 0\n",
       "dtype: int64"
      ]
     },
     "execution_count": 220,
     "metadata": {},
     "output_type": "execute_result"
    }
   ],
   "source": [
    "df.isnull().sum()"
   ]
  },
  {
   "cell_type": "code",
   "execution_count": 221,
   "metadata": {},
   "outputs": [
    {
     "data": {
      "image/png": "[encoded data removed]",
      "text/plain": [
       "<Figure size 1440x1440 with 3 Axes>"
      ]
     },
     "metadata": {},
     "output_type": "display_data"
    }
   ],
   "source": [
    "plt.figure(figsize=(20,20))\n",
    "plt.subplot(221)\n",
    "_=sns.countplot(df['session'])\n",
    "plt.subplot(222)\n",
    "_=sns.countplot(df['season'])\n",
    "plt.subplot(223)\n",
    "_=sns.countplot(df['week'])"
   ]
  },
  {
   "cell_type": "code",
   "execution_count": 222,
   "metadata": {},
   "outputs": [
    {
     "data": {
      "text/plain": [
       "(15582, 14)"
      ]
     },
     "execution_count": 222,
     "metadata": {},
     "output_type": "execute_result"
    }
   ],
   "source": [
    "df.shape"
   ]
  },
  {
   "cell_type": "code",
   "execution_count": null,
   "metadata": {},
   "outputs": [],
   "source": [
    "#Adding dummy variables to categorical data "
   ]
  },
  {
   "cell_type": "code",
   "execution_count": 223,
   "metadata": {},
   "outputs": [
    {
     "data": {
      "text/plain": [
       "Index(['pickup_datetime', 'pickup_longitude', 'pickup_latitude',\n",
       "       'dropoff_longitude', 'dropoff_latitude', 'passenger_count',\n",
       "       'fare_amount', 'year', 'month', 'day_of_week', 'hour', 'session',\n",
       "       'season', 'week'],\n",
       "      dtype='object')"
      ]
     },
     "execution_count": 223,
     "metadata": {},
     "output_type": "execute_result"
    }
   ],
   "source": [
    "df.columns"
   ]
  },
  {
   "cell_type": "code",
   "execution_count": 225,
   "metadata": {},
   "outputs": [],
   "source": [
    "cat_columns = ['passenger_count','year','session','season', 'week']"
   ]
  },
  {
   "cell_type": "code",
   "execution_count": 233,
   "metadata": {},
   "outputs": [],
   "source": [
    "def add_dummies(data):\n",
    "    for i in cat_columns:\n",
    "        temp = pd.get_dummies(data[i], prefix=i)\n",
    "        data = data.join(temp)\n",
    "        \n",
    "    return data\n",
    "    "
   ]
  },
  {
   "cell_type": "code",
   "execution_count": 229,
   "metadata": {},
   "outputs": [],
   "source": [
    "#creating a checkpoint\n",
    "df_train3 = df.copy()"
   ]
  },
  {
   "cell_type": "code",
   "execution_count": null,
   "metadata": {},
   "outputs": [],
   "source": []
  },
  {
   "cell_type": "code",
   "execution_count": 236,
   "metadata": {},
   "outputs": [],
   "source": [
    "df = add_dummies(df)"
   ]
  },
  {
   "cell_type": "code",
   "execution_count": 237,
   "metadata": {},
   "outputs": [
    {
     "data": {
      "text/html": [
       "<div>\n",
       "<style scoped>\n",
       "    .dataframe tbody tr th:only-of-type {\n",
       "        vertical-align: middle;\n",
       "    }\n",
       "\n",
       "    .dataframe tbody tr th {\n",
       "        vertical-align: top;\n",
       "    }\n",
       "\n",
       "    .dataframe thead th {\n",
       "        text-align: right;\n",
       "    }\n",
       "</style>\n",
       "<table border=\"1\" class=\"dataframe\">\n",
       "  <thead>\n",
       "    <tr style=\"text-align: right;\">\n",
       "      <th></th>\n",
       "      <th>pickup_datetime</th>\n",
       "      <th>pickup_longitude</th>\n",
       "      <th>pickup_latitude</th>\n",
       "      <th>dropoff_longitude</th>\n",
       "      <th>dropoff_latitude</th>\n",
       "      <th>passenger_count</th>\n",
       "      <th>fare_amount</th>\n",
       "      <th>year</th>\n",
       "      <th>month</th>\n",
       "      <th>day_of_week</th>\n",
       "      <th>...</th>\n",
       "      <th>session_afternoon</th>\n",
       "      <th>session_evening</th>\n",
       "      <th>session_morning</th>\n",
       "      <th>session_night_AM</th>\n",
       "      <th>session_night_PM</th>\n",
       "      <th>season_monsoon</th>\n",
       "      <th>season_summer</th>\n",
       "      <th>season_winter</th>\n",
       "      <th>week_weekday</th>\n",
       "      <th>week_weekend</th>\n",
       "    </tr>\n",
       "  </thead>\n",
       "  <tbody>\n",
       "    <tr>\n",
       "      <th>0</th>\n",
       "      <td>2009-06-15 17:26:21+00:00</td>\n",
       "      <td>-73.844311</td>\n",
       "      <td>40.721319</td>\n",
       "      <td>-73.841610</td>\n",
       "      <td>40.712278</td>\n",
       "      <td>1.0</td>\n",
       "      <td>4.5</td>\n",
       "      <td>2009</td>\n",
       "      <td>6</td>\n",
       "      <td>0</td>\n",
       "      <td>...</td>\n",
       "      <td>0</td>\n",
       "      <td>1</td>\n",
       "      <td>0</td>\n",
       "      <td>0</td>\n",
       "      <td>0</td>\n",
       "      <td>0</td>\n",
       "      <td>1</td>\n",
       "      <td>0</td>\n",
       "      <td>1</td>\n",
       "      <td>0</td>\n",
       "    </tr>\n",
       "    <tr>\n",
       "      <th>1</th>\n",
       "      <td>2010-01-05 16:52:16+00:00</td>\n",
       "      <td>-74.016048</td>\n",
       "      <td>40.711303</td>\n",
       "      <td>-73.979268</td>\n",
       "      <td>40.782004</td>\n",
       "      <td>1.0</td>\n",
       "      <td>16.9</td>\n",
       "      <td>2010</td>\n",
       "      <td>1</td>\n",
       "      <td>1</td>\n",
       "      <td>...</td>\n",
       "      <td>1</td>\n",
       "      <td>0</td>\n",
       "      <td>0</td>\n",
       "      <td>0</td>\n",
       "      <td>0</td>\n",
       "      <td>0</td>\n",
       "      <td>0</td>\n",
       "      <td>1</td>\n",
       "      <td>1</td>\n",
       "      <td>0</td>\n",
       "    </tr>\n",
       "    <tr>\n",
       "      <th>2</th>\n",
       "      <td>2011-08-18 00:35:00+00:00</td>\n",
       "      <td>-73.982738</td>\n",
       "      <td>40.761270</td>\n",
       "      <td>-73.991242</td>\n",
       "      <td>40.750562</td>\n",
       "      <td>2.0</td>\n",
       "      <td>5.7</td>\n",
       "      <td>2011</td>\n",
       "      <td>8</td>\n",
       "      <td>3</td>\n",
       "      <td>...</td>\n",
       "      <td>0</td>\n",
       "      <td>0</td>\n",
       "      <td>0</td>\n",
       "      <td>1</td>\n",
       "      <td>0</td>\n",
       "      <td>1</td>\n",
       "      <td>0</td>\n",
       "      <td>0</td>\n",
       "      <td>1</td>\n",
       "      <td>0</td>\n",
       "    </tr>\n",
       "    <tr>\n",
       "      <th>3</th>\n",
       "      <td>2012-04-21 04:30:42+00:00</td>\n",
       "      <td>-73.987130</td>\n",
       "      <td>40.733143</td>\n",
       "      <td>-73.991567</td>\n",
       "      <td>40.758092</td>\n",
       "      <td>1.0</td>\n",
       "      <td>7.7</td>\n",
       "      <td>2012</td>\n",
       "      <td>4</td>\n",
       "      <td>5</td>\n",
       "      <td>...</td>\n",
       "      <td>0</td>\n",
       "      <td>0</td>\n",
       "      <td>0</td>\n",
       "      <td>1</td>\n",
       "      <td>0</td>\n",
       "      <td>0</td>\n",
       "      <td>1</td>\n",
       "      <td>0</td>\n",
       "      <td>0</td>\n",
       "      <td>1</td>\n",
       "    </tr>\n",
       "    <tr>\n",
       "      <th>4</th>\n",
       "      <td>2010-03-09 07:51:00+00:00</td>\n",
       "      <td>-73.968095</td>\n",
       "      <td>40.768008</td>\n",
       "      <td>-73.956655</td>\n",
       "      <td>40.783762</td>\n",
       "      <td>1.0</td>\n",
       "      <td>5.3</td>\n",
       "      <td>2010</td>\n",
       "      <td>3</td>\n",
       "      <td>1</td>\n",
       "      <td>...</td>\n",
       "      <td>0</td>\n",
       "      <td>0</td>\n",
       "      <td>1</td>\n",
       "      <td>0</td>\n",
       "      <td>0</td>\n",
       "      <td>0</td>\n",
       "      <td>1</td>\n",
       "      <td>0</td>\n",
       "      <td>1</td>\n",
       "      <td>0</td>\n",
       "    </tr>\n",
       "  </tbody>\n",
       "</table>\n",
       "<p>5 rows × 37 columns</p>\n",
       "</div>"
      ],
      "text/plain": [
       "            pickup_datetime  pickup_longitude  pickup_latitude  \\\n",
       "0 2009-06-15 17:26:21+00:00        -73.844311        40.721319   \n",
       "1 2010-01-05 16:52:16+00:00        -74.016048        40.711303   \n",
       "2 2011-08-18 00:35:00+00:00        -73.982738        40.761270   \n",
       "3 2012-04-21 04:30:42+00:00        -73.987130        40.733143   \n",
       "4 2010-03-09 07:51:00+00:00        -73.968095        40.768008   \n",
       "\n",
       "   dropoff_longitude  dropoff_latitude  passenger_count  fare_amount  year  \\\n",
       "0         -73.841610         40.712278              1.0          4.5  2009   \n",
       "1         -73.979268         40.782004              1.0         16.9  2010   \n",
       "2         -73.991242         40.750562              2.0          5.7  2011   \n",
       "3         -73.991567         40.758092              1.0          7.7  2012   \n",
       "4         -73.956655         40.783762              1.0          5.3  2010   \n",
       "\n",
       "   month  day_of_week  ...  session_afternoon session_evening session_morning  \\\n",
       "0      6            0  ...                  0               1               0   \n",
       "1      1            1  ...                  1               0               0   \n",
       "2      8            3  ...                  0               0               0   \n",
       "3      4            5  ...                  0               0               0   \n",
       "4      3            1  ...                  0               0               1   \n",
       "\n",
       "  session_night_AM  session_night_PM  season_monsoon  season_summer  \\\n",
       "0                0                 0               0              1   \n",
       "1                0                 0               0              0   \n",
       "2                1                 0               1              0   \n",
       "3                1                 0               0              1   \n",
       "4                0                 0               0              1   \n",
       "\n",
       "   season_winter  week_weekday  week_weekend  \n",
       "0              0             1             0  \n",
       "1              1             1             0  \n",
       "2              0             1             0  \n",
       "3              0             0             1  \n",
       "4              0             1             0  \n",
       "\n",
       "[5 rows x 37 columns]"
      ]
     },
     "execution_count": 237,
     "metadata": {},
     "output_type": "execute_result"
    }
   ],
   "source": [
    "df.head()"
   ]
  },
  {
   "cell_type": "code",
   "execution_count": 238,
   "metadata": {},
   "outputs": [
    {
     "data": {
      "text/plain": [
       "Index(['pickup_datetime', 'pickup_longitude', 'pickup_latitude',\n",
       "       'dropoff_longitude', 'dropoff_latitude', 'passenger_count',\n",
       "       'fare_amount', 'year', 'month', 'day_of_week', 'hour', 'session',\n",
       "       'season', 'week', 'passenger_count_1.0', 'passenger_count_2.0',\n",
       "       'passenger_count_3.0', 'passenger_count_4.0', 'passenger_count_5.0',\n",
       "       'passenger_count_6.0', 'year_2009', 'year_2010', 'year_2011',\n",
       "       'year_2012', 'year_2013', 'year_2014', 'year_2015', 'session_afternoon',\n",
       "       'session_evening', 'session_morning', 'session_night_AM',\n",
       "       'session_night_PM', 'season_monsoon', 'season_summer', 'season_winter',\n",
       "       'week_weekday', 'week_weekend'],\n",
       "      dtype='object')"
      ]
     },
     "execution_count": 238,
     "metadata": {},
     "output_type": "execute_result"
    }
   ],
   "source": [
    "df.columns"
   ]
  },
  {
   "cell_type": "code",
   "execution_count": null,
   "metadata": {},
   "outputs": [],
   "source": [
    "#Dropping one column of every one hot encoded variable"
   ]
  },
  {
   "cell_type": "code",
   "execution_count": 444,
   "metadata": {},
   "outputs": [],
   "source": [
    "columns_to_drop = ['passenger_count_1.0','year_2009','session_afternoon','season_monsoon','week_weekday']"
   ]
  },
  {
   "cell_type": "code",
   "execution_count": 240,
   "metadata": {},
   "outputs": [],
   "source": [
    "df = df.drop(columns=columns_to_drop, axis=1)"
   ]
  },
  {
   "cell_type": "code",
   "execution_count": 241,
   "metadata": {},
   "outputs": [
    {
     "data": {
      "text/html": [
       "<div>\n",
       "<style scoped>\n",
       "    .dataframe tbody tr th:only-of-type {\n",
       "        vertical-align: middle;\n",
       "    }\n",
       "\n",
       "    .dataframe tbody tr th {\n",
       "        vertical-align: top;\n",
       "    }\n",
       "\n",
       "    .dataframe thead th {\n",
       "        text-align: right;\n",
       "    }\n",
       "</style>\n",
       "<table border=\"1\" class=\"dataframe\">\n",
       "  <thead>\n",
       "    <tr style=\"text-align: right;\">\n",
       "      <th></th>\n",
       "      <th>pickup_datetime</th>\n",
       "      <th>pickup_longitude</th>\n",
       "      <th>pickup_latitude</th>\n",
       "      <th>dropoff_longitude</th>\n",
       "      <th>dropoff_latitude</th>\n",
       "      <th>passenger_count</th>\n",
       "      <th>fare_amount</th>\n",
       "      <th>year</th>\n",
       "      <th>month</th>\n",
       "      <th>day_of_week</th>\n",
       "      <th>...</th>\n",
       "      <th>year_2013</th>\n",
       "      <th>year_2014</th>\n",
       "      <th>year_2015</th>\n",
       "      <th>session_evening</th>\n",
       "      <th>session_morning</th>\n",
       "      <th>session_night_AM</th>\n",
       "      <th>session_night_PM</th>\n",
       "      <th>season_summer</th>\n",
       "      <th>season_winter</th>\n",
       "      <th>week_weekend</th>\n",
       "    </tr>\n",
       "  </thead>\n",
       "  <tbody>\n",
       "    <tr>\n",
       "      <th>0</th>\n",
       "      <td>2009-06-15 17:26:21+00:00</td>\n",
       "      <td>-73.844311</td>\n",
       "      <td>40.721319</td>\n",
       "      <td>-73.841610</td>\n",
       "      <td>40.712278</td>\n",
       "      <td>1.0</td>\n",
       "      <td>4.5</td>\n",
       "      <td>2009</td>\n",
       "      <td>6</td>\n",
       "      <td>0</td>\n",
       "      <td>...</td>\n",
       "      <td>0</td>\n",
       "      <td>0</td>\n",
       "      <td>0</td>\n",
       "      <td>1</td>\n",
       "      <td>0</td>\n",
       "      <td>0</td>\n",
       "      <td>0</td>\n",
       "      <td>1</td>\n",
       "      <td>0</td>\n",
       "      <td>0</td>\n",
       "    </tr>\n",
       "    <tr>\n",
       "      <th>1</th>\n",
       "      <td>2010-01-05 16:52:16+00:00</td>\n",
       "      <td>-74.016048</td>\n",
       "      <td>40.711303</td>\n",
       "      <td>-73.979268</td>\n",
       "      <td>40.782004</td>\n",
       "      <td>1.0</td>\n",
       "      <td>16.9</td>\n",
       "      <td>2010</td>\n",
       "      <td>1</td>\n",
       "      <td>1</td>\n",
       "      <td>...</td>\n",
       "      <td>0</td>\n",
       "      <td>0</td>\n",
       "      <td>0</td>\n",
       "      <td>0</td>\n",
       "      <td>0</td>\n",
       "      <td>0</td>\n",
       "      <td>0</td>\n",
       "      <td>0</td>\n",
       "      <td>1</td>\n",
       "      <td>0</td>\n",
       "    </tr>\n",
       "    <tr>\n",
       "      <th>2</th>\n",
       "      <td>2011-08-18 00:35:00+00:00</td>\n",
       "      <td>-73.982738</td>\n",
       "      <td>40.761270</td>\n",
       "      <td>-73.991242</td>\n",
       "      <td>40.750562</td>\n",
       "      <td>2.0</td>\n",
       "      <td>5.7</td>\n",
       "      <td>2011</td>\n",
       "      <td>8</td>\n",
       "      <td>3</td>\n",
       "      <td>...</td>\n",
       "      <td>0</td>\n",
       "      <td>0</td>\n",
       "      <td>0</td>\n",
       "      <td>0</td>\n",
       "      <td>0</td>\n",
       "      <td>1</td>\n",
       "      <td>0</td>\n",
       "      <td>0</td>\n",
       "      <td>0</td>\n",
       "      <td>0</td>\n",
       "    </tr>\n",
       "    <tr>\n",
       "      <th>3</th>\n",
       "      <td>2012-04-21 04:30:42+00:00</td>\n",
       "      <td>-73.987130</td>\n",
       "      <td>40.733143</td>\n",
       "      <td>-73.991567</td>\n",
       "      <td>40.758092</td>\n",
       "      <td>1.0</td>\n",
       "      <td>7.7</td>\n",
       "      <td>2012</td>\n",
       "      <td>4</td>\n",
       "      <td>5</td>\n",
       "      <td>...</td>\n",
       "      <td>0</td>\n",
       "      <td>0</td>\n",
       "      <td>0</td>\n",
       "      <td>0</td>\n",
       "      <td>0</td>\n",
       "      <td>1</td>\n",
       "      <td>0</td>\n",
       "      <td>1</td>\n",
       "      <td>0</td>\n",
       "      <td>1</td>\n",
       "    </tr>\n",
       "    <tr>\n",
       "      <th>4</th>\n",
       "      <td>2010-03-09 07:51:00+00:00</td>\n",
       "      <td>-73.968095</td>\n",
       "      <td>40.768008</td>\n",
       "      <td>-73.956655</td>\n",
       "      <td>40.783762</td>\n",
       "      <td>1.0</td>\n",
       "      <td>5.3</td>\n",
       "      <td>2010</td>\n",
       "      <td>3</td>\n",
       "      <td>1</td>\n",
       "      <td>...</td>\n",
       "      <td>0</td>\n",
       "      <td>0</td>\n",
       "      <td>0</td>\n",
       "      <td>0</td>\n",
       "      <td>1</td>\n",
       "      <td>0</td>\n",
       "      <td>0</td>\n",
       "      <td>1</td>\n",
       "      <td>0</td>\n",
       "      <td>0</td>\n",
       "    </tr>\n",
       "  </tbody>\n",
       "</table>\n",
       "<p>5 rows × 32 columns</p>\n",
       "</div>"
      ],
      "text/plain": [
       "            pickup_datetime  pickup_longitude  pickup_latitude  \\\n",
       "0 2009-06-15 17:26:21+00:00        -73.844311        40.721319   \n",
       "1 2010-01-05 16:52:16+00:00        -74.016048        40.711303   \n",
       "2 2011-08-18 00:35:00+00:00        -73.982738        40.761270   \n",
       "3 2012-04-21 04:30:42+00:00        -73.987130        40.733143   \n",
       "4 2010-03-09 07:51:00+00:00        -73.968095        40.768008   \n",
       "\n",
       "   dropoff_longitude  dropoff_latitude  passenger_count  fare_amount  year  \\\n",
       "0         -73.841610         40.712278              1.0          4.5  2009   \n",
       "1         -73.979268         40.782004              1.0         16.9  2010   \n",
       "2         -73.991242         40.750562              2.0          5.7  2011   \n",
       "3         -73.991567         40.758092              1.0          7.7  2012   \n",
       "4         -73.956655         40.783762              1.0          5.3  2010   \n",
       "\n",
       "   month  day_of_week  ...  year_2013 year_2014 year_2015 session_evening  \\\n",
       "0      6            0  ...          0         0         0               1   \n",
       "1      1            1  ...          0         0         0               0   \n",
       "2      8            3  ...          0         0         0               0   \n",
       "3      4            5  ...          0         0         0               0   \n",
       "4      3            1  ...          0         0         0               0   \n",
       "\n",
       "   session_morning  session_night_AM  session_night_PM  season_summer  \\\n",
       "0                0                 0                 0              1   \n",
       "1                0                 0                 0              0   \n",
       "2                0                 1                 0              0   \n",
       "3                0                 1                 0              1   \n",
       "4                1                 0                 0              1   \n",
       "\n",
       "   season_winter  week_weekend  \n",
       "0              0             0  \n",
       "1              1             0  \n",
       "2              0             0  \n",
       "3              0             1  \n",
       "4              0             0  \n",
       "\n",
       "[5 rows x 32 columns]"
      ]
     },
     "execution_count": 241,
     "metadata": {},
     "output_type": "execute_result"
    }
   ],
   "source": [
    "df.head()"
   ]
  },
  {
   "cell_type": "code",
   "execution_count": null,
   "metadata": {},
   "outputs": [],
   "source": []
  },
  {
   "cell_type": "code",
   "execution_count": 242,
   "metadata": {},
   "outputs": [],
   "source": [
    "#creating checkpoint\n",
    "df_train3 = df.copy()"
   ]
  },
  {
   "cell_type": "code",
   "execution_count": null,
   "metadata": {},
   "outputs": [],
   "source": []
  },
  {
   "cell_type": "code",
   "execution_count": null,
   "metadata": {},
   "outputs": [],
   "source": [
    "#Calculating distance using the pickup latitude-longitude and dropoff latitude-longitude"
   ]
  },
  {
   "cell_type": "code",
   "execution_count": 244,
   "metadata": {},
   "outputs": [],
   "source": []
  },
  {
   "cell_type": "code",
   "execution_count": 247,
   "metadata": {},
   "outputs": [
    {
     "name": "stdout",
     "output_type": "stream",
     "text": [
      "Collecting geopy\n",
      "  Downloading geopy-1.22.0-py2.py3-none-any.whl (113 kB)\n",
      "Collecting geographiclib<2,>=1.49\n",
      "  Downloading geographiclib-1.50-py3-none-any.whl (38 kB)\n",
      "Installing collected packages: geographiclib, geopy\n",
      "Successfully installed geographiclib-1.50 geopy-1.22.0\n"
     ]
    }
   ],
   "source": []
  },
  {
   "cell_type": "code",
   "execution_count": 248,
   "metadata": {},
   "outputs": [],
   "source": []
  },
  {
   "cell_type": "code",
   "execution_count": 258,
   "metadata": {},
   "outputs": [
    {
     "data": {
      "text/plain": [
       "15582"
      ]
     },
     "execution_count": 258,
     "metadata": {},
     "output_type": "execute_result"
    }
   ],
   "source": [
    "df.shape[0]"
   ]
  },
  {
   "cell_type": "code",
   "execution_count": 276,
   "metadata": {},
   "outputs": [],
   "source": [
    "def calc_distance(data):\n",
    "    data['distance_km'] = data.apply(lambda x: geodesic((x['pickup_latitude'],x['pickup_longitude']),(x['dropoff_latitude'],x['dropoff_longitude'])).kilometers, axis = 1)\n",
    "    return data"
   ]
  },
  {
   "cell_type": "code",
   "execution_count": 277,
   "metadata": {},
   "outputs": [],
   "source": [
    "df = calc_distance(df)"
   ]
  },
  {
   "cell_type": "code",
   "execution_count": 278,
   "metadata": {},
   "outputs": [
    {
     "data": {
      "text/html": [
       "<div>\n",
       "<style scoped>\n",
       "    .dataframe tbody tr th:only-of-type {\n",
       "        vertical-align: middle;\n",
       "    }\n",
       "\n",
       "    .dataframe tbody tr th {\n",
       "        vertical-align: top;\n",
       "    }\n",
       "\n",
       "    .dataframe thead th {\n",
       "        text-align: right;\n",
       "    }\n",
       "</style>\n",
       "<table border=\"1\" class=\"dataframe\">\n",
       "  <thead>\n",
       "    <tr style=\"text-align: right;\">\n",
       "      <th></th>\n",
       "      <th>pickup_datetime</th>\n",
       "      <th>pickup_longitude</th>\n",
       "      <th>pickup_latitude</th>\n",
       "      <th>dropoff_longitude</th>\n",
       "      <th>dropoff_latitude</th>\n",
       "      <th>passenger_count</th>\n",
       "      <th>fare_amount</th>\n",
       "      <th>year</th>\n",
       "      <th>month</th>\n",
       "      <th>day_of_week</th>\n",
       "      <th>...</th>\n",
       "      <th>year_2014</th>\n",
       "      <th>year_2015</th>\n",
       "      <th>session_evening</th>\n",
       "      <th>session_morning</th>\n",
       "      <th>session_night_AM</th>\n",
       "      <th>session_night_PM</th>\n",
       "      <th>season_summer</th>\n",
       "      <th>season_winter</th>\n",
       "      <th>week_weekend</th>\n",
       "      <th>distance_km</th>\n",
       "    </tr>\n",
       "  </thead>\n",
       "  <tbody>\n",
       "    <tr>\n",
       "      <th>0</th>\n",
       "      <td>2009-06-15 17:26:21+00:00</td>\n",
       "      <td>-73.844311</td>\n",
       "      <td>40.721319</td>\n",
       "      <td>-73.841610</td>\n",
       "      <td>40.712278</td>\n",
       "      <td>1.0</td>\n",
       "      <td>4.5</td>\n",
       "      <td>2009</td>\n",
       "      <td>6</td>\n",
       "      <td>0</td>\n",
       "      <td>...</td>\n",
       "      <td>0</td>\n",
       "      <td>0</td>\n",
       "      <td>1</td>\n",
       "      <td>0</td>\n",
       "      <td>0</td>\n",
       "      <td>0</td>\n",
       "      <td>1</td>\n",
       "      <td>0</td>\n",
       "      <td>0</td>\n",
       "      <td>1.029601</td>\n",
       "    </tr>\n",
       "    <tr>\n",
       "      <th>1</th>\n",
       "      <td>2010-01-05 16:52:16+00:00</td>\n",
       "      <td>-74.016048</td>\n",
       "      <td>40.711303</td>\n",
       "      <td>-73.979268</td>\n",
       "      <td>40.782004</td>\n",
       "      <td>1.0</td>\n",
       "      <td>16.9</td>\n",
       "      <td>2010</td>\n",
       "      <td>1</td>\n",
       "      <td>1</td>\n",
       "      <td>...</td>\n",
       "      <td>0</td>\n",
       "      <td>0</td>\n",
       "      <td>0</td>\n",
       "      <td>0</td>\n",
       "      <td>0</td>\n",
       "      <td>0</td>\n",
       "      <td>0</td>\n",
       "      <td>1</td>\n",
       "      <td>0</td>\n",
       "      <td>8.443441</td>\n",
       "    </tr>\n",
       "    <tr>\n",
       "      <th>2</th>\n",
       "      <td>2011-08-18 00:35:00+00:00</td>\n",
       "      <td>-73.982738</td>\n",
       "      <td>40.761270</td>\n",
       "      <td>-73.991242</td>\n",
       "      <td>40.750562</td>\n",
       "      <td>2.0</td>\n",
       "      <td>5.7</td>\n",
       "      <td>2011</td>\n",
       "      <td>8</td>\n",
       "      <td>3</td>\n",
       "      <td>...</td>\n",
       "      <td>0</td>\n",
       "      <td>0</td>\n",
       "      <td>0</td>\n",
       "      <td>0</td>\n",
       "      <td>1</td>\n",
       "      <td>0</td>\n",
       "      <td>0</td>\n",
       "      <td>0</td>\n",
       "      <td>0</td>\n",
       "      <td>1.389132</td>\n",
       "    </tr>\n",
       "    <tr>\n",
       "      <th>3</th>\n",
       "      <td>2012-04-21 04:30:42+00:00</td>\n",
       "      <td>-73.987130</td>\n",
       "      <td>40.733143</td>\n",
       "      <td>-73.991567</td>\n",
       "      <td>40.758092</td>\n",
       "      <td>1.0</td>\n",
       "      <td>7.7</td>\n",
       "      <td>2012</td>\n",
       "      <td>4</td>\n",
       "      <td>5</td>\n",
       "      <td>...</td>\n",
       "      <td>0</td>\n",
       "      <td>0</td>\n",
       "      <td>0</td>\n",
       "      <td>0</td>\n",
       "      <td>1</td>\n",
       "      <td>0</td>\n",
       "      <td>1</td>\n",
       "      <td>0</td>\n",
       "      <td>1</td>\n",
       "      <td>2.795790</td>\n",
       "    </tr>\n",
       "    <tr>\n",
       "      <th>4</th>\n",
       "      <td>2010-03-09 07:51:00+00:00</td>\n",
       "      <td>-73.968095</td>\n",
       "      <td>40.768008</td>\n",
       "      <td>-73.956655</td>\n",
       "      <td>40.783762</td>\n",
       "      <td>1.0</td>\n",
       "      <td>5.3</td>\n",
       "      <td>2010</td>\n",
       "      <td>3</td>\n",
       "      <td>1</td>\n",
       "      <td>...</td>\n",
       "      <td>0</td>\n",
       "      <td>0</td>\n",
       "      <td>0</td>\n",
       "      <td>1</td>\n",
       "      <td>0</td>\n",
       "      <td>0</td>\n",
       "      <td>1</td>\n",
       "      <td>0</td>\n",
       "      <td>0</td>\n",
       "      <td>1.998338</td>\n",
       "    </tr>\n",
       "  </tbody>\n",
       "</table>\n",
       "<p>5 rows × 33 columns</p>\n",
       "</div>"
      ],
      "text/plain": [
       "            pickup_datetime  pickup_longitude  pickup_latitude  \\\n",
       "0 2009-06-15 17:26:21+00:00        -73.844311        40.721319   \n",
       "1 2010-01-05 16:52:16+00:00        -74.016048        40.711303   \n",
       "2 2011-08-18 00:35:00+00:00        -73.982738        40.761270   \n",
       "3 2012-04-21 04:30:42+00:00        -73.987130        40.733143   \n",
       "4 2010-03-09 07:51:00+00:00        -73.968095        40.768008   \n",
       "\n",
       "   dropoff_longitude  dropoff_latitude  passenger_count  fare_amount  year  \\\n",
       "0         -73.841610         40.712278              1.0          4.5  2009   \n",
       "1         -73.979268         40.782004              1.0         16.9  2010   \n",
       "2         -73.991242         40.750562              2.0          5.7  2011   \n",
       "3         -73.991567         40.758092              1.0          7.7  2012   \n",
       "4         -73.956655         40.783762              1.0          5.3  2010   \n",
       "\n",
       "   month  day_of_week  ...  year_2014 year_2015 session_evening  \\\n",
       "0      6            0  ...          0         0               1   \n",
       "1      1            1  ...          0         0               0   \n",
       "2      8            3  ...          0         0               0   \n",
       "3      4            5  ...          0         0               0   \n",
       "4      3            1  ...          0         0               0   \n",
       "\n",
       "  session_morning  session_night_AM  session_night_PM  season_summer  \\\n",
       "0               0                 0                 0              1   \n",
       "1               0                 0                 0              0   \n",
       "2               0                 1                 0              0   \n",
       "3               0                 1                 0              1   \n",
       "4               1                 0                 0              1   \n",
       "\n",
       "   season_winter  week_weekend  distance_km  \n",
       "0              0             0     1.029601  \n",
       "1              1             0     8.443441  \n",
       "2              0             0     1.389132  \n",
       "3              0             1     2.795790  \n",
       "4              0             0     1.998338  \n",
       "\n",
       "[5 rows x 33 columns]"
      ]
     },
     "execution_count": 278,
     "metadata": {},
     "output_type": "execute_result"
    }
   ],
   "source": [
    "df.head()"
   ]
  },
  {
   "cell_type": "code",
   "execution_count": null,
   "metadata": {},
   "outputs": [],
   "source": []
  },
  {
   "cell_type": "code",
   "execution_count": null,
   "metadata": {},
   "outputs": [],
   "source": []
  },
  {
   "cell_type": "code",
   "execution_count": 279,
   "metadata": {},
   "outputs": [],
   "source": [
    "#creating checkpoint\n",
    "df_train4 = df.copy()"
   ]
  },
  {
   "cell_type": "code",
   "execution_count": null,
   "metadata": {},
   "outputs": [],
   "source": []
  },
  {
   "cell_type": "code",
   "execution_count": 280,
   "metadata": {},
   "outputs": [
    {
     "data": {
      "text/plain": [
       "Index(['pickup_datetime', 'pickup_longitude', 'pickup_latitude',\n",
       "       'dropoff_longitude', 'dropoff_latitude', 'passenger_count',\n",
       "       'fare_amount', 'year', 'month', 'day_of_week', 'hour', 'session',\n",
       "       'season', 'week', 'passenger_count_2.0', 'passenger_count_3.0',\n",
       "       'passenger_count_4.0', 'passenger_count_5.0', 'passenger_count_6.0',\n",
       "       'year_2010', 'year_2011', 'year_2012', 'year_2013', 'year_2014',\n",
       "       'year_2015', 'session_evening', 'session_morning', 'session_night_AM',\n",
       "       'session_night_PM', 'season_summer', 'season_winter', 'week_weekend',\n",
       "       'distance_km'],\n",
       "      dtype='object')"
      ]
     },
     "execution_count": 280,
     "metadata": {},
     "output_type": "execute_result"
    }
   ],
   "source": [
    "df.columns"
   ]
  },
  {
   "cell_type": "code",
   "execution_count": 281,
   "metadata": {},
   "outputs": [],
   "source": [
    "#Dropping all variables used in feature engineering\n",
    "vars_to_drop = ['pickup_datetime', 'pickup_longitude', 'pickup_latitude',\n",
    "       'dropoff_longitude', 'dropoff_latitude', 'passenger_count',\n",
    "                'year', 'month', 'day_of_week', 'hour', 'session','season', 'week']"
   ]
  },
  {
   "cell_type": "code",
   "execution_count": 282,
   "metadata": {},
   "outputs": [],
   "source": [
    "def drop_fe_vars(data):\n",
    "    data = data.drop(vars_to_drop, axis = 1)\n",
    "    return data"
   ]
  },
  {
   "cell_type": "code",
   "execution_count": 283,
   "metadata": {},
   "outputs": [],
   "source": [
    "df = drop_fe_vars(df)"
   ]
  },
  {
   "cell_type": "code",
   "execution_count": 284,
   "metadata": {},
   "outputs": [
    {
     "data": {
      "text/html": [
       "<div>\n",
       "<style scoped>\n",
       "    .dataframe tbody tr th:only-of-type {\n",
       "        vertical-align: middle;\n",
       "    }\n",
       "\n",
       "    .dataframe tbody tr th {\n",
       "        vertical-align: top;\n",
       "    }\n",
       "\n",
       "    .dataframe thead th {\n",
       "        text-align: right;\n",
       "    }\n",
       "</style>\n",
       "<table border=\"1\" class=\"dataframe\">\n",
       "  <thead>\n",
       "    <tr style=\"text-align: right;\">\n",
       "      <th></th>\n",
       "      <th>fare_amount</th>\n",
       "      <th>passenger_count_2.0</th>\n",
       "      <th>passenger_count_3.0</th>\n",
       "      <th>passenger_count_4.0</th>\n",
       "      <th>passenger_count_5.0</th>\n",
       "      <th>passenger_count_6.0</th>\n",
       "      <th>year_2010</th>\n",
       "      <th>year_2011</th>\n",
       "      <th>year_2012</th>\n",
       "      <th>year_2013</th>\n",
       "      <th>year_2014</th>\n",
       "      <th>year_2015</th>\n",
       "      <th>session_evening</th>\n",
       "      <th>session_morning</th>\n",
       "      <th>session_night_AM</th>\n",
       "      <th>session_night_PM</th>\n",
       "      <th>season_summer</th>\n",
       "      <th>season_winter</th>\n",
       "      <th>week_weekend</th>\n",
       "      <th>distance_km</th>\n",
       "    </tr>\n",
       "  </thead>\n",
       "  <tbody>\n",
       "    <tr>\n",
       "      <th>0</th>\n",
       "      <td>4.5</td>\n",
       "      <td>0</td>\n",
       "      <td>0</td>\n",
       "      <td>0</td>\n",
       "      <td>0</td>\n",
       "      <td>0</td>\n",
       "      <td>0</td>\n",
       "      <td>0</td>\n",
       "      <td>0</td>\n",
       "      <td>0</td>\n",
       "      <td>0</td>\n",
       "      <td>0</td>\n",
       "      <td>1</td>\n",
       "      <td>0</td>\n",
       "      <td>0</td>\n",
       "      <td>0</td>\n",
       "      <td>1</td>\n",
       "      <td>0</td>\n",
       "      <td>0</td>\n",
       "      <td>1.029601</td>\n",
       "    </tr>\n",
       "    <tr>\n",
       "      <th>1</th>\n",
       "      <td>16.9</td>\n",
       "      <td>0</td>\n",
       "      <td>0</td>\n",
       "      <td>0</td>\n",
       "      <td>0</td>\n",
       "      <td>0</td>\n",
       "      <td>1</td>\n",
       "      <td>0</td>\n",
       "      <td>0</td>\n",
       "      <td>0</td>\n",
       "      <td>0</td>\n",
       "      <td>0</td>\n",
       "      <td>0</td>\n",
       "      <td>0</td>\n",
       "      <td>0</td>\n",
       "      <td>0</td>\n",
       "      <td>0</td>\n",
       "      <td>1</td>\n",
       "      <td>0</td>\n",
       "      <td>8.443441</td>\n",
       "    </tr>\n",
       "    <tr>\n",
       "      <th>2</th>\n",
       "      <td>5.7</td>\n",
       "      <td>1</td>\n",
       "      <td>0</td>\n",
       "      <td>0</td>\n",
       "      <td>0</td>\n",
       "      <td>0</td>\n",
       "      <td>0</td>\n",
       "      <td>1</td>\n",
       "      <td>0</td>\n",
       "      <td>0</td>\n",
       "      <td>0</td>\n",
       "      <td>0</td>\n",
       "      <td>0</td>\n",
       "      <td>0</td>\n",
       "      <td>1</td>\n",
       "      <td>0</td>\n",
       "      <td>0</td>\n",
       "      <td>0</td>\n",
       "      <td>0</td>\n",
       "      <td>1.389132</td>\n",
       "    </tr>\n",
       "    <tr>\n",
       "      <th>3</th>\n",
       "      <td>7.7</td>\n",
       "      <td>0</td>\n",
       "      <td>0</td>\n",
       "      <td>0</td>\n",
       "      <td>0</td>\n",
       "      <td>0</td>\n",
       "      <td>0</td>\n",
       "      <td>0</td>\n",
       "      <td>1</td>\n",
       "      <td>0</td>\n",
       "      <td>0</td>\n",
       "      <td>0</td>\n",
       "      <td>0</td>\n",
       "      <td>0</td>\n",
       "      <td>1</td>\n",
       "      <td>0</td>\n",
       "      <td>1</td>\n",
       "      <td>0</td>\n",
       "      <td>1</td>\n",
       "      <td>2.795790</td>\n",
       "    </tr>\n",
       "    <tr>\n",
       "      <th>4</th>\n",
       "      <td>5.3</td>\n",
       "      <td>0</td>\n",
       "      <td>0</td>\n",
       "      <td>0</td>\n",
       "      <td>0</td>\n",
       "      <td>0</td>\n",
       "      <td>1</td>\n",
       "      <td>0</td>\n",
       "      <td>0</td>\n",
       "      <td>0</td>\n",
       "      <td>0</td>\n",
       "      <td>0</td>\n",
       "      <td>0</td>\n",
       "      <td>1</td>\n",
       "      <td>0</td>\n",
       "      <td>0</td>\n",
       "      <td>1</td>\n",
       "      <td>0</td>\n",
       "      <td>0</td>\n",
       "      <td>1.998338</td>\n",
       "    </tr>\n",
       "  </tbody>\n",
       "</table>\n",
       "</div>"
      ],
      "text/plain": [
       "   fare_amount  passenger_count_2.0  passenger_count_3.0  passenger_count_4.0  \\\n",
       "0          4.5                    0                    0                    0   \n",
       "1         16.9                    0                    0                    0   \n",
       "2          5.7                    1                    0                    0   \n",
       "3          7.7                    0                    0                    0   \n",
       "4          5.3                    0                    0                    0   \n",
       "\n",
       "   passenger_count_5.0  passenger_count_6.0  year_2010  year_2011  year_2012  \\\n",
       "0                    0                    0          0          0          0   \n",
       "1                    0                    0          1          0          0   \n",
       "2                    0                    0          0          1          0   \n",
       "3                    0                    0          0          0          1   \n",
       "4                    0                    0          1          0          0   \n",
       "\n",
       "   year_2013  year_2014  year_2015  session_evening  session_morning  \\\n",
       "0          0          0          0                1                0   \n",
       "1          0          0          0                0                0   \n",
       "2          0          0          0                0                0   \n",
       "3          0          0          0                0                0   \n",
       "4          0          0          0                0                1   \n",
       "\n",
       "   session_night_AM  session_night_PM  season_summer  season_winter  \\\n",
       "0                 0                 0              1              0   \n",
       "1                 0                 0              0              1   \n",
       "2                 1                 0              0              0   \n",
       "3                 1                 0              1              0   \n",
       "4                 0                 0              1              0   \n",
       "\n",
       "   week_weekend  distance_km  \n",
       "0             0     1.029601  \n",
       "1             0     8.443441  \n",
       "2             0     1.389132  \n",
       "3             1     2.795790  \n",
       "4             0     1.998338  "
      ]
     },
     "execution_count": 284,
     "metadata": {},
     "output_type": "execute_result"
    }
   ],
   "source": [
    "df.head()"
   ]
  },
  {
   "cell_type": "code",
   "execution_count": 286,
   "metadata": {},
   "outputs": [
    {
     "data": {
      "text/plain": [
       "(15582, 20)"
      ]
     },
     "execution_count": 286,
     "metadata": {},
     "output_type": "execute_result"
    }
   ],
   "source": [
    "df.shape"
   ]
  },
  {
   "cell_type": "code",
   "execution_count": null,
   "metadata": {},
   "outputs": [],
   "source": []
  },
  {
   "cell_type": "code",
   "execution_count": 287,
   "metadata": {},
   "outputs": [
    {
     "data": {
      "text/plain": [
       "<matplotlib.axes._subplots.AxesSubplot at 0x2149a25fbe0>"
      ]
     },
     "execution_count": 287,
     "metadata": {},
     "output_type": "execute_result"
    },
    {
     "data": {
      "image/png": "[encoded data removed]",
      "text/plain": [
       "<Figure size 1440x360 with 1 Axes>"
      ]
     },
     "metadata": {},
     "output_type": "display_data"
    }
   ],
   "source": [
    "#Value analysis of the new distance_km variable\n",
    "plt.figure(figsize=(20,5))\n",
    "sns.boxplot(df['distance_km'])"
   ]
  },
  {
   "cell_type": "code",
   "execution_count": 288,
   "metadata": {},
   "outputs": [
    {
     "name": "stdout",
     "output_type": "stream",
     "text": [
      "-2.709579918100085 7.870814081174286\n"
     ]
    }
   ],
   "source": [
    "outlier_detect('distance_km')"
   ]
  },
  {
   "cell_type": "code",
   "execution_count": 289,
   "metadata": {},
   "outputs": [
    {
     "data": {
      "text/html": [
       "<div>\n",
       "<style scoped>\n",
       "    .dataframe tbody tr th:only-of-type {\n",
       "        vertical-align: middle;\n",
       "    }\n",
       "\n",
       "    .dataframe tbody tr th {\n",
       "        vertical-align: top;\n",
       "    }\n",
       "\n",
       "    .dataframe thead th {\n",
       "        text-align: right;\n",
       "    }\n",
       "</style>\n",
       "<table border=\"1\" class=\"dataframe\">\n",
       "  <thead>\n",
       "    <tr style=\"text-align: right;\">\n",
       "      <th></th>\n",
       "      <th>0</th>\n",
       "    </tr>\n",
       "  </thead>\n",
       "  <tbody>\n",
       "    <tr>\n",
       "      <th>fare_amount</th>\n",
       "      <td>0</td>\n",
       "    </tr>\n",
       "    <tr>\n",
       "      <th>passenger_count_2.0</th>\n",
       "      <td>0</td>\n",
       "    </tr>\n",
       "    <tr>\n",
       "      <th>passenger_count_3.0</th>\n",
       "      <td>0</td>\n",
       "    </tr>\n",
       "    <tr>\n",
       "      <th>passenger_count_4.0</th>\n",
       "      <td>0</td>\n",
       "    </tr>\n",
       "    <tr>\n",
       "      <th>passenger_count_5.0</th>\n",
       "      <td>0</td>\n",
       "    </tr>\n",
       "    <tr>\n",
       "      <th>passenger_count_6.0</th>\n",
       "      <td>0</td>\n",
       "    </tr>\n",
       "    <tr>\n",
       "      <th>year_2010</th>\n",
       "      <td>0</td>\n",
       "    </tr>\n",
       "    <tr>\n",
       "      <th>year_2011</th>\n",
       "      <td>0</td>\n",
       "    </tr>\n",
       "    <tr>\n",
       "      <th>year_2012</th>\n",
       "      <td>0</td>\n",
       "    </tr>\n",
       "    <tr>\n",
       "      <th>year_2013</th>\n",
       "      <td>0</td>\n",
       "    </tr>\n",
       "    <tr>\n",
       "      <th>year_2014</th>\n",
       "      <td>0</td>\n",
       "    </tr>\n",
       "    <tr>\n",
       "      <th>year_2015</th>\n",
       "      <td>0</td>\n",
       "    </tr>\n",
       "    <tr>\n",
       "      <th>session_evening</th>\n",
       "      <td>0</td>\n",
       "    </tr>\n",
       "    <tr>\n",
       "      <th>session_morning</th>\n",
       "      <td>0</td>\n",
       "    </tr>\n",
       "    <tr>\n",
       "      <th>session_night_AM</th>\n",
       "      <td>0</td>\n",
       "    </tr>\n",
       "    <tr>\n",
       "      <th>session_night_PM</th>\n",
       "      <td>0</td>\n",
       "    </tr>\n",
       "    <tr>\n",
       "      <th>season_summer</th>\n",
       "      <td>0</td>\n",
       "    </tr>\n",
       "    <tr>\n",
       "      <th>season_winter</th>\n",
       "      <td>0</td>\n",
       "    </tr>\n",
       "    <tr>\n",
       "      <th>week_weekend</th>\n",
       "      <td>0</td>\n",
       "    </tr>\n",
       "    <tr>\n",
       "      <th>distance_km</th>\n",
       "      <td>1344</td>\n",
       "    </tr>\n",
       "  </tbody>\n",
       "</table>\n",
       "</div>"
      ],
      "text/plain": [
       "                        0\n",
       "fare_amount             0\n",
       "passenger_count_2.0     0\n",
       "passenger_count_3.0     0\n",
       "passenger_count_4.0     0\n",
       "passenger_count_5.0     0\n",
       "passenger_count_6.0     0\n",
       "year_2010               0\n",
       "year_2011               0\n",
       "year_2012               0\n",
       "year_2013               0\n",
       "year_2014               0\n",
       "year_2015               0\n",
       "session_evening         0\n",
       "session_morning         0\n",
       "session_night_AM        0\n",
       "session_night_PM        0\n",
       "season_summer           0\n",
       "season_winter           0\n",
       "week_weekend            0\n",
       "distance_km          1344"
      ]
     },
     "execution_count": 289,
     "metadata": {},
     "output_type": "execute_result"
    }
   ],
   "source": [
    "pd.DataFrame(df.isnull().sum())"
   ]
  },
  {
   "cell_type": "code",
   "execution_count": 290,
   "metadata": {},
   "outputs": [],
   "source": [
    "#df_train5 = df.copy()"
   ]
  },
  {
   "cell_type": "code",
   "execution_count": null,
   "metadata": {},
   "outputs": [],
   "source": [
    "#Applying KNN to impute the missing values of the distance_km variable"
   ]
  },
  {
   "cell_type": "code",
   "execution_count": 291,
   "metadata": {
    "collapsed": true
   },
   "outputs": [
    {
     "name": "stdout",
     "output_type": "stream",
     "text": [
      "Imputing row 1/15582 with 0 missing, elapsed time: 146.215\n",
      "Imputing row 101/15582 with 0 missing, elapsed time: 162.305\n",
      "Imputing row 201/15582 with 1 missing, elapsed time: 163.274\n",
      "Imputing row 301/15582 with 0 missing, elapsed time: 163.296\n",
      "Imputing row 401/15582 with 0 missing, elapsed time: 163.309\n",
      "Imputing row 501/15582 with 0 missing, elapsed time: 163.332\n",
      "Imputing row 601/15582 with 0 missing, elapsed time: 163.347\n",
      "Imputing row 701/15582 with 0 missing, elapsed time: 163.368\n",
      "Imputing row 801/15582 with 0 missing, elapsed time: 163.391\n",
      "Imputing row 901/15582 with 0 missing, elapsed time: 163.397\n",
      "Imputing row 1001/15582 with 0 missing, elapsed time: 163.406\n",
      "Imputing row 1101/15582 with 1 missing, elapsed time: 163.411\n",
      "Imputing row 1201/15582 with 1 missing, elapsed time: 163.415\n",
      "Imputing row 1301/15582 with 0 missing, elapsed time: 163.422\n",
      "Imputing row 1401/15582 with 0 missing, elapsed time: 163.432\n",
      "Imputing row 1501/15582 with 0 missing, elapsed time: 163.439\n",
      "Imputing row 1601/15582 with 0 missing, elapsed time: 163.448\n",
      "Imputing row 1701/15582 with 0 missing, elapsed time: 163.455\n",
      "Imputing row 1801/15582 with 0 missing, elapsed time: 163.670\n",
      "Imputing row 1901/15582 with 0 missing, elapsed time: 163.678\n",
      "Imputing row 2001/15582 with 1 missing, elapsed time: 163.681\n",
      "Imputing row 2101/15582 with 0 missing, elapsed time: 163.687\n",
      "Imputing row 2201/15582 with 0 missing, elapsed time: 163.691\n",
      "Imputing row 2301/15582 with 0 missing, elapsed time: 163.696\n",
      "Imputing row 2401/15582 with 0 missing, elapsed time: 163.699\n",
      "Imputing row 2501/15582 with 0 missing, elapsed time: 163.705\n",
      "Imputing row 2601/15582 with 0 missing, elapsed time: 163.709\n",
      "Imputing row 2701/15582 with 0 missing, elapsed time: 163.715\n",
      "Imputing row 2801/15582 with 0 missing, elapsed time: 163.718\n",
      "Imputing row 2901/15582 with 0 missing, elapsed time: 163.721\n",
      "Imputing row 3001/15582 with 1 missing, elapsed time: 163.724\n",
      "Imputing row 3101/15582 with 1 missing, elapsed time: 163.727\n",
      "Imputing row 3201/15582 with 0 missing, elapsed time: 163.731\n",
      "Imputing row 3301/15582 with 1 missing, elapsed time: 163.735\n",
      "Imputing row 3401/15582 with 0 missing, elapsed time: 163.738\n",
      "Imputing row 3501/15582 with 0 missing, elapsed time: 163.740\n",
      "Imputing row 3601/15582 with 0 missing, elapsed time: 163.746\n",
      "Imputing row 3701/15582 with 0 missing, elapsed time: 163.749\n",
      "Imputing row 3801/15582 with 0 missing, elapsed time: 163.752\n",
      "Imputing row 3901/15582 with 0 missing, elapsed time: 163.756\n",
      "Imputing row 4001/15582 with 0 missing, elapsed time: 163.760\n",
      "Imputing row 4101/15582 with 0 missing, elapsed time: 163.763\n",
      "Imputing row 4201/15582 with 0 missing, elapsed time: 163.768\n",
      "Imputing row 4301/15582 with 0 missing, elapsed time: 163.777\n",
      "Imputing row 4401/15582 with 1 missing, elapsed time: 163.788\n",
      "Imputing row 4501/15582 with 1 missing, elapsed time: 163.800\n",
      "Imputing row 4601/15582 with 0 missing, elapsed time: 163.814\n",
      "Imputing row 4701/15582 with 0 missing, elapsed time: 163.822\n",
      "Imputing row 4801/15582 with 0 missing, elapsed time: 163.830\n",
      "Imputing row 4901/15582 with 0 missing, elapsed time: 163.835\n",
      "Imputing row 5001/15582 with 0 missing, elapsed time: 163.846\n",
      "Imputing row 5101/15582 with 0 missing, elapsed time: 163.968\n",
      "Imputing row 5201/15582 with 0 missing, elapsed time: 163.986\n",
      "Imputing row 5301/15582 with 0 missing, elapsed time: 164.000\n",
      "Imputing row 5401/15582 with 0 missing, elapsed time: 164.009\n",
      "Imputing row 5501/15582 with 0 missing, elapsed time: 164.025\n",
      "Imputing row 5601/15582 with 0 missing, elapsed time: 164.036\n",
      "Imputing row 5701/15582 with 0 missing, elapsed time: 164.049\n",
      "Imputing row 5801/15582 with 0 missing, elapsed time: 164.064\n",
      "Imputing row 5901/15582 with 0 missing, elapsed time: 164.072\n",
      "Imputing row 6001/15582 with 0 missing, elapsed time: 164.445\n",
      "Imputing row 6101/15582 with 0 missing, elapsed time: 164.471\n",
      "Imputing row 6201/15582 with 0 missing, elapsed time: 164.477\n",
      "Imputing row 6301/15582 with 0 missing, elapsed time: 164.488\n",
      "Imputing row 6401/15582 with 0 missing, elapsed time: 164.497\n",
      "Imputing row 6501/15582 with 0 missing, elapsed time: 164.510\n",
      "Imputing row 6601/15582 with 0 missing, elapsed time: 164.520\n",
      "Imputing row 6701/15582 with 1 missing, elapsed time: 164.533\n",
      "Imputing row 6801/15582 with 0 missing, elapsed time: 164.545\n",
      "Imputing row 6901/15582 with 0 missing, elapsed time: 164.552\n",
      "Imputing row 7001/15582 with 0 missing, elapsed time: 164.558\n",
      "Imputing row 7101/15582 with 0 missing, elapsed time: 164.571\n",
      "Imputing row 7201/15582 with 0 missing, elapsed time: 164.583\n",
      "Imputing row 7301/15582 with 0 missing, elapsed time: 164.613\n",
      "Imputing row 7401/15582 with 0 missing, elapsed time: 164.621\n",
      "Imputing row 7501/15582 with 0 missing, elapsed time: 164.634\n",
      "Imputing row 7601/15582 with 0 missing, elapsed time: 164.643\n",
      "Imputing row 7701/15582 with 0 missing, elapsed time: 164.650\n",
      "Imputing row 7801/15582 with 0 missing, elapsed time: 164.673\n",
      "Imputing row 7901/15582 with 0 missing, elapsed time: 164.736\n",
      "Imputing row 8001/15582 with 0 missing, elapsed time: 164.751\n",
      "Imputing row 8101/15582 with 0 missing, elapsed time: 164.780\n",
      "Imputing row 8201/15582 with 0 missing, elapsed time: 164.820\n",
      "Imputing row 8301/15582 with 0 missing, elapsed time: 164.847\n",
      "Imputing row 8401/15582 with 0 missing, elapsed time: 164.988\n",
      "Imputing row 8501/15582 with 0 missing, elapsed time: 164.998\n",
      "Imputing row 8601/15582 with 0 missing, elapsed time: 165.004\n",
      "Imputing row 8701/15582 with 0 missing, elapsed time: 165.013\n",
      "Imputing row 8801/15582 with 0 missing, elapsed time: 165.026\n",
      "Imputing row 8901/15582 with 0 missing, elapsed time: 165.037\n",
      "Imputing row 9001/15582 with 1 missing, elapsed time: 165.046\n",
      "Imputing row 9101/15582 with 0 missing, elapsed time: 165.050\n",
      "Imputing row 9201/15582 with 0 missing, elapsed time: 165.065\n",
      "Imputing row 9301/15582 with 0 missing, elapsed time: 165.070\n",
      "Imputing row 9401/15582 with 0 missing, elapsed time: 165.080\n",
      "Imputing row 9501/15582 with 0 missing, elapsed time: 165.087\n",
      "Imputing row 9601/15582 with 0 missing, elapsed time: 165.101\n",
      "Imputing row 9701/15582 with 0 missing, elapsed time: 165.118\n",
      "Imputing row 9801/15582 with 0 missing, elapsed time: 165.134\n",
      "Imputing row 9901/15582 with 0 missing, elapsed time: 165.148\n",
      "Imputing row 10001/15582 with 0 missing, elapsed time: 165.156\n",
      "Imputing row 10101/15582 with 0 missing, elapsed time: 165.161\n",
      "Imputing row 10201/15582 with 0 missing, elapsed time: 165.167\n",
      "Imputing row 10301/15582 with 0 missing, elapsed time: 165.173\n",
      "Imputing row 10401/15582 with 0 missing, elapsed time: 165.197\n",
      "Imputing row 10501/15582 with 0 missing, elapsed time: 165.218\n",
      "Imputing row 10601/15582 with 0 missing, elapsed time: 165.236\n",
      "Imputing row 10701/15582 with 0 missing, elapsed time: 165.241\n",
      "Imputing row 10801/15582 with 0 missing, elapsed time: 165.249\n",
      "Imputing row 10901/15582 with 0 missing, elapsed time: 165.266\n",
      "Imputing row 11001/15582 with 0 missing, elapsed time: 165.276\n",
      "Imputing row 11101/15582 with 0 missing, elapsed time: 165.281\n",
      "Imputing row 11201/15582 with 0 missing, elapsed time: 165.290\n",
      "Imputing row 11301/15582 with 0 missing, elapsed time: 165.303\n",
      "Imputing row 11401/15582 with 1 missing, elapsed time: 165.384\n",
      "Imputing row 11501/15582 with 0 missing, elapsed time: 165.398\n",
      "Imputing row 11601/15582 with 0 missing, elapsed time: 165.406\n",
      "Imputing row 11701/15582 with 0 missing, elapsed time: 165.416\n",
      "Imputing row 11801/15582 with 0 missing, elapsed time: 165.426\n",
      "Imputing row 11901/15582 with 0 missing, elapsed time: 165.433\n",
      "Imputing row 12001/15582 with 0 missing, elapsed time: 165.446\n",
      "Imputing row 12101/15582 with 1 missing, elapsed time: 165.465\n",
      "Imputing row 12201/15582 with 0 missing, elapsed time: 165.470\n",
      "Imputing row 12301/15582 with 0 missing, elapsed time: 165.481\n",
      "Imputing row 12401/15582 with 0 missing, elapsed time: 165.489\n",
      "Imputing row 12501/15582 with 0 missing, elapsed time: 165.495\n",
      "Imputing row 12601/15582 with 0 missing, elapsed time: 165.500\n",
      "Imputing row 12701/15582 with 0 missing, elapsed time: 165.506\n",
      "Imputing row 12801/15582 with 0 missing, elapsed time: 165.536\n",
      "Imputing row 12901/15582 with 0 missing, elapsed time: 165.555\n",
      "Imputing row 13001/15582 with 1 missing, elapsed time: 165.563\n",
      "Imputing row 13101/15582 with 0 missing, elapsed time: 165.571\n",
      "Imputing row 13201/15582 with 0 missing, elapsed time: 165.578\n",
      "Imputing row 13301/15582 with 0 missing, elapsed time: 165.586\n"
     ]
    },
    {
     "name": "stdout",
     "output_type": "stream",
     "text": [
      "Imputing row 13401/15582 with 0 missing, elapsed time: 165.599\n",
      "Imputing row 13501/15582 with 0 missing, elapsed time: 165.611\n",
      "Imputing row 13601/15582 with 0 missing, elapsed time: 165.620\n",
      "Imputing row 13701/15582 with 0 missing, elapsed time: 165.629\n",
      "Imputing row 13801/15582 with 0 missing, elapsed time: 165.635\n",
      "Imputing row 13901/15582 with 0 missing, elapsed time: 165.656\n",
      "Imputing row 14001/15582 with 0 missing, elapsed time: 165.679\n",
      "Imputing row 14101/15582 with 0 missing, elapsed time: 165.685\n",
      "Imputing row 14201/15582 with 0 missing, elapsed time: 165.700\n",
      "Imputing row 14301/15582 with 0 missing, elapsed time: 165.705\n",
      "Imputing row 14401/15582 with 0 missing, elapsed time: 165.720\n",
      "Imputing row 14501/15582 with 0 missing, elapsed time: 165.743\n",
      "Imputing row 14601/15582 with 0 missing, elapsed time: 165.769\n",
      "Imputing row 14701/15582 with 0 missing, elapsed time: 165.838\n",
      "Imputing row 14801/15582 with 1 missing, elapsed time: 165.866\n",
      "Imputing row 14901/15582 with 0 missing, elapsed time: 165.871\n",
      "Imputing row 15001/15582 with 0 missing, elapsed time: 165.891\n",
      "Imputing row 15101/15582 with 0 missing, elapsed time: 165.902\n",
      "Imputing row 15201/15582 with 0 missing, elapsed time: 165.907\n",
      "Imputing row 15301/15582 with 0 missing, elapsed time: 165.919\n",
      "Imputing row 15401/15582 with 0 missing, elapsed time: 165.930\n",
      "Imputing row 15501/15582 with 1 missing, elapsed time: 165.938\n"
     ]
    }
   ],
   "source": [
    "df = pd.DataFrame(KNN(k=3).fit_transform(df),index=df.index, columns=df.columns)"
   ]
  },
  {
   "cell_type": "code",
   "execution_count": 292,
   "metadata": {},
   "outputs": [
    {
     "data": {
      "text/html": [
       "<div>\n",
       "<style scoped>\n",
       "    .dataframe tbody tr th:only-of-type {\n",
       "        vertical-align: middle;\n",
       "    }\n",
       "\n",
       "    .dataframe tbody tr th {\n",
       "        vertical-align: top;\n",
       "    }\n",
       "\n",
       "    .dataframe thead th {\n",
       "        text-align: right;\n",
       "    }\n",
       "</style>\n",
       "<table border=\"1\" class=\"dataframe\">\n",
       "  <thead>\n",
       "    <tr style=\"text-align: right;\">\n",
       "      <th></th>\n",
       "      <th>0</th>\n",
       "    </tr>\n",
       "  </thead>\n",
       "  <tbody>\n",
       "    <tr>\n",
       "      <th>fare_amount</th>\n",
       "      <td>0</td>\n",
       "    </tr>\n",
       "    <tr>\n",
       "      <th>passenger_count_2.0</th>\n",
       "      <td>0</td>\n",
       "    </tr>\n",
       "    <tr>\n",
       "      <th>passenger_count_3.0</th>\n",
       "      <td>0</td>\n",
       "    </tr>\n",
       "    <tr>\n",
       "      <th>passenger_count_4.0</th>\n",
       "      <td>0</td>\n",
       "    </tr>\n",
       "    <tr>\n",
       "      <th>passenger_count_5.0</th>\n",
       "      <td>0</td>\n",
       "    </tr>\n",
       "    <tr>\n",
       "      <th>passenger_count_6.0</th>\n",
       "      <td>0</td>\n",
       "    </tr>\n",
       "    <tr>\n",
       "      <th>year_2010</th>\n",
       "      <td>0</td>\n",
       "    </tr>\n",
       "    <tr>\n",
       "      <th>year_2011</th>\n",
       "      <td>0</td>\n",
       "    </tr>\n",
       "    <tr>\n",
       "      <th>year_2012</th>\n",
       "      <td>0</td>\n",
       "    </tr>\n",
       "    <tr>\n",
       "      <th>year_2013</th>\n",
       "      <td>0</td>\n",
       "    </tr>\n",
       "    <tr>\n",
       "      <th>year_2014</th>\n",
       "      <td>0</td>\n",
       "    </tr>\n",
       "    <tr>\n",
       "      <th>year_2015</th>\n",
       "      <td>0</td>\n",
       "    </tr>\n",
       "    <tr>\n",
       "      <th>session_evening</th>\n",
       "      <td>0</td>\n",
       "    </tr>\n",
       "    <tr>\n",
       "      <th>session_morning</th>\n",
       "      <td>0</td>\n",
       "    </tr>\n",
       "    <tr>\n",
       "      <th>session_night_AM</th>\n",
       "      <td>0</td>\n",
       "    </tr>\n",
       "    <tr>\n",
       "      <th>session_night_PM</th>\n",
       "      <td>0</td>\n",
       "    </tr>\n",
       "    <tr>\n",
       "      <th>season_summer</th>\n",
       "      <td>0</td>\n",
       "    </tr>\n",
       "    <tr>\n",
       "      <th>season_winter</th>\n",
       "      <td>0</td>\n",
       "    </tr>\n",
       "    <tr>\n",
       "      <th>week_weekend</th>\n",
       "      <td>0</td>\n",
       "    </tr>\n",
       "    <tr>\n",
       "      <th>distance_km</th>\n",
       "      <td>0</td>\n",
       "    </tr>\n",
       "  </tbody>\n",
       "</table>\n",
       "</div>"
      ],
      "text/plain": [
       "                     0\n",
       "fare_amount          0\n",
       "passenger_count_2.0  0\n",
       "passenger_count_3.0  0\n",
       "passenger_count_4.0  0\n",
       "passenger_count_5.0  0\n",
       "passenger_count_6.0  0\n",
       "year_2010            0\n",
       "year_2011            0\n",
       "year_2012            0\n",
       "year_2013            0\n",
       "year_2014            0\n",
       "year_2015            0\n",
       "session_evening      0\n",
       "session_morning      0\n",
       "session_night_AM     0\n",
       "session_night_PM     0\n",
       "season_summer        0\n",
       "season_winter        0\n",
       "week_weekend         0\n",
       "distance_km          0"
      ]
     },
     "execution_count": 292,
     "metadata": {},
     "output_type": "execute_result"
    }
   ],
   "source": [
    "pd.DataFrame(df.isnull().sum())"
   ]
  },
  {
   "cell_type": "code",
   "execution_count": 293,
   "metadata": {},
   "outputs": [],
   "source": [
    "#creating check-point\n",
    "df_train5 = df.copy()"
   ]
  },
  {
   "cell_type": "code",
   "execution_count": null,
   "metadata": {},
   "outputs": [],
   "source": []
  },
  {
   "cell_type": "code",
   "execution_count": null,
   "metadata": {},
   "outputs": [],
   "source": []
  },
  {
   "cell_type": "code",
   "execution_count": null,
   "metadata": {},
   "outputs": [],
   "source": [
    "#Feature selection \n",
    "#1 Correlation Matrix"
   ]
  },
  {
   "cell_type": "code",
   "execution_count": 294,
   "metadata": {},
   "outputs": [
    {
     "data": {
      "text/plain": [
       "Index(['fare_amount', 'passenger_count_2.0', 'passenger_count_3.0',\n",
       "       'passenger_count_4.0', 'passenger_count_5.0', 'passenger_count_6.0',\n",
       "       'year_2010', 'year_2011', 'year_2012', 'year_2013', 'year_2014',\n",
       "       'year_2015', 'session_evening', 'session_morning', 'session_night_AM',\n",
       "       'session_night_PM', 'season_summer', 'season_winter', 'week_weekend',\n",
       "       'distance_km'],\n",
       "      dtype='object')"
      ]
     },
     "execution_count": 294,
     "metadata": {},
     "output_type": "execute_result"
    }
   ],
   "source": [
    "df.columns"
   ]
  },
  {
   "cell_type": "code",
   "execution_count": 295,
   "metadata": {},
   "outputs": [],
   "source": [
    "categorical_cols = ['passenger_count_2.0', 'passenger_count_3.0',\n",
    "       'passenger_count_4.0', 'passenger_count_5.0', 'passenger_count_6.0',\n",
    "       'year_2010', 'year_2011', 'year_2012', 'year_2013', 'year_2014',\n",
    "       'year_2015', 'session_evening', 'session_morning', 'session_night_AM',\n",
    "       'session_night_PM', 'season_summer', 'season_winter', 'week_weekend']"
   ]
  },
  {
   "cell_type": "code",
   "execution_count": 296,
   "metadata": {},
   "outputs": [],
   "source": [
    "continuous_cols = ['fare_amount', 'distance_km']"
   ]
  },
  {
   "cell_type": "code",
   "execution_count": 300,
   "metadata": {},
   "outputs": [
    {
     "data": {
      "text/plain": [
       "<matplotlib.axes._subplots.AxesSubplot at 0x214a101ec88>"
      ]
     },
     "execution_count": 300,
     "metadata": {},
     "output_type": "execute_result"
    },
    {
     "data": {
      "image/png": "[encoded data removed]",
      "text/plain": [
       "<Figure size 1080x720 with 2 Axes>"
      ]
     },
     "metadata": {},
     "output_type": "display_data"
    }
   ],
   "source": [
    "plt.figure(figsize=(15,10))\n",
    "sns.heatmap(df[categorical_cols].corr())"
   ]
  },
  {
   "cell_type": "code",
   "execution_count": null,
   "metadata": {},
   "outputs": [],
   "source": [
    "#Chi - square test of independence\n",
    "#H0 - 2 variables are independent\n",
    "#H1 - 2 variables are dependent\n"
   ]
  },
  {
   "cell_type": "code",
   "execution_count": 301,
   "metadata": {},
   "outputs": [],
   "source": []
  },
  {
   "cell_type": "code",
   "execution_count": 304,
   "metadata": {
    "collapsed": true
   },
   "outputs": [
    {
     "name": "stdout",
     "output_type": "stream",
     "text": [
      "passenger_count_2.0 and passenger_count_3.0 are dependent with 2.2702101645512557e-27 <- remove\n",
      "passenger_count_2.0 and passenger_count_4.0 are dependent with 1.3922796410720992e-13 <- remove\n",
      "passenger_count_2.0 and passenger_count_5.0 are dependent with 1.510307948144852e-42 <- remove\n",
      "passenger_count_2.0 and passenger_count_6.0 are dependent with 1.2338720567273657e-12 <- remove\n",
      "passenger_count_2.0 and year_2011 are dependent with 0.010918542484327446 <- remove\n",
      "passenger_count_2.0 and session_evening are dependent with 0.024195793926468572 <- remove\n",
      "passenger_count_2.0 and session_morning are dependent with 1.2808294877594294e-16 <- remove\n",
      "passenger_count_2.0 and session_night_AM are dependent with 0.017798298149402658 <- remove\n",
      "passenger_count_2.0 and session_night_PM are dependent with 2.400618756029418e-05 <- remove\n",
      "passenger_count_2.0 and week_weekend are dependent with 6.70125375731121e-11 <- remove\n",
      "passenger_count_3.0 and passenger_count_2.0 are dependent with 2.2702101645512715e-27 <- remove\n",
      "passenger_count_3.0 and passenger_count_4.0 are dependent with 0.0002511801719953823 <- remove\n",
      "passenger_count_3.0 and passenger_count_5.0 are dependent with 5.4464982583553e-12 <- remove\n",
      "passenger_count_3.0 and passenger_count_6.0 are dependent with 0.0004533371083789364 <- remove\n",
      "passenger_count_3.0 and session_morning are dependent with 0.0004651303854331699 <- remove\n",
      "passenger_count_3.0 and session_night_AM are dependent with 0.004166454635980804 <- remove\n",
      "passenger_count_3.0 and session_night_PM are dependent with 0.021859459131757446 <- remove\n",
      "passenger_count_3.0 and week_weekend are dependent with 3.8109115159482942e-06 <- remove\n",
      "passenger_count_4.0 and passenger_count_2.0 are dependent with 1.3922796410720992e-13 <- remove\n",
      "passenger_count_4.0 and passenger_count_3.0 are dependent with 0.0002511801719953823 <- remove\n",
      "passenger_count_4.0 and passenger_count_5.0 are dependent with 2.9828895681894975e-06 <- remove\n",
      "passenger_count_4.0 and passenger_count_6.0 are dependent with 0.021484974904739967 <- remove\n",
      "passenger_count_4.0 and session_morning are dependent with 5.799091027849728e-05 <- remove\n",
      "passenger_count_4.0 and session_night_AM are dependent with 0.0017995719879989366 <- remove\n",
      "passenger_count_4.0 and season_winter are dependent with 0.02010458422127009 <- remove\n",
      "passenger_count_4.0 and week_weekend are dependent with 8.942274595833895e-06 <- remove\n",
      "passenger_count_5.0 and passenger_count_2.0 are dependent with 1.510307948144852e-42 <- remove\n",
      "passenger_count_5.0 and passenger_count_3.0 are dependent with 5.446498258355318e-12 <- remove\n",
      "passenger_count_5.0 and passenger_count_4.0 are dependent with 2.9828895681894975e-06 <- remove\n",
      "passenger_count_5.0 and passenger_count_6.0 are dependent with 7.4518176633514464e-06 <- remove\n",
      "passenger_count_5.0 and year_2010 are dependent with 0.006925306936255799 <- remove\n",
      "passenger_count_5.0 and year_2013 are dependent with 0.012328192055905483 <- remove\n",
      "passenger_count_5.0 and year_2014 are dependent with 0.00021927549676466375 <- remove\n",
      "passenger_count_5.0 and year_2015 are dependent with 0.00023648848823643647 <- remove\n",
      "passenger_count_5.0 and season_summer are dependent with 0.019871135450882677 <- remove\n",
      "passenger_count_6.0 and passenger_count_2.0 are dependent with 1.2338720567273657e-12 <- remove\n",
      "passenger_count_6.0 and passenger_count_3.0 are dependent with 0.0004533371083789364 <- remove\n",
      "passenger_count_6.0 and passenger_count_4.0 are dependent with 0.021484974904739967 <- remove\n",
      "passenger_count_6.0 and passenger_count_5.0 are dependent with 7.4518176633514464e-06 <- remove\n",
      "passenger_count_6.0 and year_2010 are dependent with 3.6363857144396374e-09 <- remove\n",
      "passenger_count_6.0 and year_2011 are dependent with 2.3539585881673166e-05 <- remove\n",
      "passenger_count_6.0 and year_2012 are dependent with 0.031300507677290576 <- remove\n",
      "passenger_count_6.0 and year_2013 are dependent with 2.6976095212370334e-09 <- remove\n",
      "passenger_count_6.0 and year_2014 are dependent with 1.7804474999337805e-06 <- remove\n",
      "passenger_count_6.0 and year_2015 are dependent with 1.4707511447545289e-06 <- remove\n",
      "year_2010 and passenger_count_5.0 are dependent with 0.006925306936255799 <- remove\n",
      "year_2010 and passenger_count_6.0 are dependent with 3.6363857144396374e-09 <- remove\n",
      "year_2010 and year_2011 are dependent with 2.0040013537042241e-115 <- remove\n",
      "year_2010 and year_2012 are dependent with 3.2645126634693834e-120 <- remove\n",
      "year_2010 and year_2013 are dependent with 9.659489509751195e-119 <- remove\n",
      "year_2010 and year_2014 are dependent with 8.833488966178642e-108 <- remove\n",
      "year_2010 and year_2015 are dependent with 3.3217827473857213e-50 <- remove\n",
      "year_2011 and passenger_count_2.0 are dependent with 0.010918542484327446 <- remove\n",
      "year_2011 and passenger_count_6.0 are dependent with 2.3539585881673244e-05 <- remove\n",
      "year_2011 and year_2010 are dependent with 2.0040013537042241e-115 <- remove\n",
      "year_2011 and year_2012 are dependent with 5.345391910157556e-119 <- remove\n",
      "year_2011 and year_2013 are dependent with 1.5277907289259324e-117 <- remove\n",
      "year_2011 and year_2014 are dependent with 1.0792136794672474e-106 <- remove\n",
      "year_2011 and year_2015 are dependent with 1.0469478833266013e-49 <- remove\n",
      "year_2012 and passenger_count_6.0 are dependent with 0.031300507677290576 <- remove\n",
      "year_2012 and year_2010 are dependent with 3.2645126634693834e-120 <- remove\n",
      "year_2012 and year_2011 are dependent with 5.345391910157861e-119 <- remove\n",
      "year_2012 and year_2013 are dependent with 2.027417992906443e-122 <- remove\n",
      "year_2012 and year_2014 are dependent with 4.093387935723911e-111 <- remove\n",
      "year_2012 and year_2015 are dependent with 9.823027754408938e-52 <- remove\n",
      "year_2012 and season_summer are dependent with 0.002367496126014703 <- remove\n",
      "year_2013 and passenger_count_5.0 are dependent with 0.012328192055905483 <- remove\n",
      "year_2013 and passenger_count_6.0 are dependent with 2.6976095212370334e-09 <- remove\n",
      "year_2013 and year_2010 are dependent with 9.659489509751195e-119 <- remove\n",
      "year_2013 and year_2011 are dependent with 1.5277907289259324e-117 <- remove\n",
      "year_2013 and year_2012 are dependent with 2.027417992906443e-122 <- remove\n",
      "year_2013 and year_2014 are dependent with 9.341964120266543e-110 <- remove\n",
      "year_2013 and year_2015 are dependent with 4.123130167094284e-51 <- remove\n",
      "year_2013 and season_summer are dependent with 0.019233259988303456 <- remove\n",
      "year_2014 and passenger_count_5.0 are dependent with 0.00021927549676466375 <- remove\n",
      "year_2014 and passenger_count_6.0 are dependent with 1.7804474999337805e-06 <- remove\n",
      "year_2014 and year_2010 are dependent with 8.833488966178642e-108 <- remove\n",
      "year_2014 and year_2011 are dependent with 1.0792136794672474e-106 <- remove\n",
      "year_2014 and year_2012 are dependent with 4.093387935724027e-111 <- remove\n",
      "year_2014 and year_2013 are dependent with 9.341964120266543e-110 <- remove\n",
      "year_2014 and year_2015 are dependent with 1.8096917074175438e-46 <- remove\n",
      "year_2014 and season_summer are dependent with 0.0021152184808363394 <- remove\n",
      "year_2015 and passenger_count_5.0 are dependent with 0.00023648848823643647 <- remove\n",
      "year_2015 and passenger_count_6.0 are dependent with 1.4707511447545289e-06 <- remove\n",
      "year_2015 and year_2010 are dependent with 3.3217827473857213e-50 <- remove\n",
      "year_2015 and year_2011 are dependent with 1.0469478833266013e-49 <- remove\n",
      "year_2015 and year_2012 are dependent with 9.823027754408938e-52 <- remove\n",
      "year_2015 and year_2013 are dependent with 4.123130167094284e-51 <- remove\n",
      "year_2015 and year_2014 are dependent with 1.8096917074175438e-46 <- remove\n",
      "year_2015 and season_summer are dependent with 5.497662354865358e-105 <- remove\n",
      "year_2015 and week_weekend are dependent with 0.004812362404132921 <- remove\n",
      "session_evening and passenger_count_2.0 are dependent with 0.024195793926468572 <- remove\n",
      "session_evening and session_morning are dependent with 0.0 <- remove\n",
      "session_evening and session_night_AM are dependent with 8.509370654001864e-139 <- remove\n",
      "session_evening and session_night_PM are dependent with 1.838033821156488e-199 <- remove\n",
      "session_evening and week_weekend are dependent with 3.217402851621817e-06 <- remove\n",
      "session_morning and passenger_count_2.0 are dependent with 1.2808294877594294e-16 <- remove\n",
      "session_morning and passenger_count_3.0 are dependent with 0.0004651303854331699 <- remove\n",
      "session_morning and passenger_count_4.0 are dependent with 5.799091027849728e-05 <- remove\n"
     ]
    },
    {
     "name": "stdout",
     "output_type": "stream",
     "text": [
      "session_morning and session_evening are dependent with 0.0 <- remove\n",
      "session_morning and session_night_AM are dependent with 1.4729848248267267e-154 <- remove\n",
      "session_morning and session_night_PM are dependent with 3.4039527815035424e-222 <- remove\n",
      "session_morning and season_summer are dependent with 0.0272881582007091 <- remove\n",
      "session_morning and week_weekend are dependent with 2.458014777544587e-38 <- remove\n",
      "session_night_AM and passenger_count_2.0 are dependent with 0.017798298149402658 <- remove\n",
      "session_night_AM and passenger_count_3.0 are dependent with 0.004166454635980804 <- remove\n",
      "session_night_AM and passenger_count_4.0 are dependent with 0.0017995719879989366 <- remove\n",
      "session_night_AM and session_evening are dependent with 8.509370654001378e-139 <- remove\n",
      "session_night_AM and session_morning are dependent with 1.4729848248267267e-154 <- remove\n",
      "session_night_AM and session_night_PM are dependent with 1.8523809667875902e-89 <- remove\n",
      "session_night_AM and week_weekend are dependent with 3.1850667927838457e-127 <- remove\n",
      "session_night_PM and passenger_count_2.0 are dependent with 2.400618756029418e-05 <- remove\n",
      "session_night_PM and passenger_count_3.0 are dependent with 0.021859459131757446 <- remove\n",
      "session_night_PM and session_evening are dependent with 1.838033821156488e-199 <- remove\n",
      "session_night_PM and session_morning are dependent with 3.4039527815035424e-222 <- remove\n",
      "session_night_PM and session_night_AM are dependent with 1.8523809667875902e-89 <- remove\n",
      "season_summer and passenger_count_5.0 are dependent with 0.019871135450882677 <- remove\n",
      "season_summer and year_2012 are dependent with 0.002367496126014703 <- remove\n",
      "season_summer and year_2013 are dependent with 0.019233259988303456 <- remove\n",
      "season_summer and year_2014 are dependent with 0.0021152184808363394 <- remove\n",
      "season_summer and year_2015 are dependent with 5.497662354865358e-105 <- remove\n",
      "season_summer and session_morning are dependent with 0.027288158200709046 <- remove\n",
      "season_summer and season_winter are dependent with 0.0 <- remove\n",
      "season_winter and passenger_count_4.0 are dependent with 0.02010458422127009 <- remove\n",
      "season_winter and season_summer are dependent with 0.0 <- remove\n",
      "week_weekend and passenger_count_2.0 are dependent with 6.70125375731121e-11 <- remove\n",
      "week_weekend and passenger_count_3.0 are dependent with 3.8109115159482942e-06 <- remove\n",
      "week_weekend and passenger_count_4.0 are dependent with 8.942274595833895e-06 <- remove\n",
      "week_weekend and year_2015 are dependent with 0.004812362404132921 <- remove\n",
      "week_weekend and session_evening are dependent with 3.217402851621817e-06 <- remove\n",
      "week_weekend and session_morning are dependent with 2.458014777544587e-38 <- remove\n",
      "week_weekend and session_night_AM are dependent with 3.1850667927838457e-127 <- remove\n"
     ]
    }
   ],
   "source": [
    "for i in categorical_cols:\n",
    "    for j in categorical_cols:\n",
    "        if i!=j:\n",
    "            chi2, p , dof, ex = chi2_contingency(pd.crosstab(df[i],df[j]))\n",
    "            if p < 0.05:\n",
    "                print(f'{i} and {j} are dependent with {p} <- remove')\n",
    "            '''else:\n",
    "                print(f'{i} and {j} are independent with {p} <- keep')'''"
   ]
  },
  {
   "cell_type": "code",
   "execution_count": null,
   "metadata": {},
   "outputs": [],
   "source": []
  },
  {
   "cell_type": "code",
   "execution_count": null,
   "metadata": {},
   "outputs": [],
   "source": []
  },
  {
   "cell_type": "code",
   "execution_count": null,
   "metadata": {},
   "outputs": [],
   "source": [
    "#checking for relation between the continuous variabels"
   ]
  },
  {
   "cell_type": "code",
   "execution_count": 318,
   "metadata": {},
   "outputs": [
    {
     "data": {
      "text/plain": [
       "<matplotlib.axes._subplots.AxesSubplot at 0x214a90e2ef0>"
      ]
     },
     "execution_count": 318,
     "metadata": {},
     "output_type": "execute_result"
    },
    {
     "data": {
      "image/png": "[encoded data removed]",
      "text/plain": [
       "<Figure size 432x288 with 1 Axes>"
      ]
     },
     "metadata": {},
     "output_type": "display_data"
    }
   ],
   "source": [
    "sns.regplot(x=df['distance_km'], y = df['fare_amount'], line_kws={'color':'red'})\n",
    "#sns.lineplot(df[''])"
   ]
  },
  {
   "cell_type": "code",
   "execution_count": null,
   "metadata": {},
   "outputs": [],
   "source": [
    "#we can clearly see there is a positive co-relation between the distance_km and the fare_amount"
   ]
  },
  {
   "cell_type": "code",
   "execution_count": null,
   "metadata": {},
   "outputs": [],
   "source": [
    "#Test for Multi-colinearity using VIF(variance inflation factor)\n",
    "#VIF  = (1/(1-R^2))\n",
    "#VIF > 5 is considered very high "
   ]
  },
  {
   "cell_type": "code",
   "execution_count": 319,
   "metadata": {},
   "outputs": [],
   "source": []
  },
  {
   "cell_type": "code",
   "execution_count": 324,
   "metadata": {},
   "outputs": [],
   "source": [
    "def calc_vif(data):\n",
    "    vif = pd.DataFrame()\n",
    "    vif['variables'] = data.columns\n",
    "    vif['VIF'] = [variance_inflation_factor(data.values, i) for i in range(data.shape[1])]\n",
    "    return vif"
   ]
  },
  {
   "cell_type": "code",
   "execution_count": 325,
   "metadata": {},
   "outputs": [
    {
     "data": {
      "text/html": [
       "<div>\n",
       "<style scoped>\n",
       "    .dataframe tbody tr th:only-of-type {\n",
       "        vertical-align: middle;\n",
       "    }\n",
       "\n",
       "    .dataframe tbody tr th {\n",
       "        vertical-align: top;\n",
       "    }\n",
       "\n",
       "    .dataframe thead th {\n",
       "        text-align: right;\n",
       "    }\n",
       "</style>\n",
       "<table border=\"1\" class=\"dataframe\">\n",
       "  <thead>\n",
       "    <tr style=\"text-align: right;\">\n",
       "      <th></th>\n",
       "      <th>variables</th>\n",
       "      <th>VIF</th>\n",
       "    </tr>\n",
       "  </thead>\n",
       "  <tbody>\n",
       "    <tr>\n",
       "      <th>0</th>\n",
       "      <td>fare_amount</td>\n",
       "      <td>17.026789</td>\n",
       "    </tr>\n",
       "    <tr>\n",
       "      <th>1</th>\n",
       "      <td>passenger_count_2.0</td>\n",
       "      <td>1.203629</td>\n",
       "    </tr>\n",
       "    <tr>\n",
       "      <th>2</th>\n",
       "      <td>passenger_count_3.0</td>\n",
       "      <td>1.060350</td>\n",
       "    </tr>\n",
       "    <tr>\n",
       "      <th>3</th>\n",
       "      <td>passenger_count_4.0</td>\n",
       "      <td>1.031009</td>\n",
       "    </tr>\n",
       "    <tr>\n",
       "      <th>4</th>\n",
       "      <td>passenger_count_5.0</td>\n",
       "      <td>1.087025</td>\n",
       "    </tr>\n",
       "    <tr>\n",
       "      <th>5</th>\n",
       "      <td>passenger_count_6.0</td>\n",
       "      <td>1.036582</td>\n",
       "    </tr>\n",
       "    <tr>\n",
       "      <th>6</th>\n",
       "      <td>year_2010</td>\n",
       "      <td>1.638897</td>\n",
       "    </tr>\n",
       "    <tr>\n",
       "      <th>7</th>\n",
       "      <td>year_2011</td>\n",
       "      <td>1.632292</td>\n",
       "    </tr>\n",
       "    <tr>\n",
       "      <th>8</th>\n",
       "      <td>year_2012</td>\n",
       "      <td>1.707486</td>\n",
       "    </tr>\n",
       "    <tr>\n",
       "      <th>9</th>\n",
       "      <td>year_2013</td>\n",
       "      <td>1.803998</td>\n",
       "    </tr>\n",
       "    <tr>\n",
       "      <th>10</th>\n",
       "      <td>year_2014</td>\n",
       "      <td>1.769998</td>\n",
       "    </tr>\n",
       "    <tr>\n",
       "      <th>11</th>\n",
       "      <td>year_2015</td>\n",
       "      <td>1.495076</td>\n",
       "    </tr>\n",
       "    <tr>\n",
       "      <th>12</th>\n",
       "      <td>session_evening</td>\n",
       "      <td>1.729823</td>\n",
       "    </tr>\n",
       "    <tr>\n",
       "      <th>13</th>\n",
       "      <td>session_morning</td>\n",
       "      <td>1.785581</td>\n",
       "    </tr>\n",
       "    <tr>\n",
       "      <th>14</th>\n",
       "      <td>session_night_AM</td>\n",
       "      <td>1.478249</td>\n",
       "    </tr>\n",
       "    <tr>\n",
       "      <th>15</th>\n",
       "      <td>session_night_PM</td>\n",
       "      <td>1.537155</td>\n",
       "    </tr>\n",
       "    <tr>\n",
       "      <th>16</th>\n",
       "      <td>season_summer</td>\n",
       "      <td>2.084813</td>\n",
       "    </tr>\n",
       "    <tr>\n",
       "      <th>17</th>\n",
       "      <td>season_winter</td>\n",
       "      <td>1.879464</td>\n",
       "    </tr>\n",
       "    <tr>\n",
       "      <th>18</th>\n",
       "      <td>week_weekend</td>\n",
       "      <td>1.445489</td>\n",
       "    </tr>\n",
       "    <tr>\n",
       "      <th>19</th>\n",
       "      <td>distance_km</td>\n",
       "      <td>11.325720</td>\n",
       "    </tr>\n",
       "  </tbody>\n",
       "</table>\n",
       "</div>"
      ],
      "text/plain": [
       "              variables        VIF\n",
       "0           fare_amount  17.026789\n",
       "1   passenger_count_2.0   1.203629\n",
       "2   passenger_count_3.0   1.060350\n",
       "3   passenger_count_4.0   1.031009\n",
       "4   passenger_count_5.0   1.087025\n",
       "5   passenger_count_6.0   1.036582\n",
       "6             year_2010   1.638897\n",
       "7             year_2011   1.632292\n",
       "8             year_2012   1.707486\n",
       "9             year_2013   1.803998\n",
       "10            year_2014   1.769998\n",
       "11            year_2015   1.495076\n",
       "12      session_evening   1.729823\n",
       "13      session_morning   1.785581\n",
       "14     session_night_AM   1.478249\n",
       "15     session_night_PM   1.537155\n",
       "16        season_summer   2.084813\n",
       "17        season_winter   1.879464\n",
       "18         week_weekend   1.445489\n",
       "19          distance_km  11.325720"
      ]
     },
     "execution_count": 325,
     "metadata": {},
     "output_type": "execute_result"
    }
   ],
   "source": [
    "calc_vif(df)"
   ]
  },
  {
   "cell_type": "code",
   "execution_count": null,
   "metadata": {},
   "outputs": [],
   "source": [
    "#Therefore looking at all the categorical variables no variable has a very high VIF and thus confirms that no variables needs to be dropped"
   ]
  },
  {
   "cell_type": "code",
   "execution_count": null,
   "metadata": {},
   "outputs": [],
   "source": []
  },
  {
   "cell_type": "code",
   "execution_count": null,
   "metadata": {},
   "outputs": [],
   "source": []
  },
  {
   "cell_type": "code",
   "execution_count": null,
   "metadata": {},
   "outputs": [],
   "source": [
    "#Feature Scaling"
   ]
  },
  {
   "cell_type": "code",
   "execution_count": null,
   "metadata": {},
   "outputs": [],
   "source": [
    "#To see if the distance_km is normally distributed"
   ]
  },
  {
   "cell_type": "code",
   "execution_count": 326,
   "metadata": {},
   "outputs": [
    {
     "data": {
      "text/plain": [
       "<matplotlib.axes._subplots.AxesSubplot at 0x214a928b278>"
      ]
     },
     "execution_count": 326,
     "metadata": {},
     "output_type": "execute_result"
    },
    {
     "data": {
      "image/png": "[encoded data removed]",
      "text/plain": [
       "<Figure size 432x288 with 1 Axes>"
      ]
     },
     "metadata": {},
     "output_type": "display_data"
    }
   ],
   "source": [
    "sns.distplot(df['distance_km'])"
   ]
  },
  {
   "cell_type": "code",
   "execution_count": null,
   "metadata": {},
   "outputs": [],
   "source": [
    "#Thus we need to standardize the value\n",
    "#value_new = (value - min_value)/(max_value - min_value)\n",
    "#After standardising the values will range between 0 and 1"
   ]
  },
  {
   "cell_type": "code",
   "execution_count": 327,
   "metadata": {},
   "outputs": [],
   "source": [
    "def standard(data):\n",
    "    data['distance_km'] = (data['distance_km'] - min(data['distance_km']))/(max(data['distance_km']) - min(data['distance_km']))\n",
    "    return data"
   ]
  },
  {
   "cell_type": "code",
   "execution_count": 328,
   "metadata": {},
   "outputs": [],
   "source": [
    "#creating checkpoint\n",
    "df_train6 = df.copy()"
   ]
  },
  {
   "cell_type": "code",
   "execution_count": 329,
   "metadata": {},
   "outputs": [],
   "source": [
    "df = standard(df)"
   ]
  },
  {
   "cell_type": "code",
   "execution_count": 332,
   "metadata": {},
   "outputs": [
    {
     "data": {
      "text/html": [
       "<div>\n",
       "<style scoped>\n",
       "    .dataframe tbody tr th:only-of-type {\n",
       "        vertical-align: middle;\n",
       "    }\n",
       "\n",
       "    .dataframe tbody tr th {\n",
       "        vertical-align: top;\n",
       "    }\n",
       "\n",
       "    .dataframe thead th {\n",
       "        text-align: right;\n",
       "    }\n",
       "</style>\n",
       "<table border=\"1\" class=\"dataframe\">\n",
       "  <thead>\n",
       "    <tr style=\"text-align: right;\">\n",
       "      <th></th>\n",
       "      <th>fare_amount</th>\n",
       "      <th>passenger_count_2.0</th>\n",
       "      <th>passenger_count_3.0</th>\n",
       "      <th>passenger_count_4.0</th>\n",
       "      <th>passenger_count_5.0</th>\n",
       "      <th>passenger_count_6.0</th>\n",
       "      <th>year_2010</th>\n",
       "      <th>year_2011</th>\n",
       "      <th>year_2012</th>\n",
       "      <th>year_2013</th>\n",
       "      <th>year_2014</th>\n",
       "      <th>year_2015</th>\n",
       "      <th>session_evening</th>\n",
       "      <th>session_morning</th>\n",
       "      <th>session_night_AM</th>\n",
       "      <th>session_night_PM</th>\n",
       "      <th>season_summer</th>\n",
       "      <th>season_winter</th>\n",
       "      <th>week_weekend</th>\n",
       "      <th>distance_km</th>\n",
       "    </tr>\n",
       "  </thead>\n",
       "  <tbody>\n",
       "    <tr>\n",
       "      <th>0</th>\n",
       "      <td>4.5</td>\n",
       "      <td>0.0</td>\n",
       "      <td>0.0</td>\n",
       "      <td>0.0</td>\n",
       "      <td>0.0</td>\n",
       "      <td>0.0</td>\n",
       "      <td>0.0</td>\n",
       "      <td>0.0</td>\n",
       "      <td>0.0</td>\n",
       "      <td>0.0</td>\n",
       "      <td>0.0</td>\n",
       "      <td>0.0</td>\n",
       "      <td>1.0</td>\n",
       "      <td>0.0</td>\n",
       "      <td>0.0</td>\n",
       "      <td>0.0</td>\n",
       "      <td>1.0</td>\n",
       "      <td>0.0</td>\n",
       "      <td>0.0</td>\n",
       "      <td>0.130865</td>\n",
       "    </tr>\n",
       "    <tr>\n",
       "      <th>1</th>\n",
       "      <td>16.9</td>\n",
       "      <td>0.0</td>\n",
       "      <td>0.0</td>\n",
       "      <td>0.0</td>\n",
       "      <td>0.0</td>\n",
       "      <td>0.0</td>\n",
       "      <td>1.0</td>\n",
       "      <td>0.0</td>\n",
       "      <td>0.0</td>\n",
       "      <td>0.0</td>\n",
       "      <td>0.0</td>\n",
       "      <td>0.0</td>\n",
       "      <td>0.0</td>\n",
       "      <td>0.0</td>\n",
       "      <td>0.0</td>\n",
       "      <td>0.0</td>\n",
       "      <td>0.0</td>\n",
       "      <td>1.0</td>\n",
       "      <td>0.0</td>\n",
       "      <td>0.079345</td>\n",
       "    </tr>\n",
       "    <tr>\n",
       "      <th>2</th>\n",
       "      <td>5.7</td>\n",
       "      <td>1.0</td>\n",
       "      <td>0.0</td>\n",
       "      <td>0.0</td>\n",
       "      <td>0.0</td>\n",
       "      <td>0.0</td>\n",
       "      <td>0.0</td>\n",
       "      <td>1.0</td>\n",
       "      <td>0.0</td>\n",
       "      <td>0.0</td>\n",
       "      <td>0.0</td>\n",
       "      <td>0.0</td>\n",
       "      <td>0.0</td>\n",
       "      <td>0.0</td>\n",
       "      <td>1.0</td>\n",
       "      <td>0.0</td>\n",
       "      <td>0.0</td>\n",
       "      <td>0.0</td>\n",
       "      <td>0.0</td>\n",
       "      <td>0.176562</td>\n",
       "    </tr>\n",
       "    <tr>\n",
       "      <th>3</th>\n",
       "      <td>7.7</td>\n",
       "      <td>0.0</td>\n",
       "      <td>0.0</td>\n",
       "      <td>0.0</td>\n",
       "      <td>0.0</td>\n",
       "      <td>0.0</td>\n",
       "      <td>0.0</td>\n",
       "      <td>0.0</td>\n",
       "      <td>1.0</td>\n",
       "      <td>0.0</td>\n",
       "      <td>0.0</td>\n",
       "      <td>0.0</td>\n",
       "      <td>0.0</td>\n",
       "      <td>0.0</td>\n",
       "      <td>1.0</td>\n",
       "      <td>0.0</td>\n",
       "      <td>1.0</td>\n",
       "      <td>0.0</td>\n",
       "      <td>1.0</td>\n",
       "      <td>0.355351</td>\n",
       "    </tr>\n",
       "    <tr>\n",
       "      <th>4</th>\n",
       "      <td>5.3</td>\n",
       "      <td>0.0</td>\n",
       "      <td>0.0</td>\n",
       "      <td>0.0</td>\n",
       "      <td>0.0</td>\n",
       "      <td>0.0</td>\n",
       "      <td>1.0</td>\n",
       "      <td>0.0</td>\n",
       "      <td>0.0</td>\n",
       "      <td>0.0</td>\n",
       "      <td>0.0</td>\n",
       "      <td>0.0</td>\n",
       "      <td>0.0</td>\n",
       "      <td>1.0</td>\n",
       "      <td>0.0</td>\n",
       "      <td>0.0</td>\n",
       "      <td>1.0</td>\n",
       "      <td>0.0</td>\n",
       "      <td>0.0</td>\n",
       "      <td>0.253993</td>\n",
       "    </tr>\n",
       "  </tbody>\n",
       "</table>\n",
       "</div>"
      ],
      "text/plain": [
       "   fare_amount  passenger_count_2.0  passenger_count_3.0  passenger_count_4.0  \\\n",
       "0          4.5                  0.0                  0.0                  0.0   \n",
       "1         16.9                  0.0                  0.0                  0.0   \n",
       "2          5.7                  1.0                  0.0                  0.0   \n",
       "3          7.7                  0.0                  0.0                  0.0   \n",
       "4          5.3                  0.0                  0.0                  0.0   \n",
       "\n",
       "   passenger_count_5.0  passenger_count_6.0  year_2010  year_2011  year_2012  \\\n",
       "0                  0.0                  0.0        0.0        0.0        0.0   \n",
       "1                  0.0                  0.0        1.0        0.0        0.0   \n",
       "2                  0.0                  0.0        0.0        1.0        0.0   \n",
       "3                  0.0                  0.0        0.0        0.0        1.0   \n",
       "4                  0.0                  0.0        1.0        0.0        0.0   \n",
       "\n",
       "   year_2013  year_2014  year_2015  session_evening  session_morning  \\\n",
       "0        0.0        0.0        0.0              1.0              0.0   \n",
       "1        0.0        0.0        0.0              0.0              0.0   \n",
       "2        0.0        0.0        0.0              0.0              0.0   \n",
       "3        0.0        0.0        0.0              0.0              0.0   \n",
       "4        0.0        0.0        0.0              0.0              1.0   \n",
       "\n",
       "   session_night_AM  session_night_PM  season_summer  season_winter  \\\n",
       "0               0.0               0.0            1.0            0.0   \n",
       "1               0.0               0.0            0.0            1.0   \n",
       "2               1.0               0.0            0.0            0.0   \n",
       "3               1.0               0.0            1.0            0.0   \n",
       "4               0.0               0.0            1.0            0.0   \n",
       "\n",
       "   week_weekend  distance_km  \n",
       "0           0.0     0.130865  \n",
       "1           0.0     0.079345  \n",
       "2           0.0     0.176562  \n",
       "3           1.0     0.355351  \n",
       "4           0.0     0.253993  "
      ]
     },
     "execution_count": 332,
     "metadata": {},
     "output_type": "execute_result"
    }
   ],
   "source": [
    "df.head()"
   ]
  },
  {
   "cell_type": "code",
   "execution_count": 333,
   "metadata": {},
   "outputs": [
    {
     "data": {
      "text/plain": [
       "<matplotlib.axes._subplots.AxesSubplot at 0x214a94750b8>"
      ]
     },
     "execution_count": 333,
     "metadata": {},
     "output_type": "execute_result"
    },
    {
     "data": {
      "image/png": "[encoded data removed]",
      "text/plain": [
       "<Figure size 432x288 with 1 Axes>"
      ]
     },
     "metadata": {},
     "output_type": "display_data"
    }
   ],
   "source": [
    "sns.distplot(df['distance_km'])"
   ]
  },
  {
   "cell_type": "code",
   "execution_count": null,
   "metadata": {},
   "outputs": [],
   "source": []
  },
  {
   "cell_type": "code",
   "execution_count": 334,
   "metadata": {},
   "outputs": [],
   "source": [
    "#Saving the completely pre-processed file\n",
    "df.to_csv('Preprocessed_train.csv')"
   ]
  },
  {
   "cell_type": "code",
   "execution_count": null,
   "metadata": {},
   "outputs": [],
   "source": []
  },
  {
   "cell_type": "code",
   "execution_count": null,
   "metadata": {},
   "outputs": [],
   "source": [
    "#splitting data into train and test for model evaluation"
   ]
  },
  {
   "cell_type": "code",
   "execution_count": 335,
   "metadata": {},
   "outputs": [],
   "source": []
  },
  {
   "cell_type": "code",
   "execution_count": 336,
   "metadata": {},
   "outputs": [],
   "source": [
    "X = df.iloc[:,1:]\n",
    "y = df.iloc[:,0]"
   ]
  },
  {
   "cell_type": "code",
   "execution_count": 339,
   "metadata": {},
   "outputs": [
    {
     "data": {
      "text/plain": [
       "(15582, 19)"
      ]
     },
     "execution_count": 339,
     "metadata": {},
     "output_type": "execute_result"
    }
   ],
   "source": [
    "X.head()\n",
    "X.shape"
   ]
  },
  {
   "cell_type": "code",
   "execution_count": 340,
   "metadata": {},
   "outputs": [
    {
     "data": {
      "text/plain": [
       "(15582,)"
      ]
     },
     "execution_count": 340,
     "metadata": {},
     "output_type": "execute_result"
    }
   ],
   "source": [
    "y.head()\n",
    "y.shape"
   ]
  },
  {
   "cell_type": "code",
   "execution_count": 341,
   "metadata": {},
   "outputs": [],
   "source": [
    "X_train, X_test, y_train, y_test = train_test_split(X,y, test_size = 0.2, random_state = 42 )"
   ]
  },
  {
   "cell_type": "code",
   "execution_count": 342,
   "metadata": {},
   "outputs": [
    {
     "name": "stdout",
     "output_type": "stream",
     "text": [
      "(12465, 19) (3117, 19) (12465,) (3117,)\n"
     ]
    }
   ],
   "source": [
    "print(X_train.shape, X_test.shape, y_train.shape, y_test.shape)"
   ]
  },
  {
   "cell_type": "code",
   "execution_count": null,
   "metadata": {},
   "outputs": [],
   "source": []
  },
  {
   "cell_type": "code",
   "execution_count": null,
   "metadata": {},
   "outputs": [],
   "source": [
    "#Model Evaluation Meterics"
   ]
  },
  {
   "cell_type": "code",
   "execution_count": 343,
   "metadata": {},
   "outputs": [],
   "source": []
  },
  {
   "cell_type": "code",
   "execution_count": 359,
   "metadata": {},
   "outputs": [],
   "source": [
    "def evaluate_model(y,y_):\n",
    "    r2 = r2_score(y, y_)\n",
    "    print(f'The value of r^2 is: {r2}')\n",
    "    r2_adjusted = 1 - (1 - r2)*(len(y) - 1)/(len(y) - X_train.shape[1] - 1)\n",
    "    print(f'The value of Adjusted-r^2  is: {r2_adjusted}')\n",
    "    mae = np.mean(np.abs(y - y_))\n",
    "    print(f'The Absolute Mean Error is : {mae}')\n",
    "    rmse = np.sqrt(mean_squared_error(y,y_))\n",
    "    print(f'Root Mean Squared error : {rmse}')"
   ]
  },
  {
   "cell_type": "code",
   "execution_count": null,
   "metadata": {},
   "outputs": [],
   "source": []
  },
  {
   "cell_type": "code",
   "execution_count": null,
   "metadata": {},
   "outputs": [],
   "source": []
  },
  {
   "cell_type": "code",
   "execution_count": null,
   "metadata": {},
   "outputs": [],
   "source": [
    "#Machine Learning model Implementation\n",
    "#Multiple Linear Regression"
   ]
  },
  {
   "cell_type": "code",
   "execution_count": null,
   "metadata": {},
   "outputs": [],
   "source": [
    "#1.Chosing the optimal parameters of the model"
   ]
  },
  {
   "cell_type": "code",
   "execution_count": 345,
   "metadata": {},
   "outputs": [],
   "source": []
  },
  {
   "cell_type": "code",
   "execution_count": 346,
   "metadata": {},
   "outputs": [],
   "source": []
  },
  {
   "cell_type": "code",
   "execution_count": 348,
   "metadata": {},
   "outputs": [
    {
     "data": {
      "text/plain": [
       "GridSearchCV(cv=5, error_score=nan,\n",
       "             estimator=LinearRegression(copy_X=True, fit_intercept=True,\n",
       "                                        n_jobs=None, normalize=False),\n",
       "             iid='deprecated', n_jobs=None,\n",
       "             param_grid={'copy_X': [True, False],\n",
       "                         'fit_intercept': [True, False]},\n",
       "             pre_dispatch='2*n_jobs', refit=True, return_train_score=False,\n",
       "             scoring='r2', verbose=0)"
      ]
     },
     "execution_count": 348,
     "metadata": {},
     "output_type": "execute_result"
    }
   ],
   "source": [
    "reg = LinearRegression()\n",
    "\n",
    "reg_cv = GridSearchCV(reg, param_grid={'fit_intercept':[True,False], 'copy_X' : [True, False]}, scoring='r2', cv = 5)\n",
    "\n",
    "reg_cv.fit(X,y)"
   ]
  },
  {
   "cell_type": "code",
   "execution_count": 350,
   "metadata": {},
   "outputs": [
    {
     "name": "stdout",
     "output_type": "stream",
     "text": [
      "Tuned parameters are : {'copy_X': True, 'fit_intercept': True}\n"
     ]
    }
   ],
   "source": [
    "print(f'Tuned parameters are : {reg_cv.best_params_}')"
   ]
  },
  {
   "cell_type": "code",
   "execution_count": 351,
   "metadata": {},
   "outputs": [],
   "source": [
    "#Tuned Linear Regression Model\n",
    "\n",
    "linear_reg_model = LinearRegression(copy_X=True, fit_intercept=True)\n",
    "\n",
    "linear_reg_model.fit(X_train, y_train)\n",
    "\n",
    "linear_reg_model_predict = linear_reg_model.predict(X_test)"
   ]
  },
  {
   "cell_type": "code",
   "execution_count": 362,
   "metadata": {},
   "outputs": [
    {
     "name": "stdout",
     "output_type": "stream",
     "text": [
      "Training Data Score:\n",
      "The value of r^2 is: 0.7303591840703934\n",
      "The value of Adjusted-r^2  is: 0.7299475187025619\n",
      "The Absolute Mean Error is : 1.645240724370096\n",
      "Root Mean Squared error : 2.3112582991201482\n",
      "Test Data Score: \n",
      "The value of r^2 is: 0.7388385859788489\n",
      "The value of Adjusted-r^2  is: 0.7372363687149155\n",
      "The Absolute Mean Error is : 1.678211850892539\n",
      "Root Mean Squared error : 2.3445156624603376\n",
      "[-1.58152355e-02  7.49757557e-02  1.78760601e-01  1.23592762e-01\n",
      "  1.95560156e-01 -2.70589780e-02 -6.32472532e-02  4.38455443e-01\n",
      "  1.33853207e+00  1.51655095e+00  1.73673428e+00 -3.55477023e-01\n",
      " -4.78235110e-01 -6.48780424e-01 -7.88575009e-01 -1.78733341e-01\n",
      " -1.65292496e-01 -1.68276906e-01  1.66198832e+01]\n"
     ]
    }
   ],
   "source": [
    "print('Training Data Score:')\n",
    "evaluate_model(y_train, linear_reg_model.predict(X_train))\n",
    "\n",
    "print('Test Data Score: ')\n",
    "evaluate_model(y_test,linear_reg_model_predict)\n",
    "print(linear_reg_model.coef_)"
   ]
  },
  {
   "cell_type": "code",
   "execution_count": null,
   "metadata": {},
   "outputs": [],
   "source": []
  },
  {
   "cell_type": "code",
   "execution_count": 366,
   "metadata": {},
   "outputs": [
    {
     "name": "stdout",
     "output_type": "stream",
     "text": [
      "[-5.51137752 -5.34652536 -5.2801964  -5.37201165 -5.41380564] -5.384783314848783\n"
     ]
    }
   ],
   "source": [
    "#Cross validation score\n",
    "\n",
    "cv_score = cross_val_score(reg,X,y, cv=5, scoring='neg_mean_squared_error')\n",
    "\n",
    "print(cv_score, np.mean(cv_score))"
   ]
  },
  {
   "cell_type": "code",
   "execution_count": null,
   "metadata": {},
   "outputs": [],
   "source": []
  },
  {
   "cell_type": "code",
   "execution_count": null,
   "metadata": {},
   "outputs": [],
   "source": []
  },
  {
   "cell_type": "code",
   "execution_count": null,
   "metadata": {},
   "outputs": [],
   "source": [
    "#Ridge regression\n",
    "#Optimal param"
   ]
  },
  {
   "cell_type": "code",
   "execution_count": 363,
   "metadata": {},
   "outputs": [],
   "source": []
  },
  {
   "cell_type": "code",
   "execution_count": 368,
   "metadata": {},
   "outputs": [
    {
     "data": {
      "text/plain": [
       "GridSearchCV(cv=5, error_score=nan,\n",
       "             estimator=Ridge(alpha=1.0, copy_X=True, fit_intercept=True,\n",
       "                             max_iter=None, normalize=False, random_state=None,\n",
       "                             solver='auto', tol=0.001),\n",
       "             iid='deprecated', n_jobs=None,\n",
       "             param_grid={'alpha': array([0.01      , 0.01098541, 0.01206793, 0.01325711, 0.01456348,\n",
       "       0.01599859, 0.01757511, 0.01930698, 0.02120951, 0.02329952,\n",
       "       0.02559548, 0.02811769, 0.03...\n",
       "       0.16768329, 0.184207  , 0.20235896, 0.22229965, 0.24420531,\n",
       "       0.26826958, 0.29470517, 0.32374575, 0.35564803, 0.39069399,\n",
       "       0.42919343, 0.47148664, 0.51794747, 0.5689866 , 0.62505519,\n",
       "       0.68664885, 0.75431201, 0.82864277, 0.91029818, 1.        ]),\n",
       "                         'max_iter': range(500, 5000, 500),\n",
       "                         'normalize': [True, False]},\n",
       "             pre_dispatch='2*n_jobs', refit=True, return_train_score=False,\n",
       "             scoring='r2', verbose=0)"
      ]
     },
     "execution_count": 368,
     "metadata": {},
     "output_type": "execute_result"
    }
   ],
   "source": [
    "r_reg = Ridge()\n",
    "\n",
    "r_reg_cv = GridSearchCV(r_reg, param_grid={'alpha' : np.logspace(-2,0,50), 'normalize': [True,False], 'max_iter' :range(500,5000,500)}, \n",
    "                       scoring='r2', cv=5)\n",
    "r_reg_cv.fit(X,y)\n"
   ]
  },
  {
   "cell_type": "code",
   "execution_count": 369,
   "metadata": {},
   "outputs": [
    {
     "name": "stdout",
     "output_type": "stream",
     "text": [
      "Tuned parameters are : {'alpha': 0.32374575428176433, 'max_iter': 500, 'normalize': False}\n"
     ]
    }
   ],
   "source": [
    "print(f'Tuned parameters are : {r_reg_cv.best_params_}')"
   ]
  },
  {
   "cell_type": "code",
   "execution_count": 370,
   "metadata": {},
   "outputs": [],
   "source": [
    "ridge_reg_model = Ridge(alpha=0.32374575428176433, max_iter=500, normalize=False)\n",
    "\n",
    "ridge_reg_model.fit(X_train, y_train)\n",
    "\n",
    "ridge_reg_model_predict = ridge_reg_model.predict(X_test)"
   ]
  },
  {
   "cell_type": "code",
   "execution_count": 371,
   "metadata": {},
   "outputs": [
    {
     "name": "stdout",
     "output_type": "stream",
     "text": [
      "Training Data Score:\n",
      "The value of r^2 is: 0.7303589847053527\n",
      "The value of Adjusted-r^2  is: 0.7299473190331471\n",
      "The Absolute Mean Error is : 1.6454323787008445\n",
      "Root Mean Squared error : 2.3112591535605604\n",
      "Test Data Score: \n",
      "The value of r^2 is: 0.7388200544551927\n",
      "The value of Adjusted-r^2  is: 0.7372177235009301\n",
      "The Absolute Mean Error is : 1.6784706772657927\n",
      "Root Mean Squared error : 2.3445988421997987\n",
      "[-1.57978473e-02  7.49291633e-02  1.78633267e-01  1.23364492e-01\n",
      "  1.95595215e-01 -2.78850218e-02 -6.39458574e-02  4.37626715e-01\n",
      "  1.33751000e+00  1.51547083e+00  1.73525660e+00 -3.55031670e-01\n",
      " -4.77753033e-01 -6.47453792e-01 -7.87709267e-01 -1.78621654e-01\n",
      " -1.65301883e-01 -1.68160922e-01  1.66112027e+01]\n"
     ]
    }
   ],
   "source": [
    "print('Training Data Score:')\n",
    "evaluate_model(y_train, ridge_reg_model.predict(X_train))\n",
    "\n",
    "print('Test Data Score: ')\n",
    "evaluate_model(y_test,ridge_reg_model_predict)\n",
    "print(ridge_reg_model.coef_)"
   ]
  },
  {
   "cell_type": "code",
   "execution_count": null,
   "metadata": {},
   "outputs": [],
   "source": []
  },
  {
   "cell_type": "code",
   "execution_count": 372,
   "metadata": {},
   "outputs": [
    {
     "name": "stdout",
     "output_type": "stream",
     "text": [
      "[-5.51137752 -5.34652536 -5.2801964  -5.37201165 -5.41380564] -5.384783314848783\n"
     ]
    }
   ],
   "source": [
    "r_cv_score = cross_val_score(r_reg,X,y, cv=5, scoring='neg_mean_squared_error')\n",
    "\n",
    "print(cv_score, np.mean(cv_score))"
   ]
  },
  {
   "cell_type": "code",
   "execution_count": null,
   "metadata": {},
   "outputs": [],
   "source": []
  },
  {
   "cell_type": "code",
   "execution_count": null,
   "metadata": {},
   "outputs": [],
   "source": [
    "#Lasso Regression\n",
    "#Optimal Params"
   ]
  },
  {
   "cell_type": "code",
   "execution_count": 373,
   "metadata": {},
   "outputs": [],
   "source": []
  },
  {
   "cell_type": "code",
   "execution_count": 374,
   "metadata": {},
   "outputs": [
    {
     "data": {
      "text/plain": [
       "GridSearchCV(cv=5, error_score=nan,\n",
       "             estimator=Lasso(alpha=1.0, copy_X=True, fit_intercept=True,\n",
       "                             max_iter=1000, normalize=False, positive=False,\n",
       "                             precompute=False, random_state=None,\n",
       "                             selection='cyclic', tol=0.0001, warm_start=False),\n",
       "             iid='deprecated', n_jobs=None,\n",
       "             param_grid={'alpha': array([0.01      , 0.01098541, 0.01206793, 0.01325711, 0.01456348,\n",
       "       0.01599859, 0.01757511, 0.01...\n",
       "       0.16768329, 0.184207  , 0.20235896, 0.22229965, 0.24420531,\n",
       "       0.26826958, 0.29470517, 0.32374575, 0.35564803, 0.39069399,\n",
       "       0.42919343, 0.47148664, 0.51794747, 0.5689866 , 0.62505519,\n",
       "       0.68664885, 0.75431201, 0.82864277, 0.91029818, 1.        ]),\n",
       "                         'max_iter': range(500, 5000, 500),\n",
       "                         'normalize': [True, False]},\n",
       "             pre_dispatch='2*n_jobs', refit=True, return_train_score=False,\n",
       "             scoring='r2', verbose=0)"
      ]
     },
     "execution_count": 374,
     "metadata": {},
     "output_type": "execute_result"
    }
   ],
   "source": [
    "l_reg = Lasso()\n",
    "\n",
    "l_reg_cv = GridSearchCV(l_reg, param_grid={'alpha' : np.logspace(-2,0,50), 'normalize': [True,False], 'max_iter' :range(500,5000,500)}, \n",
    "                       scoring='r2', cv=5)\n",
    "l_reg_cv.fit(X,y)"
   ]
  },
  {
   "cell_type": "code",
   "execution_count": 375,
   "metadata": {},
   "outputs": [
    {
     "name": "stdout",
     "output_type": "stream",
     "text": [
      "Tuned parameters are: {'alpha': 0.01, 'max_iter': 500, 'normalize': False}\n"
     ]
    }
   ],
   "source": [
    "print(f'Tuned parameters are: {l_reg_cv.best_params_}')"
   ]
  },
  {
   "cell_type": "code",
   "execution_count": 376,
   "metadata": {},
   "outputs": [],
   "source": [
    "lasso_reg_model = Lasso(alpha=0.01, max_iter=500, normalize=False)\n",
    "\n",
    "lasso_reg_model.fit(X_train, y_train)\n",
    "\n",
    "lasso_reg_model_predict = lasso_reg_model.predict(X_test)"
   ]
  },
  {
   "cell_type": "code",
   "execution_count": 377,
   "metadata": {},
   "outputs": [
    {
     "name": "stdout",
     "output_type": "stream",
     "text": [
      "Training Data Score:\n",
      "The value of r^2 is: 0.729097417526163\n",
      "The value of Adjusted-r^2  is: 0.7286838257971953\n",
      "The Absolute Mean Error is : 1.6549910388439353\n",
      "Root Mean Squared error : 2.316659678588732\n",
      "Test Data Score: \n",
      "The value of r^2 is: 0.7374672613041283\n",
      "The value of Adjusted-r^2  is: 0.7358566310053807\n",
      "The Absolute Mean Error is : 1.6877074326989459\n",
      "Root Mean Squared error : 2.350662976999091\n",
      "[-0.          0.          0.          0.          0.         -0.10309073\n",
      " -0.13174002  0.24350778  1.14200817  1.31497335  1.42290229 -0.13302466\n",
      " -0.26176494 -0.37515778 -0.53853611 -0.06440627 -0.05537246 -0.11182107\n",
      " 16.38333964]\n"
     ]
    }
   ],
   "source": [
    "print('Training Data Score:')\n",
    "evaluate_model(y_train, lasso_reg_model.predict(X_train))\n",
    "\n",
    "print('Test Data Score: ')\n",
    "evaluate_model(y_test,lasso_reg_model_predict)\n",
    "print(lasso_reg_model.coef_)"
   ]
  },
  {
   "cell_type": "code",
   "execution_count": null,
   "metadata": {},
   "outputs": [],
   "source": []
  },
  {
   "cell_type": "code",
   "execution_count": null,
   "metadata": {},
   "outputs": [],
   "source": [
    "#Decision Tree"
   ]
  },
  {
   "cell_type": "code",
   "execution_count": 378,
   "metadata": {},
   "outputs": [],
   "source": []
  },
  {
   "cell_type": "code",
   "execution_count": 380,
   "metadata": {},
   "outputs": [
    {
     "data": {
      "text/plain": [
       "GridSearchCV(cv=5, error_score=nan,\n",
       "             estimator=DecisionTreeRegressor(ccp_alpha=0.0, criterion='mse',\n",
       "                                             max_depth=None, max_features=None,\n",
       "                                             max_leaf_nodes=None,\n",
       "                                             min_impurity_decrease=0.0,\n",
       "                                             min_impurity_split=None,\n",
       "                                             min_samples_leaf=1,\n",
       "                                             min_samples_split=2,\n",
       "                                             min_weight_fraction_leaf=0.0,\n",
       "                                             presort='deprecated',\n",
       "                                             random_state=None,\n",
       "                                             splitter='best'),\n",
       "             iid='deprecated', n_jobs=None,\n",
       "             param_grid={'max_depth': range(2, 20, 2),\n",
       "                         'min_samples_split': range(2, 20, 2)},\n",
       "             pre_dispatch='2*n_jobs', refit=True, return_train_score=False,\n",
       "             scoring=None, verbose=0)"
      ]
     },
     "execution_count": 380,
     "metadata": {},
     "output_type": "execute_result"
    }
   ],
   "source": [
    "tree_reg = DecisionTreeRegressor()\n",
    "\n",
    "tree_reg_cv = GridSearchCV(tree_reg, \n",
    "                          param_grid= {'max_depth': range(2,20,2),'min_samples_split':range(2,20,2)}, \n",
    "                          cv=5)\n",
    "tree_reg_cv.fit(X,y)"
   ]
  },
  {
   "cell_type": "code",
   "execution_count": 381,
   "metadata": {},
   "outputs": [
    {
     "name": "stdout",
     "output_type": "stream",
     "text": [
      "Tuned Parameters are : {'max_depth': 6, 'min_samples_split': 2}\n"
     ]
    }
   ],
   "source": [
    "print(f'Tuned Parameters are : {tree_reg_cv.best_params_}')"
   ]
  },
  {
   "cell_type": "code",
   "execution_count": 382,
   "metadata": {},
   "outputs": [],
   "source": [
    "tree_reg_model = DecisionTreeRegressor(max_depth=6, min_samples_split=2)\n",
    "\n",
    "tree_reg_model.fit(X_train, y_train)\n",
    "\n",
    "tree_reg_model_predict = tree_reg_model.predict(X_test)"
   ]
  },
  {
   "cell_type": "code",
   "execution_count": 384,
   "metadata": {},
   "outputs": [
    {
     "name": "stdout",
     "output_type": "stream",
     "text": [
      "Training Data Score:\n",
      "The value of r^2 is: 0.7419685921122552\n",
      "The value of Adjusted-r^2  is: 0.7415746510315105\n",
      "The Absolute Mean Error is : 1.6226724706188556\n",
      "Root Mean Squared error : 2.260955180491699\n",
      "Test Data Score: \n",
      "The value of r^2 is: 0.7335859670610554\n",
      "The value of Adjusted-r^2  is: 0.7319515251411846\n",
      "The Absolute Mean Error is : 1.692802978866932\n",
      "Root Mean Squared error : 2.367975371527145\n"
     ]
    }
   ],
   "source": [
    "print('Training Data Score:')\n",
    "evaluate_model(y_train, tree_reg_model.predict(X_train))\n",
    "\n",
    "print('Test Data Score: ')\n",
    "evaluate_model(y_test,tree_reg_model_predict)\n",
    "#print(tree_reg_model.coef_)"
   ]
  },
  {
   "cell_type": "code",
   "execution_count": null,
   "metadata": {},
   "outputs": [],
   "source": []
  },
  {
   "cell_type": "code",
   "execution_count": null,
   "metadata": {},
   "outputs": [],
   "source": [
    "#Random Forest Regressor"
   ]
  },
  {
   "cell_type": "code",
   "execution_count": 385,
   "metadata": {},
   "outputs": [],
   "source": []
  },
  {
   "cell_type": "code",
   "execution_count": 387,
   "metadata": {
    "collapsed": true
   },
   "outputs": [
    {
     "ename": "KeyboardInterrupt",
     "evalue": "",
     "output_type": "error",
     "traceback": [
      "\u001b[1;31m---------------------------------------------------------------------------\u001b[0m",
      "\u001b[1;31mKeyboardInterrupt\u001b[0m                         Traceback (most recent call last)",
      "\u001b[1;32m<ipython-input-387-e8a60cba8369>\u001b[0m in \u001b[0;36m<module>\u001b[1;34m\u001b[0m\n\u001b[0;32m      8\u001b[0m                                    'max_features' : ['auto','log2','sqrt']},\n\u001b[0;32m      9\u001b[0m                        cv=5)\n\u001b[1;32m---> 10\u001b[1;33m \u001b[0mf_reg_cv\u001b[0m\u001b[1;33m.\u001b[0m\u001b[0mfit\u001b[0m\u001b[1;33m(\u001b[0m\u001b[0mX\u001b[0m\u001b[1;33m,\u001b[0m\u001b[0my\u001b[0m\u001b[1;33m)\u001b[0m\u001b[1;33m\u001b[0m\u001b[1;33m\u001b[0m\u001b[0m\n\u001b[0m",
      "\u001b[1;32m~\\Anaconda3\\lib\\site-packages\\sklearn\\model_selection\\_search.py\u001b[0m in \u001b[0;36mfit\u001b[1;34m(self, X, y, groups, **fit_params)\u001b[0m\n\u001b[0;32m    708\u001b[0m                 \u001b[1;32mreturn\u001b[0m \u001b[0mresults\u001b[0m\u001b[1;33m\u001b[0m\u001b[1;33m\u001b[0m\u001b[0m\n\u001b[0;32m    709\u001b[0m \u001b[1;33m\u001b[0m\u001b[0m\n\u001b[1;32m--> 710\u001b[1;33m             \u001b[0mself\u001b[0m\u001b[1;33m.\u001b[0m\u001b[0m_run_search\u001b[0m\u001b[1;33m(\u001b[0m\u001b[0mevaluate_candidates\u001b[0m\u001b[1;33m)\u001b[0m\u001b[1;33m\u001b[0m\u001b[1;33m\u001b[0m\u001b[0m\n\u001b[0m\u001b[0;32m    711\u001b[0m \u001b[1;33m\u001b[0m\u001b[0m\n\u001b[0;32m    712\u001b[0m         \u001b[1;31m# For multi-metric evaluation, store the best_index_, best_params_ and\u001b[0m\u001b[1;33m\u001b[0m\u001b[1;33m\u001b[0m\u001b[1;33m\u001b[0m\u001b[0m\n",
      "\u001b[1;32m~\\Anaconda3\\lib\\site-packages\\sklearn\\model_selection\\_search.py\u001b[0m in \u001b[0;36m_run_search\u001b[1;34m(self, evaluate_candidates)\u001b[0m\n\u001b[0;32m   1149\u001b[0m     \u001b[1;32mdef\u001b[0m \u001b[0m_run_search\u001b[0m\u001b[1;33m(\u001b[0m\u001b[0mself\u001b[0m\u001b[1;33m,\u001b[0m \u001b[0mevaluate_candidates\u001b[0m\u001b[1;33m)\u001b[0m\u001b[1;33m:\u001b[0m\u001b[1;33m\u001b[0m\u001b[1;33m\u001b[0m\u001b[0m\n\u001b[0;32m   1150\u001b[0m         \u001b[1;34m\"\"\"Search all candidates in param_grid\"\"\"\u001b[0m\u001b[1;33m\u001b[0m\u001b[1;33m\u001b[0m\u001b[0m\n\u001b[1;32m-> 1151\u001b[1;33m         \u001b[0mevaluate_candidates\u001b[0m\u001b[1;33m(\u001b[0m\u001b[0mParameterGrid\u001b[0m\u001b[1;33m(\u001b[0m\u001b[0mself\u001b[0m\u001b[1;33m.\u001b[0m\u001b[0mparam_grid\u001b[0m\u001b[1;33m)\u001b[0m\u001b[1;33m)\u001b[0m\u001b[1;33m\u001b[0m\u001b[1;33m\u001b[0m\u001b[0m\n\u001b[0m\u001b[0;32m   1152\u001b[0m \u001b[1;33m\u001b[0m\u001b[0m\n\u001b[0;32m   1153\u001b[0m \u001b[1;33m\u001b[0m\u001b[0m\n",
      "\u001b[1;32m~\\Anaconda3\\lib\\site-packages\\sklearn\\model_selection\\_search.py\u001b[0m in \u001b[0;36mevaluate_candidates\u001b[1;34m(candidate_params)\u001b[0m\n\u001b[0;32m    687\u001b[0m                                \u001b[1;32mfor\u001b[0m \u001b[0mparameters\u001b[0m\u001b[1;33m,\u001b[0m \u001b[1;33m(\u001b[0m\u001b[0mtrain\u001b[0m\u001b[1;33m,\u001b[0m \u001b[0mtest\u001b[0m\u001b[1;33m)\u001b[0m\u001b[1;33m\u001b[0m\u001b[1;33m\u001b[0m\u001b[0m\n\u001b[0;32m    688\u001b[0m                                in product(candidate_params,\n\u001b[1;32m--> 689\u001b[1;33m                                           cv.split(X, y, groups)))\n\u001b[0m\u001b[0;32m    690\u001b[0m \u001b[1;33m\u001b[0m\u001b[0m\n\u001b[0;32m    691\u001b[0m                 \u001b[1;32mif\u001b[0m \u001b[0mlen\u001b[0m\u001b[1;33m(\u001b[0m\u001b[0mout\u001b[0m\u001b[1;33m)\u001b[0m \u001b[1;33m<\u001b[0m \u001b[1;36m1\u001b[0m\u001b[1;33m:\u001b[0m\u001b[1;33m\u001b[0m\u001b[1;33m\u001b[0m\u001b[0m\n",
      "\u001b[1;32m~\\Anaconda3\\lib\\site-packages\\joblib\\parallel.py\u001b[0m in \u001b[0;36m__call__\u001b[1;34m(self, iterable)\u001b[0m\n\u001b[0;32m   1005\u001b[0m                 \u001b[0mself\u001b[0m\u001b[1;33m.\u001b[0m\u001b[0m_iterating\u001b[0m \u001b[1;33m=\u001b[0m \u001b[0mself\u001b[0m\u001b[1;33m.\u001b[0m\u001b[0m_original_iterator\u001b[0m \u001b[1;32mis\u001b[0m \u001b[1;32mnot\u001b[0m \u001b[1;32mNone\u001b[0m\u001b[1;33m\u001b[0m\u001b[1;33m\u001b[0m\u001b[0m\n\u001b[0;32m   1006\u001b[0m \u001b[1;33m\u001b[0m\u001b[0m\n\u001b[1;32m-> 1007\u001b[1;33m             \u001b[1;32mwhile\u001b[0m \u001b[0mself\u001b[0m\u001b[1;33m.\u001b[0m\u001b[0mdispatch_one_batch\u001b[0m\u001b[1;33m(\u001b[0m\u001b[0miterator\u001b[0m\u001b[1;33m)\u001b[0m\u001b[1;33m:\u001b[0m\u001b[1;33m\u001b[0m\u001b[1;33m\u001b[0m\u001b[0m\n\u001b[0m\u001b[0;32m   1008\u001b[0m                 \u001b[1;32mpass\u001b[0m\u001b[1;33m\u001b[0m\u001b[1;33m\u001b[0m\u001b[0m\n\u001b[0;32m   1009\u001b[0m \u001b[1;33m\u001b[0m\u001b[0m\n",
      "\u001b[1;32m~\\Anaconda3\\lib\\site-packages\\joblib\\parallel.py\u001b[0m in \u001b[0;36mdispatch_one_batch\u001b[1;34m(self, iterator)\u001b[0m\n\u001b[0;32m    833\u001b[0m                 \u001b[1;32mreturn\u001b[0m \u001b[1;32mFalse\u001b[0m\u001b[1;33m\u001b[0m\u001b[1;33m\u001b[0m\u001b[0m\n\u001b[0;32m    834\u001b[0m             \u001b[1;32melse\u001b[0m\u001b[1;33m:\u001b[0m\u001b[1;33m\u001b[0m\u001b[1;33m\u001b[0m\u001b[0m\n\u001b[1;32m--> 835\u001b[1;33m                 \u001b[0mself\u001b[0m\u001b[1;33m.\u001b[0m\u001b[0m_dispatch\u001b[0m\u001b[1;33m(\u001b[0m\u001b[0mtasks\u001b[0m\u001b[1;33m)\u001b[0m\u001b[1;33m\u001b[0m\u001b[1;33m\u001b[0m\u001b[0m\n\u001b[0m\u001b[0;32m    836\u001b[0m                 \u001b[1;32mreturn\u001b[0m \u001b[1;32mTrue\u001b[0m\u001b[1;33m\u001b[0m\u001b[1;33m\u001b[0m\u001b[0m\n\u001b[0;32m    837\u001b[0m \u001b[1;33m\u001b[0m\u001b[0m\n",
      "\u001b[1;32m~\\Anaconda3\\lib\\site-packages\\joblib\\parallel.py\u001b[0m in \u001b[0;36m_dispatch\u001b[1;34m(self, batch)\u001b[0m\n\u001b[0;32m    752\u001b[0m         \u001b[1;32mwith\u001b[0m \u001b[0mself\u001b[0m\u001b[1;33m.\u001b[0m\u001b[0m_lock\u001b[0m\u001b[1;33m:\u001b[0m\u001b[1;33m\u001b[0m\u001b[1;33m\u001b[0m\u001b[0m\n\u001b[0;32m    753\u001b[0m             \u001b[0mjob_idx\u001b[0m \u001b[1;33m=\u001b[0m \u001b[0mlen\u001b[0m\u001b[1;33m(\u001b[0m\u001b[0mself\u001b[0m\u001b[1;33m.\u001b[0m\u001b[0m_jobs\u001b[0m\u001b[1;33m)\u001b[0m\u001b[1;33m\u001b[0m\u001b[1;33m\u001b[0m\u001b[0m\n\u001b[1;32m--> 754\u001b[1;33m             \u001b[0mjob\u001b[0m \u001b[1;33m=\u001b[0m \u001b[0mself\u001b[0m\u001b[1;33m.\u001b[0m\u001b[0m_backend\u001b[0m\u001b[1;33m.\u001b[0m\u001b[0mapply_async\u001b[0m\u001b[1;33m(\u001b[0m\u001b[0mbatch\u001b[0m\u001b[1;33m,\u001b[0m \u001b[0mcallback\u001b[0m\u001b[1;33m=\u001b[0m\u001b[0mcb\u001b[0m\u001b[1;33m)\u001b[0m\u001b[1;33m\u001b[0m\u001b[1;33m\u001b[0m\u001b[0m\n\u001b[0m\u001b[0;32m    755\u001b[0m             \u001b[1;31m# A job can complete so quickly than its callback is\u001b[0m\u001b[1;33m\u001b[0m\u001b[1;33m\u001b[0m\u001b[1;33m\u001b[0m\u001b[0m\n\u001b[0;32m    756\u001b[0m             \u001b[1;31m# called before we get here, causing self._jobs to\u001b[0m\u001b[1;33m\u001b[0m\u001b[1;33m\u001b[0m\u001b[1;33m\u001b[0m\u001b[0m\n",
      "\u001b[1;32m~\\Anaconda3\\lib\\site-packages\\joblib\\_parallel_backends.py\u001b[0m in \u001b[0;36mapply_async\u001b[1;34m(self, func, callback)\u001b[0m\n\u001b[0;32m    207\u001b[0m     \u001b[1;32mdef\u001b[0m \u001b[0mapply_async\u001b[0m\u001b[1;33m(\u001b[0m\u001b[0mself\u001b[0m\u001b[1;33m,\u001b[0m \u001b[0mfunc\u001b[0m\u001b[1;33m,\u001b[0m \u001b[0mcallback\u001b[0m\u001b[1;33m=\u001b[0m\u001b[1;32mNone\u001b[0m\u001b[1;33m)\u001b[0m\u001b[1;33m:\u001b[0m\u001b[1;33m\u001b[0m\u001b[1;33m\u001b[0m\u001b[0m\n\u001b[0;32m    208\u001b[0m         \u001b[1;34m\"\"\"Schedule a func to be run\"\"\"\u001b[0m\u001b[1;33m\u001b[0m\u001b[1;33m\u001b[0m\u001b[0m\n\u001b[1;32m--> 209\u001b[1;33m         \u001b[0mresult\u001b[0m \u001b[1;33m=\u001b[0m \u001b[0mImmediateResult\u001b[0m\u001b[1;33m(\u001b[0m\u001b[0mfunc\u001b[0m\u001b[1;33m)\u001b[0m\u001b[1;33m\u001b[0m\u001b[1;33m\u001b[0m\u001b[0m\n\u001b[0m\u001b[0;32m    210\u001b[0m         \u001b[1;32mif\u001b[0m \u001b[0mcallback\u001b[0m\u001b[1;33m:\u001b[0m\u001b[1;33m\u001b[0m\u001b[1;33m\u001b[0m\u001b[0m\n\u001b[0;32m    211\u001b[0m             \u001b[0mcallback\u001b[0m\u001b[1;33m(\u001b[0m\u001b[0mresult\u001b[0m\u001b[1;33m)\u001b[0m\u001b[1;33m\u001b[0m\u001b[1;33m\u001b[0m\u001b[0m\n",
      "\u001b[1;32m~\\Anaconda3\\lib\\site-packages\\joblib\\_parallel_backends.py\u001b[0m in \u001b[0;36m__init__\u001b[1;34m(self, batch)\u001b[0m\n\u001b[0;32m    588\u001b[0m         \u001b[1;31m# Don't delay the application, to avoid keeping the input\u001b[0m\u001b[1;33m\u001b[0m\u001b[1;33m\u001b[0m\u001b[1;33m\u001b[0m\u001b[0m\n\u001b[0;32m    589\u001b[0m         \u001b[1;31m# arguments in memory\u001b[0m\u001b[1;33m\u001b[0m\u001b[1;33m\u001b[0m\u001b[1;33m\u001b[0m\u001b[0m\n\u001b[1;32m--> 590\u001b[1;33m         \u001b[0mself\u001b[0m\u001b[1;33m.\u001b[0m\u001b[0mresults\u001b[0m \u001b[1;33m=\u001b[0m \u001b[0mbatch\u001b[0m\u001b[1;33m(\u001b[0m\u001b[1;33m)\u001b[0m\u001b[1;33m\u001b[0m\u001b[1;33m\u001b[0m\u001b[0m\n\u001b[0m\u001b[0;32m    591\u001b[0m \u001b[1;33m\u001b[0m\u001b[0m\n\u001b[0;32m    592\u001b[0m     \u001b[1;32mdef\u001b[0m \u001b[0mget\u001b[0m\u001b[1;33m(\u001b[0m\u001b[0mself\u001b[0m\u001b[1;33m)\u001b[0m\u001b[1;33m:\u001b[0m\u001b[1;33m\u001b[0m\u001b[1;33m\u001b[0m\u001b[0m\n",
      "\u001b[1;32m~\\Anaconda3\\lib\\site-packages\\joblib\\parallel.py\u001b[0m in \u001b[0;36m__call__\u001b[1;34m(self)\u001b[0m\n\u001b[0;32m    254\u001b[0m         \u001b[1;32mwith\u001b[0m \u001b[0mparallel_backend\u001b[0m\u001b[1;33m(\u001b[0m\u001b[0mself\u001b[0m\u001b[1;33m.\u001b[0m\u001b[0m_backend\u001b[0m\u001b[1;33m,\u001b[0m \u001b[0mn_jobs\u001b[0m\u001b[1;33m=\u001b[0m\u001b[0mself\u001b[0m\u001b[1;33m.\u001b[0m\u001b[0m_n_jobs\u001b[0m\u001b[1;33m)\u001b[0m\u001b[1;33m:\u001b[0m\u001b[1;33m\u001b[0m\u001b[1;33m\u001b[0m\u001b[0m\n\u001b[0;32m    255\u001b[0m             return [func(*args, **kwargs)\n\u001b[1;32m--> 256\u001b[1;33m                     for func, args, kwargs in self.items]\n\u001b[0m\u001b[0;32m    257\u001b[0m \u001b[1;33m\u001b[0m\u001b[0m\n\u001b[0;32m    258\u001b[0m     \u001b[1;32mdef\u001b[0m \u001b[0m__len__\u001b[0m\u001b[1;33m(\u001b[0m\u001b[0mself\u001b[0m\u001b[1;33m)\u001b[0m\u001b[1;33m:\u001b[0m\u001b[1;33m\u001b[0m\u001b[1;33m\u001b[0m\u001b[0m\n",
      "\u001b[1;32m~\\Anaconda3\\lib\\site-packages\\joblib\\parallel.py\u001b[0m in \u001b[0;36m<listcomp>\u001b[1;34m(.0)\u001b[0m\n\u001b[0;32m    254\u001b[0m         \u001b[1;32mwith\u001b[0m \u001b[0mparallel_backend\u001b[0m\u001b[1;33m(\u001b[0m\u001b[0mself\u001b[0m\u001b[1;33m.\u001b[0m\u001b[0m_backend\u001b[0m\u001b[1;33m,\u001b[0m \u001b[0mn_jobs\u001b[0m\u001b[1;33m=\u001b[0m\u001b[0mself\u001b[0m\u001b[1;33m.\u001b[0m\u001b[0m_n_jobs\u001b[0m\u001b[1;33m)\u001b[0m\u001b[1;33m:\u001b[0m\u001b[1;33m\u001b[0m\u001b[1;33m\u001b[0m\u001b[0m\n\u001b[0;32m    255\u001b[0m             return [func(*args, **kwargs)\n\u001b[1;32m--> 256\u001b[1;33m                     for func, args, kwargs in self.items]\n\u001b[0m\u001b[0;32m    257\u001b[0m \u001b[1;33m\u001b[0m\u001b[0m\n\u001b[0;32m    258\u001b[0m     \u001b[1;32mdef\u001b[0m \u001b[0m__len__\u001b[0m\u001b[1;33m(\u001b[0m\u001b[0mself\u001b[0m\u001b[1;33m)\u001b[0m\u001b[1;33m:\u001b[0m\u001b[1;33m\u001b[0m\u001b[1;33m\u001b[0m\u001b[0m\n",
      "\u001b[1;32m~\\Anaconda3\\lib\\site-packages\\sklearn\\model_selection\\_validation.py\u001b[0m in \u001b[0;36m_fit_and_score\u001b[1;34m(estimator, X, y, scorer, train, test, verbose, parameters, fit_params, return_train_score, return_parameters, return_n_test_samples, return_times, return_estimator, error_score)\u001b[0m\n\u001b[0;32m    513\u001b[0m             \u001b[0mestimator\u001b[0m\u001b[1;33m.\u001b[0m\u001b[0mfit\u001b[0m\u001b[1;33m(\u001b[0m\u001b[0mX_train\u001b[0m\u001b[1;33m,\u001b[0m \u001b[1;33m**\u001b[0m\u001b[0mfit_params\u001b[0m\u001b[1;33m)\u001b[0m\u001b[1;33m\u001b[0m\u001b[1;33m\u001b[0m\u001b[0m\n\u001b[0;32m    514\u001b[0m         \u001b[1;32melse\u001b[0m\u001b[1;33m:\u001b[0m\u001b[1;33m\u001b[0m\u001b[1;33m\u001b[0m\u001b[0m\n\u001b[1;32m--> 515\u001b[1;33m             \u001b[0mestimator\u001b[0m\u001b[1;33m.\u001b[0m\u001b[0mfit\u001b[0m\u001b[1;33m(\u001b[0m\u001b[0mX_train\u001b[0m\u001b[1;33m,\u001b[0m \u001b[0my_train\u001b[0m\u001b[1;33m,\u001b[0m \u001b[1;33m**\u001b[0m\u001b[0mfit_params\u001b[0m\u001b[1;33m)\u001b[0m\u001b[1;33m\u001b[0m\u001b[1;33m\u001b[0m\u001b[0m\n\u001b[0m\u001b[0;32m    516\u001b[0m \u001b[1;33m\u001b[0m\u001b[0m\n\u001b[0;32m    517\u001b[0m     \u001b[1;32mexcept\u001b[0m \u001b[0mException\u001b[0m \u001b[1;32mas\u001b[0m \u001b[0me\u001b[0m\u001b[1;33m:\u001b[0m\u001b[1;33m\u001b[0m\u001b[1;33m\u001b[0m\u001b[0m\n",
      "\u001b[1;32m~\\Anaconda3\\lib\\site-packages\\sklearn\\ensemble\\_forest.py\u001b[0m in \u001b[0;36mfit\u001b[1;34m(self, X, y, sample_weight)\u001b[0m\n\u001b[0;32m    381\u001b[0m                     \u001b[0mverbose\u001b[0m\u001b[1;33m=\u001b[0m\u001b[0mself\u001b[0m\u001b[1;33m.\u001b[0m\u001b[0mverbose\u001b[0m\u001b[1;33m,\u001b[0m \u001b[0mclass_weight\u001b[0m\u001b[1;33m=\u001b[0m\u001b[0mself\u001b[0m\u001b[1;33m.\u001b[0m\u001b[0mclass_weight\u001b[0m\u001b[1;33m,\u001b[0m\u001b[1;33m\u001b[0m\u001b[1;33m\u001b[0m\u001b[0m\n\u001b[0;32m    382\u001b[0m                     n_samples_bootstrap=n_samples_bootstrap)\n\u001b[1;32m--> 383\u001b[1;33m                 for i, t in enumerate(trees))\n\u001b[0m\u001b[0;32m    384\u001b[0m \u001b[1;33m\u001b[0m\u001b[0m\n\u001b[0;32m    385\u001b[0m             \u001b[1;31m# Collect newly grown trees\u001b[0m\u001b[1;33m\u001b[0m\u001b[1;33m\u001b[0m\u001b[1;33m\u001b[0m\u001b[0m\n",
      "\u001b[1;32m~\\Anaconda3\\lib\\site-packages\\joblib\\parallel.py\u001b[0m in \u001b[0;36m__call__\u001b[1;34m(self, iterable)\u001b[0m\n\u001b[0;32m   1005\u001b[0m                 \u001b[0mself\u001b[0m\u001b[1;33m.\u001b[0m\u001b[0m_iterating\u001b[0m \u001b[1;33m=\u001b[0m \u001b[0mself\u001b[0m\u001b[1;33m.\u001b[0m\u001b[0m_original_iterator\u001b[0m \u001b[1;32mis\u001b[0m \u001b[1;32mnot\u001b[0m \u001b[1;32mNone\u001b[0m\u001b[1;33m\u001b[0m\u001b[1;33m\u001b[0m\u001b[0m\n\u001b[0;32m   1006\u001b[0m \u001b[1;33m\u001b[0m\u001b[0m\n\u001b[1;32m-> 1007\u001b[1;33m             \u001b[1;32mwhile\u001b[0m \u001b[0mself\u001b[0m\u001b[1;33m.\u001b[0m\u001b[0mdispatch_one_batch\u001b[0m\u001b[1;33m(\u001b[0m\u001b[0miterator\u001b[0m\u001b[1;33m)\u001b[0m\u001b[1;33m:\u001b[0m\u001b[1;33m\u001b[0m\u001b[1;33m\u001b[0m\u001b[0m\n\u001b[0m\u001b[0;32m   1008\u001b[0m                 \u001b[1;32mpass\u001b[0m\u001b[1;33m\u001b[0m\u001b[1;33m\u001b[0m\u001b[0m\n\u001b[0;32m   1009\u001b[0m \u001b[1;33m\u001b[0m\u001b[0m\n",
      "\u001b[1;32m~\\Anaconda3\\lib\\site-packages\\joblib\\parallel.py\u001b[0m in \u001b[0;36mdispatch_one_batch\u001b[1;34m(self, iterator)\u001b[0m\n\u001b[0;32m    833\u001b[0m                 \u001b[1;32mreturn\u001b[0m \u001b[1;32mFalse\u001b[0m\u001b[1;33m\u001b[0m\u001b[1;33m\u001b[0m\u001b[0m\n\u001b[0;32m    834\u001b[0m             \u001b[1;32melse\u001b[0m\u001b[1;33m:\u001b[0m\u001b[1;33m\u001b[0m\u001b[1;33m\u001b[0m\u001b[0m\n\u001b[1;32m--> 835\u001b[1;33m                 \u001b[0mself\u001b[0m\u001b[1;33m.\u001b[0m\u001b[0m_dispatch\u001b[0m\u001b[1;33m(\u001b[0m\u001b[0mtasks\u001b[0m\u001b[1;33m)\u001b[0m\u001b[1;33m\u001b[0m\u001b[1;33m\u001b[0m\u001b[0m\n\u001b[0m\u001b[0;32m    836\u001b[0m                 \u001b[1;32mreturn\u001b[0m \u001b[1;32mTrue\u001b[0m\u001b[1;33m\u001b[0m\u001b[1;33m\u001b[0m\u001b[0m\n\u001b[0;32m    837\u001b[0m \u001b[1;33m\u001b[0m\u001b[0m\n",
      "\u001b[1;32m~\\Anaconda3\\lib\\site-packages\\joblib\\parallel.py\u001b[0m in \u001b[0;36m_dispatch\u001b[1;34m(self, batch)\u001b[0m\n\u001b[0;32m    752\u001b[0m         \u001b[1;32mwith\u001b[0m \u001b[0mself\u001b[0m\u001b[1;33m.\u001b[0m\u001b[0m_lock\u001b[0m\u001b[1;33m:\u001b[0m\u001b[1;33m\u001b[0m\u001b[1;33m\u001b[0m\u001b[0m\n\u001b[0;32m    753\u001b[0m             \u001b[0mjob_idx\u001b[0m \u001b[1;33m=\u001b[0m \u001b[0mlen\u001b[0m\u001b[1;33m(\u001b[0m\u001b[0mself\u001b[0m\u001b[1;33m.\u001b[0m\u001b[0m_jobs\u001b[0m\u001b[1;33m)\u001b[0m\u001b[1;33m\u001b[0m\u001b[1;33m\u001b[0m\u001b[0m\n\u001b[1;32m--> 754\u001b[1;33m             \u001b[0mjob\u001b[0m \u001b[1;33m=\u001b[0m \u001b[0mself\u001b[0m\u001b[1;33m.\u001b[0m\u001b[0m_backend\u001b[0m\u001b[1;33m.\u001b[0m\u001b[0mapply_async\u001b[0m\u001b[1;33m(\u001b[0m\u001b[0mbatch\u001b[0m\u001b[1;33m,\u001b[0m \u001b[0mcallback\u001b[0m\u001b[1;33m=\u001b[0m\u001b[0mcb\u001b[0m\u001b[1;33m)\u001b[0m\u001b[1;33m\u001b[0m\u001b[1;33m\u001b[0m\u001b[0m\n\u001b[0m\u001b[0;32m    755\u001b[0m             \u001b[1;31m# A job can complete so quickly than its callback is\u001b[0m\u001b[1;33m\u001b[0m\u001b[1;33m\u001b[0m\u001b[1;33m\u001b[0m\u001b[0m\n\u001b[0;32m    756\u001b[0m             \u001b[1;31m# called before we get here, causing self._jobs to\u001b[0m\u001b[1;33m\u001b[0m\u001b[1;33m\u001b[0m\u001b[1;33m\u001b[0m\u001b[0m\n",
      "\u001b[1;32m~\\Anaconda3\\lib\\site-packages\\joblib\\_parallel_backends.py\u001b[0m in \u001b[0;36mapply_async\u001b[1;34m(self, func, callback)\u001b[0m\n\u001b[0;32m    207\u001b[0m     \u001b[1;32mdef\u001b[0m \u001b[0mapply_async\u001b[0m\u001b[1;33m(\u001b[0m\u001b[0mself\u001b[0m\u001b[1;33m,\u001b[0m \u001b[0mfunc\u001b[0m\u001b[1;33m,\u001b[0m \u001b[0mcallback\u001b[0m\u001b[1;33m=\u001b[0m\u001b[1;32mNone\u001b[0m\u001b[1;33m)\u001b[0m\u001b[1;33m:\u001b[0m\u001b[1;33m\u001b[0m\u001b[1;33m\u001b[0m\u001b[0m\n\u001b[0;32m    208\u001b[0m         \u001b[1;34m\"\"\"Schedule a func to be run\"\"\"\u001b[0m\u001b[1;33m\u001b[0m\u001b[1;33m\u001b[0m\u001b[0m\n\u001b[1;32m--> 209\u001b[1;33m         \u001b[0mresult\u001b[0m \u001b[1;33m=\u001b[0m \u001b[0mImmediateResult\u001b[0m\u001b[1;33m(\u001b[0m\u001b[0mfunc\u001b[0m\u001b[1;33m)\u001b[0m\u001b[1;33m\u001b[0m\u001b[1;33m\u001b[0m\u001b[0m\n\u001b[0m\u001b[0;32m    210\u001b[0m         \u001b[1;32mif\u001b[0m \u001b[0mcallback\u001b[0m\u001b[1;33m:\u001b[0m\u001b[1;33m\u001b[0m\u001b[1;33m\u001b[0m\u001b[0m\n\u001b[0;32m    211\u001b[0m             \u001b[0mcallback\u001b[0m\u001b[1;33m(\u001b[0m\u001b[0mresult\u001b[0m\u001b[1;33m)\u001b[0m\u001b[1;33m\u001b[0m\u001b[1;33m\u001b[0m\u001b[0m\n",
      "\u001b[1;32m~\\Anaconda3\\lib\\site-packages\\joblib\\_parallel_backends.py\u001b[0m in \u001b[0;36m__init__\u001b[1;34m(self, batch)\u001b[0m\n\u001b[0;32m    588\u001b[0m         \u001b[1;31m# Don't delay the application, to avoid keeping the input\u001b[0m\u001b[1;33m\u001b[0m\u001b[1;33m\u001b[0m\u001b[1;33m\u001b[0m\u001b[0m\n\u001b[0;32m    589\u001b[0m         \u001b[1;31m# arguments in memory\u001b[0m\u001b[1;33m\u001b[0m\u001b[1;33m\u001b[0m\u001b[1;33m\u001b[0m\u001b[0m\n\u001b[1;32m--> 590\u001b[1;33m         \u001b[0mself\u001b[0m\u001b[1;33m.\u001b[0m\u001b[0mresults\u001b[0m \u001b[1;33m=\u001b[0m \u001b[0mbatch\u001b[0m\u001b[1;33m(\u001b[0m\u001b[1;33m)\u001b[0m\u001b[1;33m\u001b[0m\u001b[1;33m\u001b[0m\u001b[0m\n\u001b[0m\u001b[0;32m    591\u001b[0m \u001b[1;33m\u001b[0m\u001b[0m\n\u001b[0;32m    592\u001b[0m     \u001b[1;32mdef\u001b[0m \u001b[0mget\u001b[0m\u001b[1;33m(\u001b[0m\u001b[0mself\u001b[0m\u001b[1;33m)\u001b[0m\u001b[1;33m:\u001b[0m\u001b[1;33m\u001b[0m\u001b[1;33m\u001b[0m\u001b[0m\n",
      "\u001b[1;32m~\\Anaconda3\\lib\\site-packages\\joblib\\parallel.py\u001b[0m in \u001b[0;36m__call__\u001b[1;34m(self)\u001b[0m\n\u001b[0;32m    254\u001b[0m         \u001b[1;32mwith\u001b[0m \u001b[0mparallel_backend\u001b[0m\u001b[1;33m(\u001b[0m\u001b[0mself\u001b[0m\u001b[1;33m.\u001b[0m\u001b[0m_backend\u001b[0m\u001b[1;33m,\u001b[0m \u001b[0mn_jobs\u001b[0m\u001b[1;33m=\u001b[0m\u001b[0mself\u001b[0m\u001b[1;33m.\u001b[0m\u001b[0m_n_jobs\u001b[0m\u001b[1;33m)\u001b[0m\u001b[1;33m:\u001b[0m\u001b[1;33m\u001b[0m\u001b[1;33m\u001b[0m\u001b[0m\n\u001b[0;32m    255\u001b[0m             return [func(*args, **kwargs)\n\u001b[1;32m--> 256\u001b[1;33m                     for func, args, kwargs in self.items]\n\u001b[0m\u001b[0;32m    257\u001b[0m \u001b[1;33m\u001b[0m\u001b[0m\n\u001b[0;32m    258\u001b[0m     \u001b[1;32mdef\u001b[0m \u001b[0m__len__\u001b[0m\u001b[1;33m(\u001b[0m\u001b[0mself\u001b[0m\u001b[1;33m)\u001b[0m\u001b[1;33m:\u001b[0m\u001b[1;33m\u001b[0m\u001b[1;33m\u001b[0m\u001b[0m\n",
      "\u001b[1;32m~\\Anaconda3\\lib\\site-packages\\joblib\\parallel.py\u001b[0m in \u001b[0;36m<listcomp>\u001b[1;34m(.0)\u001b[0m\n\u001b[0;32m    254\u001b[0m         \u001b[1;32mwith\u001b[0m \u001b[0mparallel_backend\u001b[0m\u001b[1;33m(\u001b[0m\u001b[0mself\u001b[0m\u001b[1;33m.\u001b[0m\u001b[0m_backend\u001b[0m\u001b[1;33m,\u001b[0m \u001b[0mn_jobs\u001b[0m\u001b[1;33m=\u001b[0m\u001b[0mself\u001b[0m\u001b[1;33m.\u001b[0m\u001b[0m_n_jobs\u001b[0m\u001b[1;33m)\u001b[0m\u001b[1;33m:\u001b[0m\u001b[1;33m\u001b[0m\u001b[1;33m\u001b[0m\u001b[0m\n\u001b[0;32m    255\u001b[0m             return [func(*args, **kwargs)\n\u001b[1;32m--> 256\u001b[1;33m                     for func, args, kwargs in self.items]\n\u001b[0m\u001b[0;32m    257\u001b[0m \u001b[1;33m\u001b[0m\u001b[0m\n\u001b[0;32m    258\u001b[0m     \u001b[1;32mdef\u001b[0m \u001b[0m__len__\u001b[0m\u001b[1;33m(\u001b[0m\u001b[0mself\u001b[0m\u001b[1;33m)\u001b[0m\u001b[1;33m:\u001b[0m\u001b[1;33m\u001b[0m\u001b[1;33m\u001b[0m\u001b[0m\n",
      "\u001b[1;32m~\\Anaconda3\\lib\\site-packages\\sklearn\\ensemble\\_forest.py\u001b[0m in \u001b[0;36m_parallel_build_trees\u001b[1;34m(tree, forest, X, y, sample_weight, tree_idx, n_trees, verbose, class_weight, n_samples_bootstrap)\u001b[0m\n\u001b[0;32m    147\u001b[0m         \u001b[0mn_samples\u001b[0m \u001b[1;33m=\u001b[0m \u001b[0mX\u001b[0m\u001b[1;33m.\u001b[0m\u001b[0mshape\u001b[0m\u001b[1;33m[\u001b[0m\u001b[1;36m0\u001b[0m\u001b[1;33m]\u001b[0m\u001b[1;33m\u001b[0m\u001b[1;33m\u001b[0m\u001b[0m\n\u001b[0;32m    148\u001b[0m         \u001b[1;32mif\u001b[0m \u001b[0msample_weight\u001b[0m \u001b[1;32mis\u001b[0m \u001b[1;32mNone\u001b[0m\u001b[1;33m:\u001b[0m\u001b[1;33m\u001b[0m\u001b[1;33m\u001b[0m\u001b[0m\n\u001b[1;32m--> 149\u001b[1;33m             \u001b[0mcurr_sample_weight\u001b[0m \u001b[1;33m=\u001b[0m \u001b[0mnp\u001b[0m\u001b[1;33m.\u001b[0m\u001b[0mones\u001b[0m\u001b[1;33m(\u001b[0m\u001b[1;33m(\u001b[0m\u001b[0mn_samples\u001b[0m\u001b[1;33m,\u001b[0m\u001b[1;33m)\u001b[0m\u001b[1;33m,\u001b[0m \u001b[0mdtype\u001b[0m\u001b[1;33m=\u001b[0m\u001b[0mnp\u001b[0m\u001b[1;33m.\u001b[0m\u001b[0mfloat64\u001b[0m\u001b[1;33m)\u001b[0m\u001b[1;33m\u001b[0m\u001b[1;33m\u001b[0m\u001b[0m\n\u001b[0m\u001b[0;32m    150\u001b[0m         \u001b[1;32melse\u001b[0m\u001b[1;33m:\u001b[0m\u001b[1;33m\u001b[0m\u001b[1;33m\u001b[0m\u001b[0m\n\u001b[0;32m    151\u001b[0m             \u001b[0mcurr_sample_weight\u001b[0m \u001b[1;33m=\u001b[0m \u001b[0msample_weight\u001b[0m\u001b[1;33m.\u001b[0m\u001b[0mcopy\u001b[0m\u001b[1;33m(\u001b[0m\u001b[1;33m)\u001b[0m\u001b[1;33m\u001b[0m\u001b[1;33m\u001b[0m\u001b[0m\n",
      "\u001b[1;32m~\\Anaconda3\\lib\\site-packages\\numpy\\core\\numeric.py\u001b[0m in \u001b[0;36mones\u001b[1;34m(shape, dtype, order)\u001b[0m\n\u001b[0;32m    206\u001b[0m     \"\"\"\n\u001b[0;32m    207\u001b[0m     \u001b[0ma\u001b[0m \u001b[1;33m=\u001b[0m \u001b[0mempty\u001b[0m\u001b[1;33m(\u001b[0m\u001b[0mshape\u001b[0m\u001b[1;33m,\u001b[0m \u001b[0mdtype\u001b[0m\u001b[1;33m,\u001b[0m \u001b[0morder\u001b[0m\u001b[1;33m)\u001b[0m\u001b[1;33m\u001b[0m\u001b[1;33m\u001b[0m\u001b[0m\n\u001b[1;32m--> 208\u001b[1;33m     \u001b[0mmultiarray\u001b[0m\u001b[1;33m.\u001b[0m\u001b[0mcopyto\u001b[0m\u001b[1;33m(\u001b[0m\u001b[0ma\u001b[0m\u001b[1;33m,\u001b[0m \u001b[1;36m1\u001b[0m\u001b[1;33m,\u001b[0m \u001b[0mcasting\u001b[0m\u001b[1;33m=\u001b[0m\u001b[1;34m'unsafe'\u001b[0m\u001b[1;33m)\u001b[0m\u001b[1;33m\u001b[0m\u001b[1;33m\u001b[0m\u001b[0m\n\u001b[0m\u001b[0;32m    209\u001b[0m     \u001b[1;32mreturn\u001b[0m \u001b[0ma\u001b[0m\u001b[1;33m\u001b[0m\u001b[1;33m\u001b[0m\u001b[0m\n\u001b[0;32m    210\u001b[0m \u001b[1;33m\u001b[0m\u001b[0m\n",
      "\u001b[1;32m<__array_function__ internals>\u001b[0m in \u001b[0;36mcopyto\u001b[1;34m(*args, **kwargs)\u001b[0m\n",
      "\u001b[1;31mKeyboardInterrupt\u001b[0m: "
     ]
    }
   ],
   "source": [
    "f_reg = RandomForestRegressor()\n",
    "\n",
    "f_reg_cv = GridSearchCV(f_reg,\n",
    "                       param_grid={'n_estimators' : range(100,500,100), 'max_depth': range(2,20,2), \n",
    "                                   'min_samples_split' : range(2,5,1),\n",
    "                                  'min_samples_leaf' : range(2,5,1),\n",
    "                                  'bootstrap' : [True, False],\n",
    "                                   'max_features' : ['auto','log2','sqrt']},\n",
    "                       cv=5)\n",
    "f_reg_cv.fit(X,y)"
   ]
  },
  {
   "cell_type": "code",
   "execution_count": 388,
   "metadata": {
    "collapsed": true
   },
   "outputs": [
    {
     "ename": "AttributeError",
     "evalue": "'GridSearchCV' object has no attribute 'best_params_'",
     "output_type": "error",
     "traceback": [
      "\u001b[1;31m---------------------------------------------------------------------------\u001b[0m",
      "\u001b[1;31mAttributeError\u001b[0m                            Traceback (most recent call last)",
      "\u001b[1;32m<ipython-input-388-ec2753137e94>\u001b[0m in \u001b[0;36m<module>\u001b[1;34m\u001b[0m\n\u001b[1;32m----> 1\u001b[1;33m \u001b[0mprint\u001b[0m\u001b[1;33m(\u001b[0m\u001b[1;34mf'Tuned paramters are :{f_reg_cv.best_params_}'\u001b[0m\u001b[1;33m)\u001b[0m\u001b[1;33m\u001b[0m\u001b[1;33m\u001b[0m\u001b[0m\n\u001b[0m",
      "\u001b[1;31mAttributeError\u001b[0m: 'GridSearchCV' object has no attribute 'best_params_'"
     ]
    }
   ],
   "source": [
    "print(f'Tuned paramters are :{f_reg_cv.best_params_}')"
   ]
  },
  {
   "cell_type": "code",
   "execution_count": 389,
   "metadata": {},
   "outputs": [],
   "source": [
    "f_reg_model = RandomForestRegressor(n_estimators=100, min_samples_split=2, max_depth=9, max_features='auto', bootstrap=True,\n",
    "                                   min_samples_leaf= 4)\n",
    "\n",
    "f_reg_model.fit(X_train, y_train)\n",
    "\n",
    "f_reg_model_predict = f_reg_model.predict(X_test)"
   ]
  },
  {
   "cell_type": "code",
   "execution_count": 391,
   "metadata": {},
   "outputs": [
    {
     "name": "stdout",
     "output_type": "stream",
     "text": [
      "Training Data Score:\n",
      "The value of r^2 is: 0.7856980754983974\n",
      "The value of Adjusted-r^2  is: 0.785370896987708\n",
      "The Absolute Mean Error is : 1.4766137098135521\n",
      "Root Mean Squared error : 2.0604814207639035\n",
      "Test Data Score: \n",
      "The value of r^2 is: 0.7474434544966244\n",
      "The value of Adjusted-r^2  is: 0.7458940278370945\n",
      "The Absolute Mean Error is : 1.647020473124045\n",
      "Root Mean Squared error : 2.3055680596948984\n"
     ]
    }
   ],
   "source": [
    "print('Training Data Score:')\n",
    "evaluate_model(y_train, f_reg_model.predict(X_train))\n",
    "\n",
    "print('Test Data Score: ')\n",
    "evaluate_model(y_test,f_reg_model_predict)"
   ]
  },
  {
   "cell_type": "code",
   "execution_count": 392,
   "metadata": {},
   "outputs": [
    {
     "name": "stdout",
     "output_type": "stream",
     "text": [
      "[-5.51137752 -5.34652536 -5.2801964  -5.37201165 -5.41380564] -5.384783314848783\n"
     ]
    }
   ],
   "source": [
    "f_cv_score = cross_val_score(f_reg,X,y, cv=5, scoring='neg_mean_squared_error')\n",
    "\n",
    "print(cv_score, np.mean(cv_score))"
   ]
  },
  {
   "cell_type": "code",
   "execution_count": null,
   "metadata": {},
   "outputs": [],
   "source": []
  },
  {
   "cell_type": "code",
   "execution_count": null,
   "metadata": {},
   "outputs": [],
   "source": [
    "#Elastic-Net Regression"
   ]
  },
  {
   "cell_type": "code",
   "execution_count": 393,
   "metadata": {},
   "outputs": [],
   "source": []
  },
  {
   "cell_type": "code",
   "execution_count": 399,
   "metadata": {},
   "outputs": [],
   "source": []
  },
  {
   "cell_type": "code",
   "execution_count": 400,
   "metadata": {},
   "outputs": [],
   "source": []
  },
  {
   "cell_type": "code",
   "execution_count": 413,
   "metadata": {},
   "outputs": [
    {
     "data": {
      "text/plain": [
       "RandomizedSearchCV(cv=5, error_score=nan,\n",
       "                   estimator=ElasticNet(alpha=1.0, copy_X=True,\n",
       "                                        fit_intercept=True, l1_ratio=0.5,\n",
       "                                        max_iter=1000, normalize=False,\n",
       "                                        positive=False, precompute=False,\n",
       "                                        random_state=None, selection='cyclic',\n",
       "                                        tol=0.0001, warm_start=False),\n",
       "                   iid='deprecated', n_iter=10, n_jobs=None,\n",
       "                   param_distributions={'alpha': array([1.00000000e-04, 1.37382380e-04, 1....\n",
       "       1.61026203e-02, 2.21221629e-02, 3.03919538e-02, 4.17531894e-02,\n",
       "       5.73615251e-02, 7.88046282e-02, 1.08263673e-01, 1.48735211e-01,\n",
       "       2.04335972e-01, 2.80721620e-01, 3.85662042e-01, 5.29831691e-01,\n",
       "       7.27895384e-01, 1.00000000e+00]),\n",
       "                                        'max_iter': range(100, 1000, 100),\n",
       "                                        'normalize': [True, False]},\n",
       "                   pre_dispatch='2*n_jobs', random_state=None, refit=True,\n",
       "                   return_train_score=False, scoring='r2', verbose=0)"
      ]
     },
     "execution_count": 413,
     "metadata": {},
     "output_type": "execute_result"
    }
   ],
   "source": [
    "e_net = ElasticNet()\n",
    "\n",
    "e_net_cv = RandomizedSearchCV(e_net,\n",
    "                       param_distributions={'alpha' : np.logspace(-4,0,30),\n",
    "                                  'l1_ratio' : np.logspace(-4,0,30),\n",
    "                                  'fit_intercept' : [True,False],\n",
    "                                  'copy_X' : [True,False],\n",
    "                                  'max_iter' : range(100,1000,100),\n",
    "                                  'normalize' : [True, False]},\n",
    "                       cv=5,\n",
    "                       scoring='r2')\n",
    "e_net_cv.fit(X,y)"
   ]
  },
  {
   "cell_type": "code",
   "execution_count": 414,
   "metadata": {},
   "outputs": [
    {
     "name": "stdout",
     "output_type": "stream",
     "text": [
      "Tuned parameters are : {'normalize': False, 'max_iter': 100, 'l1_ratio': 1.0, 'fit_intercept': False, 'copy_X': True, 'alpha': 0.0006723357536499335}\n"
     ]
    }
   ],
   "source": [
    "print(f'Tuned parameters are : {e_net_cv.best_params_}')"
   ]
  },
  {
   "cell_type": "code",
   "execution_count": 415,
   "metadata": {},
   "outputs": [],
   "source": [
    "e_net_model = ElasticNet(normalize=False, max_iter=100, l1_ratio=1.0, fit_intercept=False, copy_X=True, \n",
    "                         alpha=0.0006723357536499335)\n",
    "\n",
    "e_net_model.fit(X_train,y_train)\n",
    "\n",
    "e_net_model_predict = e_net_model.predict(X_test)"
   ]
  },
  {
   "cell_type": "code",
   "execution_count": 416,
   "metadata": {},
   "outputs": [
    {
     "name": "stdout",
     "output_type": "stream",
     "text": [
      "Training Data Score:\n",
      "The value of r^2 is: 0.6801533142540983\n",
      "The value of Adjusted-r^2  is: 0.6796649987033412\n",
      "The Absolute Mean Error is : 1.8005340605586004\n",
      "Root Mean Squared error : 2.5172514213178867\n",
      "Test Data Score: \n",
      "The value of r^2 is: 0.6899074325321388\n",
      "The value of Adjusted-r^2  is: 0.6880050241427654\n",
      "The Absolute Mean Error is : 1.8405915210050163\n",
      "Root Mean Squared error : 2.5547259011626773\n",
      "[ 0.3263381   0.45726665  0.49411805  0.57972454  0.3410252   1.62954181\n",
      "  1.59932987  2.10918082  3.03225115  3.21730278  3.10547447  0.74873109\n",
      "  0.63645915  0.18833962  0.2287371   0.70698071  0.76206267  0.17698988\n",
      " 18.17250834]\n"
     ]
    }
   ],
   "source": [
    "print('Training Data Score:')\n",
    "evaluate_model(y_train, e_net_model.predict(X_train))\n",
    "\n",
    "print('Test Data Score: ')\n",
    "evaluate_model(y_test,e_net_model_predict)\n",
    "print(e_net_model.coef_)"
   ]
  },
  {
   "cell_type": "code",
   "execution_count": null,
   "metadata": {},
   "outputs": [],
   "source": []
  },
  {
   "cell_type": "code",
   "execution_count": null,
   "metadata": {},
   "outputs": [],
   "source": []
  },
  {
   "cell_type": "code",
   "execution_count": null,
   "metadata": {},
   "outputs": [],
   "source": []
  },
  {
   "cell_type": "code",
   "execution_count": null,
   "metadata": {},
   "outputs": [],
   "source": []
  },
  {
   "cell_type": "code",
   "execution_count": null,
   "metadata": {},
   "outputs": [],
   "source": [
    "#From the above implemented models the tuned random forest model gives the best results and hence can be implemented on the test data set of the project in order to predict the cab fare prices"
   ]
  },
  {
   "cell_type": "code",
   "execution_count": 545,
   "metadata": {},
   "outputs": [],
   "source": [
    "#importing the test data\n",
    "\n",
    "df_test = pd.read_csv('test.csv')"
   ]
  },
  {
   "cell_type": "code",
   "execution_count": 546,
   "metadata": {},
   "outputs": [
    {
     "data": {
      "text/html": [
       "<div>\n",
       "<style scoped>\n",
       "    .dataframe tbody tr th:only-of-type {\n",
       "        vertical-align: middle;\n",
       "    }\n",
       "\n",
       "    .dataframe tbody tr th {\n",
       "        vertical-align: top;\n",
       "    }\n",
       "\n",
       "    .dataframe thead th {\n",
       "        text-align: right;\n",
       "    }\n",
       "</style>\n",
       "<table border=\"1\" class=\"dataframe\">\n",
       "  <thead>\n",
       "    <tr style=\"text-align: right;\">\n",
       "      <th></th>\n",
       "      <th>pickup_datetime</th>\n",
       "      <th>pickup_longitude</th>\n",
       "      <th>pickup_latitude</th>\n",
       "      <th>dropoff_longitude</th>\n",
       "      <th>dropoff_latitude</th>\n",
       "      <th>passenger_count</th>\n",
       "    </tr>\n",
       "  </thead>\n",
       "  <tbody>\n",
       "    <tr>\n",
       "      <th>0</th>\n",
       "      <td>2015-01-27 13:08:24 UTC</td>\n",
       "      <td>-73.973320</td>\n",
       "      <td>40.763805</td>\n",
       "      <td>-73.981430</td>\n",
       "      <td>40.743835</td>\n",
       "      <td>1</td>\n",
       "    </tr>\n",
       "    <tr>\n",
       "      <th>1</th>\n",
       "      <td>2015-01-27 13:08:24 UTC</td>\n",
       "      <td>-73.986862</td>\n",
       "      <td>40.719383</td>\n",
       "      <td>-73.998886</td>\n",
       "      <td>40.739201</td>\n",
       "      <td>1</td>\n",
       "    </tr>\n",
       "    <tr>\n",
       "      <th>2</th>\n",
       "      <td>2011-10-08 11:53:44 UTC</td>\n",
       "      <td>-73.982524</td>\n",
       "      <td>40.751260</td>\n",
       "      <td>-73.979654</td>\n",
       "      <td>40.746139</td>\n",
       "      <td>1</td>\n",
       "    </tr>\n",
       "    <tr>\n",
       "      <th>3</th>\n",
       "      <td>2012-12-01 21:12:12 UTC</td>\n",
       "      <td>-73.981160</td>\n",
       "      <td>40.767807</td>\n",
       "      <td>-73.990448</td>\n",
       "      <td>40.751635</td>\n",
       "      <td>1</td>\n",
       "    </tr>\n",
       "    <tr>\n",
       "      <th>4</th>\n",
       "      <td>2012-12-01 21:12:12 UTC</td>\n",
       "      <td>-73.966046</td>\n",
       "      <td>40.789775</td>\n",
       "      <td>-73.988565</td>\n",
       "      <td>40.744427</td>\n",
       "      <td>1</td>\n",
       "    </tr>\n",
       "  </tbody>\n",
       "</table>\n",
       "</div>"
      ],
      "text/plain": [
       "           pickup_datetime  pickup_longitude  pickup_latitude  \\\n",
       "0  2015-01-27 13:08:24 UTC        -73.973320        40.763805   \n",
       "1  2015-01-27 13:08:24 UTC        -73.986862        40.719383   \n",
       "2  2011-10-08 11:53:44 UTC        -73.982524        40.751260   \n",
       "3  2012-12-01 21:12:12 UTC        -73.981160        40.767807   \n",
       "4  2012-12-01 21:12:12 UTC        -73.966046        40.789775   \n",
       "\n",
       "   dropoff_longitude  dropoff_latitude  passenger_count  \n",
       "0         -73.981430         40.743835                1  \n",
       "1         -73.998886         40.739201                1  \n",
       "2         -73.979654         40.746139                1  \n",
       "3         -73.990448         40.751635                1  \n",
       "4         -73.988565         40.744427                1  "
      ]
     },
     "execution_count": 546,
     "metadata": {},
     "output_type": "execute_result"
    }
   ],
   "source": [
    "df_test.head()"
   ]
  },
  {
   "cell_type": "code",
   "execution_count": 547,
   "metadata": {},
   "outputs": [],
   "source": [
    "df_final = df_test.copy()"
   ]
  },
  {
   "cell_type": "code",
   "execution_count": 506,
   "metadata": {},
   "outputs": [
    {
     "data": {
      "text/plain": [
       "1.0    6914\n",
       "2.0    1474\n",
       "5.0     696\n",
       "3.0     447\n",
       "4.0     206\n",
       "6.0     177\n",
       "Name: passenger_count, dtype: int64"
      ]
     },
     "execution_count": 506,
     "metadata": {},
     "output_type": "execute_result"
    }
   ],
   "source": [
    "df_test.passenger_count.value_counts()"
   ]
  },
  {
   "cell_type": "code",
   "execution_count": 468,
   "metadata": {},
   "outputs": [
    {
     "data": {
      "text/plain": [
       "(9914, 6)"
      ]
     },
     "execution_count": 468,
     "metadata": {},
     "output_type": "execute_result"
    }
   ],
   "source": [
    "df_test.shape"
   ]
  },
  {
   "cell_type": "code",
   "execution_count": null,
   "metadata": {},
   "outputs": [],
   "source": [
    "#Implementing all the preprocessing steps on the test set"
   ]
  },
  {
   "cell_type": "code",
   "execution_count": 481,
   "metadata": {},
   "outputs": [
    {
     "data": {
      "text/plain": [
       "pickup_datetime      0\n",
       "pickup_longitude     0\n",
       "pickup_latitude      0\n",
       "dropoff_longitude    0\n",
       "dropoff_latitude     0\n",
       "passenger_count      0\n",
       "dtype: int64"
      ]
     },
     "execution_count": 481,
     "metadata": {},
     "output_type": "execute_result"
    }
   ],
   "source": [
    "df_test.isnull().sum()"
   ]
  },
  {
   "cell_type": "code",
   "execution_count": 548,
   "metadata": {},
   "outputs": [
    {
     "data": {
      "text/plain": [
       "array([1, 2, 3, 4, 5, 6], dtype=int64)"
      ]
     },
     "execution_count": 548,
     "metadata": {},
     "output_type": "execute_result"
    }
   ],
   "source": [
    "df_test.passenger_count.unique()"
   ]
  },
  {
   "cell_type": "code",
   "execution_count": 471,
   "metadata": {},
   "outputs": [
    {
     "name": "stdout",
     "output_type": "stream",
     "text": [
      "pickup_longitude > 180 :0\n",
      "pickup_longitude < -180 :0\n",
      "pickup_latitude > 90 :0\n",
      "pickup_latitude < -90 :0\n",
      "dropoff_longitude > 180 :0\n",
      "dropoff_longitude < -180 :0\n",
      "dropoff_latitude > 90 :0\n",
      "dropoff_latitude < -90 :0\n"
     ]
    }
   ],
   "source": [
    "print('pickup_longitude > 180 :' + str(sum(df_test['pickup_longitude'] > 180)))\n",
    "print('pickup_longitude < -180 :' + str(sum(df_test['pickup_longitude'] < -180)))\n",
    "print('pickup_latitude > 90 :' + str(sum(df_test['pickup_latitude'] > 90)))\n",
    "print('pickup_latitude < -90 :' + str(sum(df_test['pickup_latitude'] < -90)))\n",
    "\n",
    "print('dropoff_longitude > 180 :' + str(sum(df_test['dropoff_longitude'] > 180)))\n",
    "print('dropoff_longitude < -180 :' + str(sum(df_test['dropoff_longitude'] < -180)))\n",
    "print('dropoff_latitude > 90 :' + str(sum(df_test['dropoff_latitude'] > 90)))\n",
    "print('dropoff_latitude < -90 :' + str(sum(df_test['dropoff_latitude'] < -90)))\n"
   ]
  },
  {
   "cell_type": "code",
   "execution_count": 549,
   "metadata": {},
   "outputs": [],
   "source": [
    "df_test['pickup_datetime'] = pd.to_datetime(df_test.pickup_datetime, errors='coerce')"
   ]
  },
  {
   "cell_type": "code",
   "execution_count": 550,
   "metadata": {},
   "outputs": [],
   "source": [
    "extract_times(df_test)"
   ]
  },
  {
   "cell_type": "code",
   "execution_count": 551,
   "metadata": {},
   "outputs": [
    {
     "data": {
      "text/html": [
       "<div>\n",
       "<style scoped>\n",
       "    .dataframe tbody tr th:only-of-type {\n",
       "        vertical-align: middle;\n",
       "    }\n",
       "\n",
       "    .dataframe tbody tr th {\n",
       "        vertical-align: top;\n",
       "    }\n",
       "\n",
       "    .dataframe thead th {\n",
       "        text-align: right;\n",
       "    }\n",
       "</style>\n",
       "<table border=\"1\" class=\"dataframe\">\n",
       "  <thead>\n",
       "    <tr style=\"text-align: right;\">\n",
       "      <th></th>\n",
       "      <th>pickup_datetime</th>\n",
       "      <th>pickup_longitude</th>\n",
       "      <th>pickup_latitude</th>\n",
       "      <th>dropoff_longitude</th>\n",
       "      <th>dropoff_latitude</th>\n",
       "      <th>passenger_count</th>\n",
       "      <th>year</th>\n",
       "      <th>month</th>\n",
       "      <th>day_of_week</th>\n",
       "      <th>hour</th>\n",
       "    </tr>\n",
       "  </thead>\n",
       "  <tbody>\n",
       "    <tr>\n",
       "      <th>0</th>\n",
       "      <td>2015-01-27 13:08:24+00:00</td>\n",
       "      <td>-73.973320</td>\n",
       "      <td>40.763805</td>\n",
       "      <td>-73.981430</td>\n",
       "      <td>40.743835</td>\n",
       "      <td>1</td>\n",
       "      <td>2015</td>\n",
       "      <td>1</td>\n",
       "      <td>1</td>\n",
       "      <td>13</td>\n",
       "    </tr>\n",
       "    <tr>\n",
       "      <th>1</th>\n",
       "      <td>2015-01-27 13:08:24+00:00</td>\n",
       "      <td>-73.986862</td>\n",
       "      <td>40.719383</td>\n",
       "      <td>-73.998886</td>\n",
       "      <td>40.739201</td>\n",
       "      <td>1</td>\n",
       "      <td>2015</td>\n",
       "      <td>1</td>\n",
       "      <td>1</td>\n",
       "      <td>13</td>\n",
       "    </tr>\n",
       "    <tr>\n",
       "      <th>2</th>\n",
       "      <td>2011-10-08 11:53:44+00:00</td>\n",
       "      <td>-73.982524</td>\n",
       "      <td>40.751260</td>\n",
       "      <td>-73.979654</td>\n",
       "      <td>40.746139</td>\n",
       "      <td>1</td>\n",
       "      <td>2011</td>\n",
       "      <td>10</td>\n",
       "      <td>5</td>\n",
       "      <td>11</td>\n",
       "    </tr>\n",
       "    <tr>\n",
       "      <th>3</th>\n",
       "      <td>2012-12-01 21:12:12+00:00</td>\n",
       "      <td>-73.981160</td>\n",
       "      <td>40.767807</td>\n",
       "      <td>-73.990448</td>\n",
       "      <td>40.751635</td>\n",
       "      <td>1</td>\n",
       "      <td>2012</td>\n",
       "      <td>12</td>\n",
       "      <td>5</td>\n",
       "      <td>21</td>\n",
       "    </tr>\n",
       "    <tr>\n",
       "      <th>4</th>\n",
       "      <td>2012-12-01 21:12:12+00:00</td>\n",
       "      <td>-73.966046</td>\n",
       "      <td>40.789775</td>\n",
       "      <td>-73.988565</td>\n",
       "      <td>40.744427</td>\n",
       "      <td>1</td>\n",
       "      <td>2012</td>\n",
       "      <td>12</td>\n",
       "      <td>5</td>\n",
       "      <td>21</td>\n",
       "    </tr>\n",
       "  </tbody>\n",
       "</table>\n",
       "</div>"
      ],
      "text/plain": [
       "            pickup_datetime  pickup_longitude  pickup_latitude  \\\n",
       "0 2015-01-27 13:08:24+00:00        -73.973320        40.763805   \n",
       "1 2015-01-27 13:08:24+00:00        -73.986862        40.719383   \n",
       "2 2011-10-08 11:53:44+00:00        -73.982524        40.751260   \n",
       "3 2012-12-01 21:12:12+00:00        -73.981160        40.767807   \n",
       "4 2012-12-01 21:12:12+00:00        -73.966046        40.789775   \n",
       "\n",
       "   dropoff_longitude  dropoff_latitude  passenger_count  year  month  \\\n",
       "0         -73.981430         40.743835                1  2015      1   \n",
       "1         -73.998886         40.739201                1  2015      1   \n",
       "2         -73.979654         40.746139                1  2011     10   \n",
       "3         -73.990448         40.751635                1  2012     12   \n",
       "4         -73.988565         40.744427                1  2012     12   \n",
       "\n",
       "   day_of_week  hour  \n",
       "0            1    13  \n",
       "1            1    13  \n",
       "2            5    11  \n",
       "3            5    21  \n",
       "4            5    21  "
      ]
     },
     "execution_count": 551,
     "metadata": {},
     "output_type": "execute_result"
    }
   ],
   "source": [
    "df_test.head()"
   ]
  },
  {
   "cell_type": "code",
   "execution_count": 552,
   "metadata": {},
   "outputs": [],
   "source": [
    "df_test['session'] = df_test['hour'].apply(cat_time)\n",
    "df_test['season'] = df_test['month'].apply(cat_seasons)\n",
    "df_test['week'] = df_test['day_of_week'].apply(cat_week)"
   ]
  },
  {
   "cell_type": "code",
   "execution_count": 553,
   "metadata": {},
   "outputs": [],
   "source": [
    "df_test['passenger_count'] = df_test['passenger_count'].astype('float64')"
   ]
  },
  {
   "cell_type": "code",
   "execution_count": 554,
   "metadata": {},
   "outputs": [
    {
     "data": {
      "text/html": [
       "<div>\n",
       "<style scoped>\n",
       "    .dataframe tbody tr th:only-of-type {\n",
       "        vertical-align: middle;\n",
       "    }\n",
       "\n",
       "    .dataframe tbody tr th {\n",
       "        vertical-align: top;\n",
       "    }\n",
       "\n",
       "    .dataframe thead th {\n",
       "        text-align: right;\n",
       "    }\n",
       "</style>\n",
       "<table border=\"1\" class=\"dataframe\">\n",
       "  <thead>\n",
       "    <tr style=\"text-align: right;\">\n",
       "      <th></th>\n",
       "      <th>pickup_datetime</th>\n",
       "      <th>pickup_longitude</th>\n",
       "      <th>pickup_latitude</th>\n",
       "      <th>dropoff_longitude</th>\n",
       "      <th>dropoff_latitude</th>\n",
       "      <th>passenger_count</th>\n",
       "      <th>year</th>\n",
       "      <th>month</th>\n",
       "      <th>day_of_week</th>\n",
       "      <th>hour</th>\n",
       "      <th>session</th>\n",
       "      <th>season</th>\n",
       "      <th>week</th>\n",
       "    </tr>\n",
       "  </thead>\n",
       "  <tbody>\n",
       "    <tr>\n",
       "      <th>0</th>\n",
       "      <td>2015-01-27 13:08:24+00:00</td>\n",
       "      <td>-73.973320</td>\n",
       "      <td>40.763805</td>\n",
       "      <td>-73.981430</td>\n",
       "      <td>40.743835</td>\n",
       "      <td>1.0</td>\n",
       "      <td>2015</td>\n",
       "      <td>1</td>\n",
       "      <td>1</td>\n",
       "      <td>13</td>\n",
       "      <td>afternoon</td>\n",
       "      <td>winter</td>\n",
       "      <td>weekday</td>\n",
       "    </tr>\n",
       "    <tr>\n",
       "      <th>1</th>\n",
       "      <td>2015-01-27 13:08:24+00:00</td>\n",
       "      <td>-73.986862</td>\n",
       "      <td>40.719383</td>\n",
       "      <td>-73.998886</td>\n",
       "      <td>40.739201</td>\n",
       "      <td>1.0</td>\n",
       "      <td>2015</td>\n",
       "      <td>1</td>\n",
       "      <td>1</td>\n",
       "      <td>13</td>\n",
       "      <td>afternoon</td>\n",
       "      <td>winter</td>\n",
       "      <td>weekday</td>\n",
       "    </tr>\n",
       "    <tr>\n",
       "      <th>2</th>\n",
       "      <td>2011-10-08 11:53:44+00:00</td>\n",
       "      <td>-73.982524</td>\n",
       "      <td>40.751260</td>\n",
       "      <td>-73.979654</td>\n",
       "      <td>40.746139</td>\n",
       "      <td>1.0</td>\n",
       "      <td>2011</td>\n",
       "      <td>10</td>\n",
       "      <td>5</td>\n",
       "      <td>11</td>\n",
       "      <td>morning</td>\n",
       "      <td>monsoon</td>\n",
       "      <td>weekend</td>\n",
       "    </tr>\n",
       "    <tr>\n",
       "      <th>3</th>\n",
       "      <td>2012-12-01 21:12:12+00:00</td>\n",
       "      <td>-73.981160</td>\n",
       "      <td>40.767807</td>\n",
       "      <td>-73.990448</td>\n",
       "      <td>40.751635</td>\n",
       "      <td>1.0</td>\n",
       "      <td>2012</td>\n",
       "      <td>12</td>\n",
       "      <td>5</td>\n",
       "      <td>21</td>\n",
       "      <td>night_PM</td>\n",
       "      <td>winter</td>\n",
       "      <td>weekend</td>\n",
       "    </tr>\n",
       "    <tr>\n",
       "      <th>4</th>\n",
       "      <td>2012-12-01 21:12:12+00:00</td>\n",
       "      <td>-73.966046</td>\n",
       "      <td>40.789775</td>\n",
       "      <td>-73.988565</td>\n",
       "      <td>40.744427</td>\n",
       "      <td>1.0</td>\n",
       "      <td>2012</td>\n",
       "      <td>12</td>\n",
       "      <td>5</td>\n",
       "      <td>21</td>\n",
       "      <td>night_PM</td>\n",
       "      <td>winter</td>\n",
       "      <td>weekend</td>\n",
       "    </tr>\n",
       "  </tbody>\n",
       "</table>\n",
       "</div>"
      ],
      "text/plain": [
       "            pickup_datetime  pickup_longitude  pickup_latitude  \\\n",
       "0 2015-01-27 13:08:24+00:00        -73.973320        40.763805   \n",
       "1 2015-01-27 13:08:24+00:00        -73.986862        40.719383   \n",
       "2 2011-10-08 11:53:44+00:00        -73.982524        40.751260   \n",
       "3 2012-12-01 21:12:12+00:00        -73.981160        40.767807   \n",
       "4 2012-12-01 21:12:12+00:00        -73.966046        40.789775   \n",
       "\n",
       "   dropoff_longitude  dropoff_latitude  passenger_count  year  month  \\\n",
       "0         -73.981430         40.743835              1.0  2015      1   \n",
       "1         -73.998886         40.739201              1.0  2015      1   \n",
       "2         -73.979654         40.746139              1.0  2011     10   \n",
       "3         -73.990448         40.751635              1.0  2012     12   \n",
       "4         -73.988565         40.744427              1.0  2012     12   \n",
       "\n",
       "   day_of_week  hour    session   season     week  \n",
       "0            1    13  afternoon   winter  weekday  \n",
       "1            1    13  afternoon   winter  weekday  \n",
       "2            5    11    morning  monsoon  weekend  \n",
       "3            5    21   night_PM   winter  weekend  \n",
       "4            5    21   night_PM   winter  weekend  "
      ]
     },
     "execution_count": 554,
     "metadata": {},
     "output_type": "execute_result"
    }
   ],
   "source": [
    "df_test.head()"
   ]
  },
  {
   "cell_type": "code",
   "execution_count": 555,
   "metadata": {},
   "outputs": [],
   "source": [
    "df_test = add_dummies(df_test)"
   ]
  },
  {
   "cell_type": "code",
   "execution_count": 556,
   "metadata": {},
   "outputs": [
    {
     "data": {
      "text/plain": [
       "Index(['pickup_datetime', 'pickup_longitude', 'pickup_latitude',\n",
       "       'dropoff_longitude', 'dropoff_latitude', 'passenger_count', 'year',\n",
       "       'month', 'day_of_week', 'hour', 'session', 'season', 'week',\n",
       "       'passenger_count_1.0', 'passenger_count_2.0', 'passenger_count_3.0',\n",
       "       'passenger_count_4.0', 'passenger_count_5.0', 'passenger_count_6.0',\n",
       "       'year_2009', 'year_2010', 'year_2011', 'year_2012', 'year_2013',\n",
       "       'year_2014', 'year_2015', 'session_afternoon', 'session_evening',\n",
       "       'session_morning', 'session_night_AM', 'session_night_PM',\n",
       "       'season_monsoon', 'season_summer', 'season_winter', 'week_weekday',\n",
       "       'week_weekend'],\n",
       "      dtype='object')"
      ]
     },
     "execution_count": 556,
     "metadata": {},
     "output_type": "execute_result"
    }
   ],
   "source": [
    "df_test.columns"
   ]
  },
  {
   "cell_type": "code",
   "execution_count": 557,
   "metadata": {},
   "outputs": [],
   "source": [
    "df_test = df_test.drop(columns = columns_to_drop, axis = 1)"
   ]
  },
  {
   "cell_type": "code",
   "execution_count": 558,
   "metadata": {},
   "outputs": [],
   "source": [
    "df_test = calc_distance(df_test)"
   ]
  },
  {
   "cell_type": "code",
   "execution_count": 560,
   "metadata": {},
   "outputs": [],
   "source": [
    "def outlier_detect_test(col):\n",
    "    q75,q25 = np.percentile(df_test.loc[:,col], [75,25])\n",
    "    iqr = q75 - q25 #interquartile range\n",
    "    min_val = q25 - (1.5*iqr)\n",
    "    max_val = q75 + (1.5*iqr)\n",
    "    \n",
    "    print(min_val,max_val)\n",
    "    #return min_val, max_val\n",
    "    \n",
    "    #assigning the outliers as nan\n",
    "    df_test.loc[df[col] < min_val, col] = np.nan\n",
    "    df_test.loc[df[col] > max_val, col] = np.nan\n"
   ]
  },
  {
   "cell_type": "code",
   "execution_count": 562,
   "metadata": {},
   "outputs": [],
   "source": [
    "df_test = standard(df_test)"
   ]
  },
  {
   "cell_type": "code",
   "execution_count": 563,
   "metadata": {},
   "outputs": [],
   "source": [
    "df_test = drop_fe_vars(df_test)"
   ]
  },
  {
   "cell_type": "code",
   "execution_count": 518,
   "metadata": {},
   "outputs": [
    {
     "data": {
      "text/html": [
       "<div>\n",
       "<style scoped>\n",
       "    .dataframe tbody tr th:only-of-type {\n",
       "        vertical-align: middle;\n",
       "    }\n",
       "\n",
       "    .dataframe tbody tr th {\n",
       "        vertical-align: top;\n",
       "    }\n",
       "\n",
       "    .dataframe thead th {\n",
       "        text-align: right;\n",
       "    }\n",
       "</style>\n",
       "<table border=\"1\" class=\"dataframe\">\n",
       "  <thead>\n",
       "    <tr style=\"text-align: right;\">\n",
       "      <th></th>\n",
       "      <th>passenger_count_2.0</th>\n",
       "      <th>passenger_count_3.0</th>\n",
       "      <th>passenger_count_4.0</th>\n",
       "      <th>passenger_count_5.0</th>\n",
       "      <th>passenger_count_6.0</th>\n",
       "      <th>year_2010</th>\n",
       "      <th>year_2011</th>\n",
       "      <th>year_2012</th>\n",
       "      <th>year_2013</th>\n",
       "      <th>year_2014</th>\n",
       "      <th>year_2015</th>\n",
       "      <th>session_evening</th>\n",
       "      <th>session_morning</th>\n",
       "      <th>session_night_AM</th>\n",
       "      <th>session_night_PM</th>\n",
       "      <th>season_summer</th>\n",
       "      <th>season_winter</th>\n",
       "      <th>week_weekend</th>\n",
       "      <th>distance_km</th>\n",
       "    </tr>\n",
       "  </thead>\n",
       "  <tbody>\n",
       "    <tr>\n",
       "      <th>0</th>\n",
       "      <td>0.0</td>\n",
       "      <td>0.0</td>\n",
       "      <td>0.0</td>\n",
       "      <td>0.0</td>\n",
       "      <td>0.0</td>\n",
       "      <td>0.0</td>\n",
       "      <td>0.0</td>\n",
       "      <td>0.0</td>\n",
       "      <td>0.0</td>\n",
       "      <td>0.0</td>\n",
       "      <td>0.0</td>\n",
       "      <td>1.0</td>\n",
       "      <td>0.0</td>\n",
       "      <td>0.0</td>\n",
       "      <td>0.0</td>\n",
       "      <td>1.0</td>\n",
       "      <td>0.0</td>\n",
       "      <td>0.0</td>\n",
       "      <td>0.130865</td>\n",
       "    </tr>\n",
       "    <tr>\n",
       "      <th>1</th>\n",
       "      <td>0.0</td>\n",
       "      <td>0.0</td>\n",
       "      <td>0.0</td>\n",
       "      <td>0.0</td>\n",
       "      <td>0.0</td>\n",
       "      <td>1.0</td>\n",
       "      <td>0.0</td>\n",
       "      <td>0.0</td>\n",
       "      <td>0.0</td>\n",
       "      <td>0.0</td>\n",
       "      <td>0.0</td>\n",
       "      <td>0.0</td>\n",
       "      <td>0.0</td>\n",
       "      <td>0.0</td>\n",
       "      <td>0.0</td>\n",
       "      <td>0.0</td>\n",
       "      <td>1.0</td>\n",
       "      <td>0.0</td>\n",
       "      <td>0.079345</td>\n",
       "    </tr>\n",
       "    <tr>\n",
       "      <th>2</th>\n",
       "      <td>1.0</td>\n",
       "      <td>0.0</td>\n",
       "      <td>0.0</td>\n",
       "      <td>0.0</td>\n",
       "      <td>0.0</td>\n",
       "      <td>0.0</td>\n",
       "      <td>1.0</td>\n",
       "      <td>0.0</td>\n",
       "      <td>0.0</td>\n",
       "      <td>0.0</td>\n",
       "      <td>0.0</td>\n",
       "      <td>0.0</td>\n",
       "      <td>0.0</td>\n",
       "      <td>1.0</td>\n",
       "      <td>0.0</td>\n",
       "      <td>0.0</td>\n",
       "      <td>0.0</td>\n",
       "      <td>0.0</td>\n",
       "      <td>0.176562</td>\n",
       "    </tr>\n",
       "    <tr>\n",
       "      <th>3</th>\n",
       "      <td>0.0</td>\n",
       "      <td>0.0</td>\n",
       "      <td>0.0</td>\n",
       "      <td>0.0</td>\n",
       "      <td>0.0</td>\n",
       "      <td>0.0</td>\n",
       "      <td>0.0</td>\n",
       "      <td>1.0</td>\n",
       "      <td>0.0</td>\n",
       "      <td>0.0</td>\n",
       "      <td>0.0</td>\n",
       "      <td>0.0</td>\n",
       "      <td>0.0</td>\n",
       "      <td>1.0</td>\n",
       "      <td>0.0</td>\n",
       "      <td>1.0</td>\n",
       "      <td>0.0</td>\n",
       "      <td>1.0</td>\n",
       "      <td>0.355351</td>\n",
       "    </tr>\n",
       "    <tr>\n",
       "      <th>4</th>\n",
       "      <td>0.0</td>\n",
       "      <td>0.0</td>\n",
       "      <td>0.0</td>\n",
       "      <td>0.0</td>\n",
       "      <td>0.0</td>\n",
       "      <td>1.0</td>\n",
       "      <td>0.0</td>\n",
       "      <td>0.0</td>\n",
       "      <td>0.0</td>\n",
       "      <td>0.0</td>\n",
       "      <td>0.0</td>\n",
       "      <td>0.0</td>\n",
       "      <td>1.0</td>\n",
       "      <td>0.0</td>\n",
       "      <td>0.0</td>\n",
       "      <td>1.0</td>\n",
       "      <td>0.0</td>\n",
       "      <td>0.0</td>\n",
       "      <td>0.253993</td>\n",
       "    </tr>\n",
       "  </tbody>\n",
       "</table>\n",
       "</div>"
      ],
      "text/plain": [
       "   passenger_count_2.0  passenger_count_3.0  passenger_count_4.0  \\\n",
       "0                  0.0                  0.0                  0.0   \n",
       "1                  0.0                  0.0                  0.0   \n",
       "2                  1.0                  0.0                  0.0   \n",
       "3                  0.0                  0.0                  0.0   \n",
       "4                  0.0                  0.0                  0.0   \n",
       "\n",
       "   passenger_count_5.0  passenger_count_6.0  year_2010  year_2011  year_2012  \\\n",
       "0                  0.0                  0.0        0.0        0.0        0.0   \n",
       "1                  0.0                  0.0        1.0        0.0        0.0   \n",
       "2                  0.0                  0.0        0.0        1.0        0.0   \n",
       "3                  0.0                  0.0        0.0        0.0        1.0   \n",
       "4                  0.0                  0.0        1.0        0.0        0.0   \n",
       "\n",
       "   year_2013  year_2014  year_2015  session_evening  session_morning  \\\n",
       "0        0.0        0.0        0.0              1.0              0.0   \n",
       "1        0.0        0.0        0.0              0.0              0.0   \n",
       "2        0.0        0.0        0.0              0.0              0.0   \n",
       "3        0.0        0.0        0.0              0.0              0.0   \n",
       "4        0.0        0.0        0.0              0.0              1.0   \n",
       "\n",
       "   session_night_AM  session_night_PM  season_summer  season_winter  \\\n",
       "0               0.0               0.0            1.0            0.0   \n",
       "1               0.0               0.0            0.0            1.0   \n",
       "2               1.0               0.0            0.0            0.0   \n",
       "3               1.0               0.0            1.0            0.0   \n",
       "4               0.0               0.0            1.0            0.0   \n",
       "\n",
       "   week_weekend  distance_km  \n",
       "0           0.0     0.130865  \n",
       "1           0.0     0.079345  \n",
       "2           0.0     0.176562  \n",
       "3           1.0     0.355351  \n",
       "4           0.0     0.253993  "
      ]
     },
     "execution_count": 518,
     "metadata": {},
     "output_type": "execute_result"
    }
   ],
   "source": [
    "X.head()"
   ]
  },
  {
   "cell_type": "code",
   "execution_count": 565,
   "metadata": {},
   "outputs": [],
   "source": [
    "for i in ['passenger_count_2.0', 'passenger_count_3.0', 'passenger_count_4.0',\n",
    "       'passenger_count_5.0', 'passenger_count_6.0', 'year_2010', 'year_2011',\n",
    "       'year_2012', 'year_2013', 'year_2014', 'year_2015', 'session_evening',\n",
    "       'session_morning', 'session_night_AM', 'session_night_PM',\n",
    "       'season_summer', 'season_winter', 'week_weekend']:\n",
    "    df_test[i] = df_test[i].astype('float64')"
   ]
  },
  {
   "cell_type": "code",
   "execution_count": 566,
   "metadata": {},
   "outputs": [
    {
     "data": {
      "text/html": [
       "<div>\n",
       "<style scoped>\n",
       "    .dataframe tbody tr th:only-of-type {\n",
       "        vertical-align: middle;\n",
       "    }\n",
       "\n",
       "    .dataframe tbody tr th {\n",
       "        vertical-align: top;\n",
       "    }\n",
       "\n",
       "    .dataframe thead th {\n",
       "        text-align: right;\n",
       "    }\n",
       "</style>\n",
       "<table border=\"1\" class=\"dataframe\">\n",
       "  <thead>\n",
       "    <tr style=\"text-align: right;\">\n",
       "      <th></th>\n",
       "      <th>passenger_count_2.0</th>\n",
       "      <th>passenger_count_3.0</th>\n",
       "      <th>passenger_count_4.0</th>\n",
       "      <th>passenger_count_5.0</th>\n",
       "      <th>passenger_count_6.0</th>\n",
       "      <th>year_2010</th>\n",
       "      <th>year_2011</th>\n",
       "      <th>year_2012</th>\n",
       "      <th>year_2013</th>\n",
       "      <th>year_2014</th>\n",
       "      <th>year_2015</th>\n",
       "      <th>session_evening</th>\n",
       "      <th>session_morning</th>\n",
       "      <th>session_night_AM</th>\n",
       "      <th>session_night_PM</th>\n",
       "      <th>season_summer</th>\n",
       "      <th>season_winter</th>\n",
       "      <th>week_weekend</th>\n",
       "      <th>distance_km</th>\n",
       "    </tr>\n",
       "  </thead>\n",
       "  <tbody>\n",
       "    <tr>\n",
       "      <th>0</th>\n",
       "      <td>0.0</td>\n",
       "      <td>0.0</td>\n",
       "      <td>0.0</td>\n",
       "      <td>0.0</td>\n",
       "      <td>0.0</td>\n",
       "      <td>0.0</td>\n",
       "      <td>0.0</td>\n",
       "      <td>0.0</td>\n",
       "      <td>0.0</td>\n",
       "      <td>0.0</td>\n",
       "      <td>1.0</td>\n",
       "      <td>0.0</td>\n",
       "      <td>0.0</td>\n",
       "      <td>0.0</td>\n",
       "      <td>0.0</td>\n",
       "      <td>0.0</td>\n",
       "      <td>1.0</td>\n",
       "      <td>0.0</td>\n",
       "      <td>0.023195</td>\n",
       "    </tr>\n",
       "    <tr>\n",
       "      <th>1</th>\n",
       "      <td>0.0</td>\n",
       "      <td>0.0</td>\n",
       "      <td>0.0</td>\n",
       "      <td>0.0</td>\n",
       "      <td>0.0</td>\n",
       "      <td>0.0</td>\n",
       "      <td>0.0</td>\n",
       "      <td>0.0</td>\n",
       "      <td>0.0</td>\n",
       "      <td>0.0</td>\n",
       "      <td>1.0</td>\n",
       "      <td>0.0</td>\n",
       "      <td>0.0</td>\n",
       "      <td>0.0</td>\n",
       "      <td>0.0</td>\n",
       "      <td>0.0</td>\n",
       "      <td>1.0</td>\n",
       "      <td>0.0</td>\n",
       "      <td>0.024223</td>\n",
       "    </tr>\n",
       "    <tr>\n",
       "      <th>2</th>\n",
       "      <td>0.0</td>\n",
       "      <td>0.0</td>\n",
       "      <td>0.0</td>\n",
       "      <td>0.0</td>\n",
       "      <td>0.0</td>\n",
       "      <td>0.0</td>\n",
       "      <td>1.0</td>\n",
       "      <td>0.0</td>\n",
       "      <td>0.0</td>\n",
       "      <td>0.0</td>\n",
       "      <td>0.0</td>\n",
       "      <td>0.0</td>\n",
       "      <td>1.0</td>\n",
       "      <td>0.0</td>\n",
       "      <td>0.0</td>\n",
       "      <td>0.0</td>\n",
       "      <td>0.0</td>\n",
       "      <td>1.0</td>\n",
       "      <td>0.006178</td>\n",
       "    </tr>\n",
       "    <tr>\n",
       "      <th>3</th>\n",
       "      <td>0.0</td>\n",
       "      <td>0.0</td>\n",
       "      <td>0.0</td>\n",
       "      <td>0.0</td>\n",
       "      <td>0.0</td>\n",
       "      <td>0.0</td>\n",
       "      <td>0.0</td>\n",
       "      <td>1.0</td>\n",
       "      <td>0.0</td>\n",
       "      <td>0.0</td>\n",
       "      <td>0.0</td>\n",
       "      <td>0.0</td>\n",
       "      <td>0.0</td>\n",
       "      <td>0.0</td>\n",
       "      <td>1.0</td>\n",
       "      <td>0.0</td>\n",
       "      <td>1.0</td>\n",
       "      <td>1.0</td>\n",
       "      <td>0.019584</td>\n",
       "    </tr>\n",
       "    <tr>\n",
       "      <th>4</th>\n",
       "      <td>0.0</td>\n",
       "      <td>0.0</td>\n",
       "      <td>0.0</td>\n",
       "      <td>0.0</td>\n",
       "      <td>0.0</td>\n",
       "      <td>0.0</td>\n",
       "      <td>0.0</td>\n",
       "      <td>1.0</td>\n",
       "      <td>0.0</td>\n",
       "      <td>0.0</td>\n",
       "      <td>0.0</td>\n",
       "      <td>0.0</td>\n",
       "      <td>0.0</td>\n",
       "      <td>0.0</td>\n",
       "      <td>1.0</td>\n",
       "      <td>0.0</td>\n",
       "      <td>1.0</td>\n",
       "      <td>1.0</td>\n",
       "      <td>0.053794</td>\n",
       "    </tr>\n",
       "  </tbody>\n",
       "</table>\n",
       "</div>"
      ],
      "text/plain": [
       "   passenger_count_2.0  passenger_count_3.0  passenger_count_4.0  \\\n",
       "0                  0.0                  0.0                  0.0   \n",
       "1                  0.0                  0.0                  0.0   \n",
       "2                  0.0                  0.0                  0.0   \n",
       "3                  0.0                  0.0                  0.0   \n",
       "4                  0.0                  0.0                  0.0   \n",
       "\n",
       "   passenger_count_5.0  passenger_count_6.0  year_2010  year_2011  year_2012  \\\n",
       "0                  0.0                  0.0        0.0        0.0        0.0   \n",
       "1                  0.0                  0.0        0.0        0.0        0.0   \n",
       "2                  0.0                  0.0        0.0        1.0        0.0   \n",
       "3                  0.0                  0.0        0.0        0.0        1.0   \n",
       "4                  0.0                  0.0        0.0        0.0        1.0   \n",
       "\n",
       "   year_2013  year_2014  year_2015  session_evening  session_morning  \\\n",
       "0        0.0        0.0        1.0              0.0              0.0   \n",
       "1        0.0        0.0        1.0              0.0              0.0   \n",
       "2        0.0        0.0        0.0              0.0              1.0   \n",
       "3        0.0        0.0        0.0              0.0              0.0   \n",
       "4        0.0        0.0        0.0              0.0              0.0   \n",
       "\n",
       "   session_night_AM  session_night_PM  season_summer  season_winter  \\\n",
       "0               0.0               0.0            0.0            1.0   \n",
       "1               0.0               0.0            0.0            1.0   \n",
       "2               0.0               0.0            0.0            0.0   \n",
       "3               0.0               1.0            0.0            1.0   \n",
       "4               0.0               1.0            0.0            1.0   \n",
       "\n",
       "   week_weekend  distance_km  \n",
       "0           0.0     0.023195  \n",
       "1           0.0     0.024223  \n",
       "2           1.0     0.006178  \n",
       "3           1.0     0.019584  \n",
       "4           1.0     0.053794  "
      ]
     },
     "execution_count": 566,
     "metadata": {},
     "output_type": "execute_result"
    }
   ],
   "source": [
    "df_test.head()"
   ]
  },
  {
   "cell_type": "code",
   "execution_count": 537,
   "metadata": {},
   "outputs": [
    {
     "data": {
      "text/html": [
       "<div>\n",
       "<style scoped>\n",
       "    .dataframe tbody tr th:only-of-type {\n",
       "        vertical-align: middle;\n",
       "    }\n",
       "\n",
       "    .dataframe tbody tr th {\n",
       "        vertical-align: top;\n",
       "    }\n",
       "\n",
       "    .dataframe thead th {\n",
       "        text-align: right;\n",
       "    }\n",
       "</style>\n",
       "<table border=\"1\" class=\"dataframe\">\n",
       "  <thead>\n",
       "    <tr style=\"text-align: right;\">\n",
       "      <th></th>\n",
       "      <th>fare_amount</th>\n",
       "      <th>passenger_count_2.0</th>\n",
       "      <th>passenger_count_3.0</th>\n",
       "      <th>passenger_count_4.0</th>\n",
       "      <th>passenger_count_5.0</th>\n",
       "      <th>passenger_count_6.0</th>\n",
       "      <th>year_2010</th>\n",
       "      <th>year_2011</th>\n",
       "      <th>year_2012</th>\n",
       "      <th>year_2013</th>\n",
       "      <th>year_2014</th>\n",
       "      <th>year_2015</th>\n",
       "      <th>session_evening</th>\n",
       "      <th>session_morning</th>\n",
       "      <th>session_night_AM</th>\n",
       "      <th>session_night_PM</th>\n",
       "      <th>season_summer</th>\n",
       "      <th>season_winter</th>\n",
       "      <th>week_weekend</th>\n",
       "      <th>distance_km</th>\n",
       "    </tr>\n",
       "  </thead>\n",
       "  <tbody>\n",
       "    <tr>\n",
       "      <th>0</th>\n",
       "      <td>4.5</td>\n",
       "      <td>0.0</td>\n",
       "      <td>0.0</td>\n",
       "      <td>0.0</td>\n",
       "      <td>0.0</td>\n",
       "      <td>0.0</td>\n",
       "      <td>0.0</td>\n",
       "      <td>0.0</td>\n",
       "      <td>0.0</td>\n",
       "      <td>0.0</td>\n",
       "      <td>0.0</td>\n",
       "      <td>0.0</td>\n",
       "      <td>1.0</td>\n",
       "      <td>0.0</td>\n",
       "      <td>0.0</td>\n",
       "      <td>0.0</td>\n",
       "      <td>1.0</td>\n",
       "      <td>0.0</td>\n",
       "      <td>0.0</td>\n",
       "      <td>0.130865</td>\n",
       "    </tr>\n",
       "    <tr>\n",
       "      <th>1</th>\n",
       "      <td>16.9</td>\n",
       "      <td>0.0</td>\n",
       "      <td>0.0</td>\n",
       "      <td>0.0</td>\n",
       "      <td>0.0</td>\n",
       "      <td>0.0</td>\n",
       "      <td>1.0</td>\n",
       "      <td>0.0</td>\n",
       "      <td>0.0</td>\n",
       "      <td>0.0</td>\n",
       "      <td>0.0</td>\n",
       "      <td>0.0</td>\n",
       "      <td>0.0</td>\n",
       "      <td>0.0</td>\n",
       "      <td>0.0</td>\n",
       "      <td>0.0</td>\n",
       "      <td>0.0</td>\n",
       "      <td>1.0</td>\n",
       "      <td>0.0</td>\n",
       "      <td>0.079345</td>\n",
       "    </tr>\n",
       "    <tr>\n",
       "      <th>2</th>\n",
       "      <td>5.7</td>\n",
       "      <td>1.0</td>\n",
       "      <td>0.0</td>\n",
       "      <td>0.0</td>\n",
       "      <td>0.0</td>\n",
       "      <td>0.0</td>\n",
       "      <td>0.0</td>\n",
       "      <td>1.0</td>\n",
       "      <td>0.0</td>\n",
       "      <td>0.0</td>\n",
       "      <td>0.0</td>\n",
       "      <td>0.0</td>\n",
       "      <td>0.0</td>\n",
       "      <td>0.0</td>\n",
       "      <td>1.0</td>\n",
       "      <td>0.0</td>\n",
       "      <td>0.0</td>\n",
       "      <td>0.0</td>\n",
       "      <td>0.0</td>\n",
       "      <td>0.176562</td>\n",
       "    </tr>\n",
       "    <tr>\n",
       "      <th>3</th>\n",
       "      <td>7.7</td>\n",
       "      <td>0.0</td>\n",
       "      <td>0.0</td>\n",
       "      <td>0.0</td>\n",
       "      <td>0.0</td>\n",
       "      <td>0.0</td>\n",
       "      <td>0.0</td>\n",
       "      <td>0.0</td>\n",
       "      <td>1.0</td>\n",
       "      <td>0.0</td>\n",
       "      <td>0.0</td>\n",
       "      <td>0.0</td>\n",
       "      <td>0.0</td>\n",
       "      <td>0.0</td>\n",
       "      <td>1.0</td>\n",
       "      <td>0.0</td>\n",
       "      <td>1.0</td>\n",
       "      <td>0.0</td>\n",
       "      <td>1.0</td>\n",
       "      <td>0.355351</td>\n",
       "    </tr>\n",
       "    <tr>\n",
       "      <th>4</th>\n",
       "      <td>5.3</td>\n",
       "      <td>0.0</td>\n",
       "      <td>0.0</td>\n",
       "      <td>0.0</td>\n",
       "      <td>0.0</td>\n",
       "      <td>0.0</td>\n",
       "      <td>1.0</td>\n",
       "      <td>0.0</td>\n",
       "      <td>0.0</td>\n",
       "      <td>0.0</td>\n",
       "      <td>0.0</td>\n",
       "      <td>0.0</td>\n",
       "      <td>0.0</td>\n",
       "      <td>1.0</td>\n",
       "      <td>0.0</td>\n",
       "      <td>0.0</td>\n",
       "      <td>1.0</td>\n",
       "      <td>0.0</td>\n",
       "      <td>0.0</td>\n",
       "      <td>0.253993</td>\n",
       "    </tr>\n",
       "  </tbody>\n",
       "</table>\n",
       "</div>"
      ],
      "text/plain": [
       "   fare_amount  passenger_count_2.0  passenger_count_3.0  passenger_count_4.0  \\\n",
       "0          4.5                  0.0                  0.0                  0.0   \n",
       "1         16.9                  0.0                  0.0                  0.0   \n",
       "2          5.7                  1.0                  0.0                  0.0   \n",
       "3          7.7                  0.0                  0.0                  0.0   \n",
       "4          5.3                  0.0                  0.0                  0.0   \n",
       "\n",
       "   passenger_count_5.0  passenger_count_6.0  year_2010  year_2011  year_2012  \\\n",
       "0                  0.0                  0.0        0.0        0.0        0.0   \n",
       "1                  0.0                  0.0        1.0        0.0        0.0   \n",
       "2                  0.0                  0.0        0.0        1.0        0.0   \n",
       "3                  0.0                  0.0        0.0        0.0        1.0   \n",
       "4                  0.0                  0.0        1.0        0.0        0.0   \n",
       "\n",
       "   year_2013  year_2014  year_2015  session_evening  session_morning  \\\n",
       "0        0.0        0.0        0.0              1.0              0.0   \n",
       "1        0.0        0.0        0.0              0.0              0.0   \n",
       "2        0.0        0.0        0.0              0.0              0.0   \n",
       "3        0.0        0.0        0.0              0.0              0.0   \n",
       "4        0.0        0.0        0.0              0.0              1.0   \n",
       "\n",
       "   session_night_AM  session_night_PM  season_summer  season_winter  \\\n",
       "0               0.0               0.0            1.0            0.0   \n",
       "1               0.0               0.0            0.0            1.0   \n",
       "2               1.0               0.0            0.0            0.0   \n",
       "3               1.0               0.0            1.0            0.0   \n",
       "4               0.0               0.0            1.0            0.0   \n",
       "\n",
       "   week_weekend  distance_km  \n",
       "0           0.0     0.130865  \n",
       "1           0.0     0.079345  \n",
       "2           0.0     0.176562  \n",
       "3           1.0     0.355351  \n",
       "4           0.0     0.253993  "
      ]
     },
     "execution_count": 537,
     "metadata": {},
     "output_type": "execute_result"
    }
   ],
   "source": [
    "df.head()"
   ]
  },
  {
   "cell_type": "code",
   "execution_count": 527,
   "metadata": {},
   "outputs": [
    {
     "data": {
      "text/plain": [
       "(9914, 19)"
      ]
     },
     "execution_count": 527,
     "metadata": {},
     "output_type": "execute_result"
    }
   ],
   "source": [
    "df_test.shape"
   ]
  },
  {
   "cell_type": "code",
   "execution_count": null,
   "metadata": {},
   "outputs": [],
   "source": []
  },
  {
   "cell_type": "code",
   "execution_count": null,
   "metadata": {},
   "outputs": [],
   "source": [
    "#Using the Random Forest Regressor model to predict the values of test data set "
   ]
  },
  {
   "cell_type": "code",
   "execution_count": 458,
   "metadata": {},
   "outputs": [
    {
     "data": {
      "text/plain": [
       "RandomizedSearchCV(cv=5, error_score=nan,\n",
       "                   estimator=RandomForestRegressor(bootstrap=True,\n",
       "                                                   ccp_alpha=0.0,\n",
       "                                                   criterion='mse',\n",
       "                                                   max_depth=None,\n",
       "                                                   max_features='auto',\n",
       "                                                   max_leaf_nodes=None,\n",
       "                                                   max_samples=None,\n",
       "                                                   min_impurity_decrease=0.0,\n",
       "                                                   min_impurity_split=None,\n",
       "                                                   min_samples_leaf=1,\n",
       "                                                   min_samples_split=2,\n",
       "                                                   min_weight_fraction_leaf=0.0,\n",
       "                                                   n_estimators=100,\n",
       "                                                   n_jobs=None, oob_score=Fals...\n",
       "                                                   warm_start=False),\n",
       "                   iid='deprecated', n_iter=10, n_jobs=None,\n",
       "                   param_distributions={'bootstrap': [True, False],\n",
       "                                        'max_depth': range(2, 20, 2),\n",
       "                                        'max_features': ['auto', 'log2',\n",
       "                                                         'sqrt'],\n",
       "                                        'min_samples_leaf': range(2, 5),\n",
       "                                        'min_samples_split': range(2, 5),\n",
       "                                        'n_estimators': range(100, 500, 100)},\n",
       "                   pre_dispatch='2*n_jobs', random_state=None, refit=True,\n",
       "                   return_train_score=False, scoring=None, verbose=0)"
      ]
     },
     "execution_count": 458,
     "metadata": {},
     "output_type": "execute_result"
    }
   ],
   "source": [
    "test_f_reg = RandomForestRegressor()\n",
    "\n",
    "test_f_reg_cv = RandomizedSearchCV(test_f_reg,\n",
    "                                  param_distributions={'n_estimators' : range(100,500,100), 'max_depth': range(2,20,2), \n",
    "                                   'min_samples_split' : range(2,5,1),\n",
    "                                  'min_samples_leaf' : range(2,5,1),\n",
    "                                  'bootstrap' : [True, False],\n",
    "                                   'max_features' : ['auto','log2','sqrt']},\n",
    "                                  cv = 5)\n",
    "test_f_reg_cv.fit(X,y)"
   ]
  },
  {
   "cell_type": "code",
   "execution_count": 528,
   "metadata": {},
   "outputs": [
    {
     "name": "stdout",
     "output_type": "stream",
     "text": [
      "Tuned parameters are: {'n_estimators': 300, 'min_samples_split': 2, 'min_samples_leaf': 4, 'max_features': 'auto', 'max_depth': 6, 'bootstrap': True}\n"
     ]
    }
   ],
   "source": [
    "print(f'Tuned parameters are: {test_f_reg_cv.best_params_}')"
   ]
  },
  {
   "cell_type": "code",
   "execution_count": 540,
   "metadata": {},
   "outputs": [
    {
     "data": {
      "text/plain": [
       "RandomForestRegressor(bootstrap=True, ccp_alpha=0.0, criterion='mse',\n",
       "                      max_depth=9, max_features='auto', max_leaf_nodes=None,\n",
       "                      max_samples=None, min_impurity_decrease=0.0,\n",
       "                      min_impurity_split=None, min_samples_leaf=4,\n",
       "                      min_samples_split=2, min_weight_fraction_leaf=0.0,\n",
       "                      n_estimators=100, n_jobs=None, oob_score=False,\n",
       "                      random_state=None, verbose=0, warm_start=False)"
      ]
     },
     "execution_count": 540,
     "metadata": {},
     "output_type": "execute_result"
    }
   ],
   "source": [
    "test_f_reg_model = RandomForestRegressor(n_estimators=100, min_samples_split=2, max_depth=9, max_features='auto', bootstrap=True,\n",
    "                                   min_samples_leaf= 4)\n",
    "\n",
    "test_f_reg_model.fit(X,y)\n"
   ]
  },
  {
   "cell_type": "code",
   "execution_count": 581,
   "metadata": {},
   "outputs": [
    {
     "name": "stdout",
     "output_type": "stream",
     "text": [
      "Training Data Score:\n",
      "The value of r^2 is: 0.7837417801947978\n",
      "The value of Adjusted-r^2  is: 0.7834777456120772\n",
      "The Absolute Mean Error is : 1.4962930362811635\n",
      "Root Mean Squared error : 2.0827978186746345\n"
     ]
    }
   ],
   "source": [
    "print('Training Data Score:')\n",
    "evaluate_model(y, test_f_reg_model.predict(X))"
   ]
  },
  {
   "cell_type": "code",
   "execution_count": 567,
   "metadata": {},
   "outputs": [],
   "source": [
    "test_f_reg_model_predict = test_f_reg_model.predict(df_test)"
   ]
  },
  {
   "cell_type": "code",
   "execution_count": 568,
   "metadata": {},
   "outputs": [
    {
     "data": {
      "text/plain": [
       "array([5.04808034, 4.95482271, 5.64716034, 5.48177097, 4.68940891,\n",
       "       4.89437196, 6.1744899 , 6.91761862, 4.36005701, 6.4430357 ,\n",
       "       5.0338339 , 4.71192896, 5.12952276, 5.99892196, 4.7690365 ,\n",
       "       4.24779233, 4.73084901, 4.69155299, 4.96761942, 4.98362998,\n",
       "       6.22443345, 5.28731038, 5.3314425 , 5.80405123, 4.73793736,\n",
       "       6.10989165, 6.09969071, 4.96624681, 6.10989165, 4.72992175,\n",
       "       4.94220315, 5.44463854, 5.89368946, 4.94220315, 5.20888369,\n",
       "       5.77709349, 6.10989165, 5.50637925, 5.77709349, 5.07494937,\n",
       "       4.83748068, 5.0244233 , 4.70182525, 5.06773302, 5.00961595,\n",
       "       4.98255986, 5.50637925, 5.34799882, 5.83912657, 5.05375029,\n",
       "       4.98263709, 5.62699925, 4.70182525, 6.10989165, 5.3314425 ,\n",
       "       4.68648108, 5.65383516, 5.0244233 , 5.86862114, 5.62727858,\n",
       "       5.3314425 , 5.08244373, 5.07494937, 5.07494937, 5.77709349,\n",
       "       5.3314425 , 5.09768141, 5.73411948, 5.00961595, 4.70730225,\n",
       "       5.35361164, 5.00961595, 4.94220315, 5.36189078, 5.0244233 ,\n",
       "       4.94220315, 7.81998785, 4.99335081, 5.09095993, 5.07494937,\n",
       "       6.10989165, 5.89368946, 5.77709349, 5.0244233 , 4.70182525,\n",
       "       5.3314425 , 5.09135098, 5.36189078, 4.63807745, 5.0244233 ,\n",
       "       5.09768141, 5.20888369, 5.33168617, 5.40046748, 5.33279424,\n",
       "       5.34160535, 4.98263709, 5.5770799 , 5.36189078, 5.09768141])"
      ]
     },
     "execution_count": 568,
     "metadata": {},
     "output_type": "execute_result"
    }
   ],
   "source": [
    "test_f_reg_model_predict[:100]"
   ]
  },
  {
   "cell_type": "code",
   "execution_count": 571,
   "metadata": {},
   "outputs": [],
   "source": [
    "df_final['Predicted_fair'] = test_f_reg_model_predict"
   ]
  },
  {
   "cell_type": "code",
   "execution_count": 575,
   "metadata": {},
   "outputs": [
    {
     "data": {
      "text/html": [
       "<div>\n",
       "<style scoped>\n",
       "    .dataframe tbody tr th:only-of-type {\n",
       "        vertical-align: middle;\n",
       "    }\n",
       "\n",
       "    .dataframe tbody tr th {\n",
       "        vertical-align: top;\n",
       "    }\n",
       "\n",
       "    .dataframe thead th {\n",
       "        text-align: right;\n",
       "    }\n",
       "</style>\n",
       "<table border=\"1\" class=\"dataframe\">\n",
       "  <thead>\n",
       "    <tr style=\"text-align: right;\">\n",
       "      <th></th>\n",
       "      <th>pickup_datetime</th>\n",
       "      <th>pickup_longitude</th>\n",
       "      <th>pickup_latitude</th>\n",
       "      <th>dropoff_longitude</th>\n",
       "      <th>dropoff_latitude</th>\n",
       "      <th>passenger_count</th>\n",
       "      <th>Predicted_fare</th>\n",
       "    </tr>\n",
       "  </thead>\n",
       "  <tbody>\n",
       "    <tr>\n",
       "      <th>0</th>\n",
       "      <td>2015-01-27 13:08:24 UTC</td>\n",
       "      <td>-73.973320</td>\n",
       "      <td>40.763805</td>\n",
       "      <td>-73.981430</td>\n",
       "      <td>40.743835</td>\n",
       "      <td>1</td>\n",
       "      <td>5.048080</td>\n",
       "    </tr>\n",
       "    <tr>\n",
       "      <th>1</th>\n",
       "      <td>2015-01-27 13:08:24 UTC</td>\n",
       "      <td>-73.986862</td>\n",
       "      <td>40.719383</td>\n",
       "      <td>-73.998886</td>\n",
       "      <td>40.739201</td>\n",
       "      <td>1</td>\n",
       "      <td>4.954823</td>\n",
       "    </tr>\n",
       "    <tr>\n",
       "      <th>2</th>\n",
       "      <td>2011-10-08 11:53:44 UTC</td>\n",
       "      <td>-73.982524</td>\n",
       "      <td>40.751260</td>\n",
       "      <td>-73.979654</td>\n",
       "      <td>40.746139</td>\n",
       "      <td>1</td>\n",
       "      <td>5.647160</td>\n",
       "    </tr>\n",
       "    <tr>\n",
       "      <th>3</th>\n",
       "      <td>2012-12-01 21:12:12 UTC</td>\n",
       "      <td>-73.981160</td>\n",
       "      <td>40.767807</td>\n",
       "      <td>-73.990448</td>\n",
       "      <td>40.751635</td>\n",
       "      <td>1</td>\n",
       "      <td>5.481771</td>\n",
       "    </tr>\n",
       "    <tr>\n",
       "      <th>4</th>\n",
       "      <td>2012-12-01 21:12:12 UTC</td>\n",
       "      <td>-73.966046</td>\n",
       "      <td>40.789775</td>\n",
       "      <td>-73.988565</td>\n",
       "      <td>40.744427</td>\n",
       "      <td>1</td>\n",
       "      <td>4.689409</td>\n",
       "    </tr>\n",
       "  </tbody>\n",
       "</table>\n",
       "</div>"
      ],
      "text/plain": [
       "           pickup_datetime  pickup_longitude  pickup_latitude  \\\n",
       "0  2015-01-27 13:08:24 UTC        -73.973320        40.763805   \n",
       "1  2015-01-27 13:08:24 UTC        -73.986862        40.719383   \n",
       "2  2011-10-08 11:53:44 UTC        -73.982524        40.751260   \n",
       "3  2012-12-01 21:12:12 UTC        -73.981160        40.767807   \n",
       "4  2012-12-01 21:12:12 UTC        -73.966046        40.789775   \n",
       "\n",
       "   dropoff_longitude  dropoff_latitude  passenger_count  Predicted_fare  \n",
       "0         -73.981430         40.743835                1        5.048080  \n",
       "1         -73.998886         40.739201                1        4.954823  \n",
       "2         -73.979654         40.746139                1        5.647160  \n",
       "3         -73.990448         40.751635                1        5.481771  \n",
       "4         -73.988565         40.744427                1        4.689409  "
      ]
     },
     "execution_count": 575,
     "metadata": {},
     "output_type": "execute_result"
    }
   ],
   "source": [
    "df_final.head()"
   ]
  },
  {
   "cell_type": "code",
   "execution_count": 576,
   "metadata": {},
   "outputs": [],
   "source": [
    "df_final.to_csv('predicted_test_fare.csv')"
   ]
  },
  {
   "cell_type": "code",
   "execution_count": 578,
   "metadata": {},
   "outputs": [],
   "source": []
  },
  {
   "cell_type": "code",
   "execution_count": 579,
   "metadata": {},
   "outputs": [
    {
     "data": {
      "text/plain": [
       "['final_random_forest_model.joblib']"
      ]
     },
     "execution_count": 579,
     "metadata": {},
     "output_type": "execute_result"
    }
   ],
   "source": [
    "joblib.dump(test_f_reg_model, 'final_random_forest_model.joblib')"
   ]
  }
 ],
 "metadata": {
  "kernelspec": {
   "display_name": "Python 3",
   "language": "python",
   "name": "python3"
  },
  "language_info": {
   "codemirror_mode": {
    "name": "ipython",
    "version": 3
   },
   "file_extension": ".py",
   "mimetype": "text/x-python",
   "name": "python",
   "nbconvert_exporter": "python",
   "pygments_lexer": "ipython3",
   "version": "3.7.3"
  }
 },
 "nbformat": 4,
 "nbformat_minor": 4
}
